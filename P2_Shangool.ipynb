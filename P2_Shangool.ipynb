{
  "cells": [
    {
      "cell_type": "code",
      "source": [
        "!gdown \"1_PhKR-1DdeOl5K5E9IV5G-tckNNq-X96\" -O \"tumor_dataset.rar\""
      ],
      "metadata": {
        "colab": {
          "base_uri": "https://localhost:8080/"
        },
        "id": "KfisMR7_fw0O",
        "outputId": "59c532d8-e031-4b24-97d0-5eee6f48b09f"
      },
      "execution_count": 1,
      "outputs": [
        {
          "output_type": "stream",
          "name": "stdout",
          "text": [
            "Downloading...\n",
            "From: https://drive.google.com/uc?id=1_PhKR-1DdeOl5K5E9IV5G-tckNNq-X96\n",
            "To: /content/tumor_dataset.rar\n",
            "100% 317M/317M [00:02<00:00, 156MB/s]\n"
          ]
        }
      ],
      "id": "KfisMR7_fw0O"
    },
    {
      "cell_type": "code",
      "source": [
        "!pip install unrar -q"
      ],
      "metadata": {
        "id": "ULIZhDnignJf"
      },
      "execution_count": 2,
      "outputs": [],
      "id": "ULIZhDnignJf"
    },
    {
      "cell_type": "code",
      "source": [
        "!rm -rf \"/content/tumor_dataset\"\n",
        "!unrar x \"tumor_dataset.rar\" &> /dev/null"
      ],
      "metadata": {
        "id": "s0op53vGgDos"
      },
      "execution_count": 3,
      "outputs": [],
      "id": "s0op53vGgDos"
    },
    {
      "cell_type": "code",
      "source": [
        "!ls -l \"/content/tumor_dataset/Glioma/\" | wc -l\n",
        "!ls -l \"/content/tumor_dataset/Meningioma\" | wc -l\n",
        "!ls -l \"/content/tumor_dataset/Pituitary/\" | wc -l"
      ],
      "metadata": {
        "colab": {
          "base_uri": "https://localhost:8080/"
        },
        "id": "oyJBRoIEh5Xj",
        "outputId": "8364efba-c628-4b9a-9263-4eaabeaf0eef"
      },
      "execution_count": 4,
      "outputs": [
        {
          "output_type": "stream",
          "name": "stdout",
          "text": [
            "1427\n",
            "709\n",
            "931\n"
          ]
        }
      ],
      "id": "oyJBRoIEh5Xj"
    },
    {
      "cell_type": "code",
      "execution_count": 5,
      "id": "5936043b",
      "metadata": {
        "id": "5936043b"
      },
      "outputs": [],
      "source": [
        "import os\n",
        "import cv2\n",
        "import numpy as np\n",
        "import matplotlib.pyplot as plt\n",
        "from sklearn.model_selection import train_test_split\n",
        "from sklearn.metrics import accuracy_score, precision_score, recall_score, f1_score, confusion_matrix, precision_recall_curve, roc_curve, auc\n",
        "import tensorflow as tf"
      ]
    },
    {
      "cell_type": "code",
      "source": [
        "# Restrict TensorFlow to only allocate GPU memory as needed\n",
        "physical_devices = tf.config.list_physical_devices('GPU')\n",
        "if physical_devices:\n",
        "    tf.config.experimental.set_memory_growth(physical_devices[0], True)\n"
      ],
      "metadata": {
        "id": "Mc-VxwB1INKw"
      },
      "id": "Mc-VxwB1INKw",
      "execution_count": 6,
      "outputs": []
    },
    {
      "cell_type": "code",
      "execution_count": 7,
      "id": "809975fb",
      "metadata": {
        "id": "809975fb"
      },
      "outputs": [],
      "source": [
        "# Define hyperparameters\n",
        "input_shape = (224, 224,3)\n",
        "num_classes = 3\n",
        "learning_rate = 0.0001\n",
        "batch_size = 32\n",
        "num_epochs = 5"
      ]
    },
    {
      "cell_type": "code",
      "execution_count": 8,
      "id": "7a0b2a4c",
      "metadata": {
        "colab": {
          "base_uri": "https://localhost:8080/"
        },
        "id": "7a0b2a4c",
        "outputId": "240d62e3-5635-461e-a38e-f52165a42552"
      },
      "outputs": [
        {
          "output_type": "stream",
          "name": "stdout",
          "text": [
            "[train_images_path] 1960 [[[0.         0.         0.        ]\n",
            "  [0.         0.         0.        ]\n",
            "  [0.         0.         0.        ]\n",
            "  ...\n",
            "  [0.00392157 0.00392157 0.00392157]\n",
            "  [0.00252101 0.00252101 0.00252101]\n",
            "  [0.00252101 0.00252101 0.00252101]]\n",
            "\n",
            " [[0.         0.         0.        ]\n",
            "  [0.         0.         0.        ]\n",
            "  [0.         0.         0.        ]\n",
            "  ...\n",
            "  [0.00392157 0.00392157 0.00392157]\n",
            "  [0.00392157 0.00392157 0.00392157]\n",
            "  [0.00392157 0.00392157 0.00392157]]\n",
            "\n",
            " [[0.         0.         0.        ]\n",
            "  [0.         0.         0.        ]\n",
            "  [0.         0.         0.        ]\n",
            "  ...\n",
            "  [0.00476191 0.00476191 0.00476191]\n",
            "  [0.00476191 0.00476191 0.00476191]\n",
            "  [0.00392157 0.00392157 0.00392157]]\n",
            "\n",
            " ...\n",
            "\n",
            " [[0.         0.         0.        ]\n",
            "  [0.         0.         0.        ]\n",
            "  [0.         0.         0.        ]\n",
            "  ...\n",
            "  [0.00868339 0.00868339 0.00868339]\n",
            "  [0.00784314 0.00784314 0.00784314]\n",
            "  [0.00476182 0.00476182 0.00476182]]\n",
            "\n",
            " [[0.         0.         0.        ]\n",
            "  [0.         0.         0.        ]\n",
            "  [0.         0.         0.        ]\n",
            "  ...\n",
            "  [0.00756297 0.00756297 0.00756297]\n",
            "  [0.00392157 0.00392157 0.00392157]\n",
            "  [0.00364141 0.00364141 0.00364141]]\n",
            "\n",
            " [[0.         0.         0.        ]\n",
            "  [0.         0.         0.        ]\n",
            "  [0.         0.         0.        ]\n",
            "  ...\n",
            "  [0.         0.         0.        ]\n",
            "  [0.         0.         0.        ]\n",
            "  [0.         0.         0.        ]]] [[[0.         0.         0.        ]\n",
            "  [0.         0.         0.        ]\n",
            "  [0.         0.         0.        ]\n",
            "  ...\n",
            "  [0.         0.         0.        ]\n",
            "  [0.         0.         0.        ]\n",
            "  [0.         0.         0.        ]]\n",
            "\n",
            " [[0.         0.         0.        ]\n",
            "  [0.         0.         0.        ]\n",
            "  [0.         0.         0.        ]\n",
            "  ...\n",
            "  [0.00364146 0.00364146 0.00364146]\n",
            "  [0.00392157 0.00392157 0.00392157]\n",
            "  [0.00392157 0.00392157 0.00392157]]\n",
            "\n",
            " [[0.         0.         0.        ]\n",
            "  [0.         0.         0.        ]\n",
            "  [0.         0.         0.        ]\n",
            "  ...\n",
            "  [0.0054221  0.0054221  0.0054221 ]\n",
            "  [0.0070028  0.0070028  0.0070028 ]\n",
            "  [0.00392157 0.00392157 0.00392157]]\n",
            "\n",
            " ...\n",
            "\n",
            " [[0.         0.         0.        ]\n",
            "  [0.00078023 0.00078023 0.00078023]\n",
            "  [0.00392157 0.00392157 0.00392157]\n",
            "  ...\n",
            "  [0.00784314 0.00784314 0.00784314]\n",
            "  [0.00784314 0.00784314 0.00784314]\n",
            "  [0.00784314 0.00784314 0.00784314]]\n",
            "\n",
            " [[0.         0.         0.        ]\n",
            "  [0.         0.         0.        ]\n",
            "  [0.         0.         0.        ]\n",
            "  ...\n",
            "  [0.00392157 0.00392157 0.00392157]\n",
            "  [0.00392157 0.00392157 0.00392157]\n",
            "  [0.00392157 0.00392157 0.00392157]]\n",
            "\n",
            " [[0.         0.         0.        ]\n",
            "  [0.         0.         0.        ]\n",
            "  [0.         0.         0.        ]\n",
            "  ...\n",
            "  [0.00392157 0.00392157 0.00392157]\n",
            "  [0.00252087 0.00252087 0.00252087]\n",
            "  [0.00252087 0.00252087 0.00252087]]]\n",
            "[train_labels] 1960 [[0. 0. 1.]\n",
            " [1. 0. 0.]\n",
            " [1. 0. 0.]\n",
            " [0. 0. 1.]\n",
            " [0. 0. 1.]\n",
            " [1. 0. 0.]\n",
            " [1. 0. 0.]\n",
            " [1. 0. 0.]\n",
            " [1. 0. 0.]\n",
            " [1. 0. 0.]] [[0. 0. 1.]\n",
            " [1. 0. 0.]\n",
            " [0. 0. 1.]\n",
            " [0. 1. 0.]\n",
            " [1. 0. 0.]\n",
            " [0. 0. 1.]\n",
            " [0. 0. 1.]\n",
            " [1. 0. 0.]\n",
            " [1. 0. 0.]\n",
            " [1. 0. 0.]]\n",
            "[test_images_path] 613 [[[0.         0.         0.        ]\n",
            "  [0.         0.         0.        ]\n",
            "  [0.         0.         0.        ]\n",
            "  ...\n",
            "  [0.00252101 0.00252101 0.00252101]\n",
            "  [0.00392157 0.00392157 0.00392157]\n",
            "  [0.00090031 0.00090031 0.00090031]]\n",
            "\n",
            " [[0.         0.         0.        ]\n",
            "  [0.         0.         0.        ]\n",
            "  [0.         0.         0.        ]\n",
            "  ...\n",
            "  [0.00778312 0.00778312 0.00778312]\n",
            "  [0.00392157 0.00392157 0.00392157]\n",
            "  [0.00392157 0.00392157 0.00392157]]\n",
            "\n",
            " [[0.         0.         0.        ]\n",
            "  [0.         0.         0.        ]\n",
            "  [0.         0.         0.        ]\n",
            "  ...\n",
            "  [0.01176471 0.01176471 0.01176471]\n",
            "  [0.00868347 0.00868347 0.00868347]\n",
            "  [0.00784314 0.00784314 0.00784314]]\n",
            "\n",
            " ...\n",
            "\n",
            " [[0.00586229 0.00586229 0.00586229]\n",
            "  [0.00476182 0.00476182 0.00476182]\n",
            "  [0.00802319 0.00802319 0.00802319]\n",
            "  ...\n",
            "  [0.00392157 0.00392157 0.00392157]\n",
            "  [0.00476182 0.00476182 0.00476182]\n",
            "  [0.00392157 0.00392157 0.00392157]]\n",
            "\n",
            " [[0.00364141 0.00364141 0.00364141]\n",
            "  [0.00364141 0.00364141 0.00364141]\n",
            "  [0.00364141 0.00364141 0.00364141]\n",
            "  ...\n",
            "  [0.00364141 0.00364141 0.00364141]\n",
            "  [0.00364141 0.00364141 0.00364141]\n",
            "  [0.         0.         0.        ]]\n",
            "\n",
            " [[0.         0.         0.        ]\n",
            "  [0.         0.         0.        ]\n",
            "  [0.         0.         0.        ]\n",
            "  ...\n",
            "  [0.         0.         0.        ]\n",
            "  [0.         0.         0.        ]\n",
            "  [0.         0.         0.        ]]] [[[0. 0. 0.]\n",
            "  [0. 0. 0.]\n",
            "  [0. 0. 0.]\n",
            "  ...\n",
            "  [0. 0. 0.]\n",
            "  [0. 0. 0.]\n",
            "  [0. 0. 0.]]\n",
            "\n",
            " [[0. 0. 0.]\n",
            "  [0. 0. 0.]\n",
            "  [0. 0. 0.]\n",
            "  ...\n",
            "  [0. 0. 0.]\n",
            "  [0. 0. 0.]\n",
            "  [0. 0. 0.]]\n",
            "\n",
            " [[0. 0. 0.]\n",
            "  [0. 0. 0.]\n",
            "  [0. 0. 0.]\n",
            "  ...\n",
            "  [0. 0. 0.]\n",
            "  [0. 0. 0.]\n",
            "  [0. 0. 0.]]\n",
            "\n",
            " ...\n",
            "\n",
            " [[0. 0. 0.]\n",
            "  [0. 0. 0.]\n",
            "  [0. 0. 0.]\n",
            "  ...\n",
            "  [0. 0. 0.]\n",
            "  [0. 0. 0.]\n",
            "  [0. 0. 0.]]\n",
            "\n",
            " [[0. 0. 0.]\n",
            "  [0. 0. 0.]\n",
            "  [0. 0. 0.]\n",
            "  ...\n",
            "  [0. 0. 0.]\n",
            "  [0. 0. 0.]\n",
            "  [0. 0. 0.]]\n",
            "\n",
            " [[0. 0. 0.]\n",
            "  [0. 0. 0.]\n",
            "  [0. 0. 0.]\n",
            "  ...\n",
            "  [0. 0. 0.]\n",
            "  [0. 0. 0.]\n",
            "  [0. 0. 0.]]]\n",
            "[test_labels] 613 [[1. 0. 0.]\n",
            " [1. 0. 0.]\n",
            " [0. 1. 0.]\n",
            " [0. 1. 0.]\n",
            " [0. 1. 0.]\n",
            " [1. 0. 0.]\n",
            " [0. 1. 0.]\n",
            " [1. 0. 0.]\n",
            " [0. 0. 1.]\n",
            " [0. 0. 1.]] [[0. 1. 0.]\n",
            " [0. 1. 0.]\n",
            " [1. 0. 0.]\n",
            " [1. 0. 0.]\n",
            " [0. 0. 1.]\n",
            " [0. 1. 0.]\n",
            " [1. 0. 0.]\n",
            " [1. 0. 0.]\n",
            " [0. 0. 1.]\n",
            " [0. 0. 1.]]\n",
            "[val_images] 491 [[[0.         0.         0.        ]\n",
            "  [0.         0.         0.        ]\n",
            "  [0.         0.         0.        ]\n",
            "  ...\n",
            "  [0.         0.         0.        ]\n",
            "  [0.         0.         0.        ]\n",
            "  [0.         0.         0.        ]]\n",
            "\n",
            " [[0.00364146 0.00364146 0.00364146]\n",
            "  [0.00364146 0.00364146 0.00364146]\n",
            "  [0.00678271 0.00678271 0.00678271]\n",
            "  ...\n",
            "  [0.00756303 0.00756303 0.00756303]\n",
            "  [0.00702276 0.00702276 0.00702276]\n",
            "  [0.00364146 0.00364146 0.00364146]]\n",
            "\n",
            " [[0.00476191 0.00476191 0.00476191]\n",
            "  [0.00868347 0.00868347 0.00868347]\n",
            "  [0.01176471 0.01176471 0.01176471]\n",
            "  ...\n",
            "  [0.01176471 0.01176471 0.01176471]\n",
            "  [0.00862344 0.00862344 0.00862344]\n",
            "  [0.00784314 0.00784314 0.00784314]]\n",
            "\n",
            " ...\n",
            "\n",
            " [[0.00674267 0.00674267 0.00674267]\n",
            "  [0.01232485 0.01232485 0.01232485]\n",
            "  [0.0124249  0.0124249  0.0124249 ]\n",
            "  ...\n",
            "  [0.00886342 0.00886342 0.00886342]\n",
            "  [0.00868339 0.00868339 0.00868339]\n",
            "  [0.00476182 0.00476182 0.00476182]]\n",
            "\n",
            " [[0.         0.         0.        ]\n",
            "  [0.         0.         0.        ]\n",
            "  [0.         0.         0.        ]\n",
            "  ...\n",
            "  [0.         0.         0.        ]\n",
            "  [0.         0.         0.        ]\n",
            "  [0.         0.         0.        ]]\n",
            "\n",
            " [[0.         0.         0.        ]\n",
            "  [0.         0.         0.        ]\n",
            "  [0.         0.         0.        ]\n",
            "  ...\n",
            "  [0.         0.         0.        ]\n",
            "  [0.         0.         0.        ]\n",
            "  [0.         0.         0.        ]]] [[[0.         0.         0.        ]\n",
            "  [0.         0.         0.        ]\n",
            "  [0.         0.         0.        ]\n",
            "  ...\n",
            "  [0.         0.         0.        ]\n",
            "  [0.         0.         0.        ]\n",
            "  [0.         0.         0.        ]]\n",
            "\n",
            " [[0.         0.         0.        ]\n",
            "  [0.00338135 0.00338135 0.00338135]\n",
            "  [0.00364146 0.00364146 0.00364146]\n",
            "  ...\n",
            "  [0.00364146 0.00364146 0.00364146]\n",
            "  [0.00364146 0.00364146 0.00364146]\n",
            "  [0.         0.         0.        ]]\n",
            "\n",
            " [[0.00392157 0.00392157 0.00392157]\n",
            "  [0.00756303 0.00756303 0.00756303]\n",
            "  [0.00784314 0.00784314 0.00784314]\n",
            "  ...\n",
            "  [0.00784314 0.00784314 0.00784314]\n",
            "  [0.00784314 0.00784314 0.00784314]\n",
            "  [0.00392157 0.00392157 0.00392157]]\n",
            "\n",
            " ...\n",
            "\n",
            " [[0.00868339 0.00868339 0.00868339]\n",
            "  [0.01394533 0.01394533 0.01394533]\n",
            "  [0.01886722 0.01886722 0.01886722]\n",
            "  ...\n",
            "  [0.01886724 0.01886724 0.01886724]\n",
            "  [0.018147   0.018147   0.018147  ]\n",
            "  [0.01176471 0.01176471 0.01176471]]\n",
            "\n",
            " [[0.         0.         0.        ]\n",
            "  [0.         0.         0.        ]\n",
            "  [0.         0.         0.        ]\n",
            "  ...\n",
            "  [0.         0.         0.        ]\n",
            "  [0.         0.         0.        ]\n",
            "  [0.         0.         0.        ]]\n",
            "\n",
            " [[0.         0.         0.        ]\n",
            "  [0.         0.         0.        ]\n",
            "  [0.         0.         0.        ]\n",
            "  ...\n",
            "  [0.         0.         0.        ]\n",
            "  [0.         0.         0.        ]\n",
            "  [0.         0.         0.        ]]]\n",
            "[val_labels] 491 [[0. 0. 1.]\n",
            " [0. 1. 0.]\n",
            " [1. 0. 0.]\n",
            " [0. 0. 1.]\n",
            " [0. 0. 1.]\n",
            " [1. 0. 0.]\n",
            " [0. 0. 1.]\n",
            " [0. 1. 0.]\n",
            " [1. 0. 0.]\n",
            " [0. 0. 1.]] [[1. 0. 0.]\n",
            " [1. 0. 0.]\n",
            " [1. 0. 0.]\n",
            " [0. 1. 0.]\n",
            " [1. 0. 0.]\n",
            " [1. 0. 0.]\n",
            " [0. 0. 1.]\n",
            " [0. 0. 1.]\n",
            " [0. 0. 1.]\n",
            " [0. 0. 1.]]\n"
          ]
        }
      ],
      "source": [
        "# dataset path and image size\n",
        "# dataset_path = \"/content/drive/MyDrive/brain_tumor_dataset/\"\n",
        "dataset_path = \"/content/tumor_dataset\"\n",
        "\n",
        "\n",
        "# Load and preprocess the dataset\n",
        "classes = [\"Glioma\", \"Meningioma\", \"Pituitary\"]\n",
        "images = []\n",
        "labels = []\n",
        "\n",
        "for i, class_name in enumerate(classes):\n",
        "    class_path = os.path.join(dataset_path, class_name)\n",
        "    image_files = os.listdir(class_path)\n",
        "\n",
        "    for image_file in image_files:\n",
        "        image_path = os.path.join(class_path, image_file)\n",
        "        image = tf.io.read_file(image_path)\n",
        "        image = tf.image.decode_bmp(image, channels=3)\n",
        "        image = tf.image.resize(image, input_shape[:2])  # Resize to input_shape\n",
        "        image = tf.cast(image, tf.float32) / 255.0  # Normalize\n",
        "        images.append(image)\n",
        "        labels.append(i)\n",
        "\n",
        "images = np.array(images)\n",
        "labels = np.array(labels)\n",
        "\n",
        "# Create train-test split\n",
        "train_images, test_images, train_labels, test_labels = train_test_split(images, labels, test_size=0.2, stratify=labels, random_state=42)\n",
        "train_images, val_images, train_labels, val_labels = train_test_split(train_images, train_labels, test_size=0.2, random_state=42)\n",
        "\n",
        "# Convert labels to categorical format\n",
        "train_labels = tf.keras.utils.to_categorical(train_labels, num_classes)\n",
        "val_labels = tf.keras.utils.to_categorical(val_labels, num_classes)\n",
        "test_labels = tf.keras.utils.to_categorical(test_labels, num_classes)\n",
        "\n",
        "# Create TensorFlow datasets\n",
        "train_dataset = tf.data.Dataset.from_tensor_slices((train_images, train_labels)).batch(batch_size)\n",
        "val_dataset = tf.data.Dataset.from_tensor_slices((val_images, val_labels)).batch(batch_size)\n",
        "test_dataset = tf.data.Dataset.from_tensor_slices((test_images, test_labels)).batch(batch_size)\n",
        "\n",
        "print('[train_images_path]', len(train_images), train_images[0], train_images[-1])\n",
        "print('[train_labels]', len(train_labels), train_labels[:10], train_labels[-10:])\n",
        "print('[test_images_path]', len(test_images), test_images[0], test_images[-1])\n",
        "print('[test_labels]', len(test_labels), test_labels[:10], test_labels[-10:])\n",
        "print('[val_images]', len(val_images), val_images[0], val_images[-1])\n",
        "print('[val_labels]', len(val_labels), val_labels[:10], val_labels[-10:])"
      ]
    },
    {
      "cell_type": "code",
      "execution_count": 9,
      "id": "b647aa3b",
      "metadata": {
        "id": "b647aa3b"
      },
      "outputs": [],
      "source": [
        "def AlexNet(input_shape, num_classes):\n",
        "    model = tf.keras.Sequential([\n",
        "        tf.keras.layers.Conv2D(96, kernel_size=(11, 11), strides=(4, 4), activation='relu', input_shape=input_shape),\n",
        "        tf.keras.layers.BatchNormalization(),\n",
        "        tf.keras.layers.MaxPooling2D(pool_size=(3, 3), strides=(2, 2)),\n",
        "        tf.keras.layers.Conv2D(256, kernel_size=(5, 5), activation='relu', padding='same'),\n",
        "        tf.keras.layers.BatchNormalization(),\n",
        "        tf.keras.layers.MaxPooling2D(pool_size=(3, 3), strides=(2, 2)),\n",
        "        tf.keras.layers.Conv2D(384, kernel_size=(3, 3), activation='relu', padding='same'),\n",
        "        tf.keras.layers.Conv2D(384, kernel_size=(3, 3), activation='relu', padding='same'),\n",
        "        tf.keras.layers.Conv2D(256, kernel_size=(3, 3), activation='relu', padding='same'),\n",
        "        tf.keras.layers.MaxPooling2D(pool_size=(3, 3), strides=(2, 2)),\n",
        "        tf.keras.layers.Flatten(),\n",
        "        tf.keras.layers.Dense(4096, activation='relu'),\n",
        "        tf.keras.layers.Dropout(0.5),\n",
        "        tf.keras.layers.Dense(4096, activation='relu'),\n",
        "        tf.keras.layers.Dropout(0.5),\n",
        "        tf.keras.layers.Dense(num_classes, activation='softmax')\n",
        "    ])\n",
        "    return model\n",
        "\n"
      ]
    },
    {
      "cell_type": "code",
      "execution_count": 10,
      "id": "00148b5d",
      "metadata": {
        "id": "00148b5d"
      },
      "outputs": [],
      "source": [
        "# Create an instance of the AlexNet model\n",
        "model = AlexNet(input_shape, num_classes)\n",
        "\n",
        "# Compile the model\n",
        "model.compile(optimizer=tf.keras.optimizers.Adam(learning_rate=learning_rate),\n",
        "              loss=tf.keras.losses.CategoricalCrossentropy(),\n",
        "              metrics=['accuracy'])"
      ]
    },
    {
      "cell_type": "code",
      "execution_count": 11,
      "id": "fa970be2",
      "metadata": {
        "id": "fa970be2",
        "colab": {
          "base_uri": "https://localhost:8080/"
        },
        "outputId": "1a9bb808-bffa-4184-9528-2781f3885c53"
      },
      "outputs": [
        {
          "output_type": "stream",
          "name": "stdout",
          "text": [
            "Epoch 1/5\n",
            "62/62 [==============================] - 20s 69ms/step - loss: 0.9149 - accuracy: 0.6347 - val_loss: 0.9963 - val_accuracy: 0.6986\n",
            "Epoch 2/5\n",
            "62/62 [==============================] - 3s 48ms/step - loss: 0.5300 - accuracy: 0.7628 - val_loss: 0.9490 - val_accuracy: 0.6802\n",
            "Epoch 3/5\n",
            "62/62 [==============================] - 3s 54ms/step - loss: 0.4269 - accuracy: 0.8122 - val_loss: 0.9086 - val_accuracy: 0.5703\n",
            "Epoch 4/5\n",
            "62/62 [==============================] - 3s 56ms/step - loss: 0.3578 - accuracy: 0.8403 - val_loss: 0.9327 - val_accuracy: 0.5275\n",
            "Epoch 5/5\n",
            "62/62 [==============================] - 3s 51ms/step - loss: 0.2836 - accuracy: 0.8791 - val_loss: 0.4862 - val_accuracy: 0.7923\n"
          ]
        },
        {
          "output_type": "execute_result",
          "data": {
            "text/plain": [
              "<keras.callbacks.History at 0x79a57c683cd0>"
            ]
          },
          "metadata": {},
          "execution_count": 11
        }
      ],
      "source": [
        "# Train the model\n",
        "model.fit(train_dataset, epochs=num_epochs, validation_data=val_dataset)\n"
      ]
    },
    {
      "cell_type": "code",
      "execution_count": 12,
      "id": "d61979dd",
      "metadata": {
        "id": "d61979dd",
        "colab": {
          "base_uri": "https://localhost:8080/"
        },
        "outputId": "f1b0c433-76f7-4fd8-c502-3295e943a22e"
      },
      "outputs": [
        {
          "output_type": "stream",
          "name": "stdout",
          "text": [
            "20/20 [==============================] - 1s 37ms/step - loss: 0.5241 - accuracy: 0.8042\n",
            "Test Loss: 0.5241\n",
            "Test Accuracy: 0.8042\n"
          ]
        }
      ],
      "source": [
        "# Evaluate the model\n",
        "test_loss, test_accuracy = model.evaluate(test_images, test_labels)\n",
        "print(f\"Test Loss: {test_loss:.4f}\")\n",
        "print(f\"Test Accuracy: {test_accuracy:.4f}\")"
      ]
    },
    {
      "cell_type": "code",
      "execution_count": 13,
      "id": "18085aeb",
      "metadata": {
        "id": "18085aeb",
        "colab": {
          "base_uri": "https://localhost:8080/"
        },
        "outputId": "177b06a3-7a6e-434c-e6ce-cd210e19ba9a"
      },
      "outputs": [
        {
          "output_type": "stream",
          "name": "stdout",
          "text": [
            "20/20 [==============================] - 1s 23ms/step\n"
          ]
        }
      ],
      "source": [
        "test_predictions = model.predict(test_images)\n",
        "\n"
      ]
    },
    {
      "cell_type": "code",
      "source": [
        "predicted_labels = np.argmax(test_predictions, axis=1)"
      ],
      "metadata": {
        "id": "j2MzKhwzfIeT"
      },
      "id": "j2MzKhwzfIeT",
      "execution_count": 14,
      "outputs": []
    },
    {
      "cell_type": "code",
      "execution_count": 15,
      "id": "e24768fe",
      "metadata": {
        "id": "e24768fe",
        "colab": {
          "base_uri": "https://localhost:8080/"
        },
        "outputId": "e532e06b-aa6a-419e-dac9-c48e3ff9ccc6"
      },
      "outputs": [
        {
          "output_type": "stream",
          "name": "stdout",
          "text": [
            "20/20 [==============================] - 0s 19ms/step\n"
          ]
        }
      ],
      "source": [
        "test_probs = model.predict(test_images)"
      ]
    },
    {
      "cell_type": "code",
      "source": [
        "# Calculate precision, recall, and F1-score for each class\n",
        "Accuracy= accuracy_score(test_labels.argmax(axis=1),predicted_labels)\n",
        "precision_per_class = precision_score(test_labels.argmax(axis=1), predicted_labels, average=None)\n",
        "recall_per_class = recall_score(test_labels.argmax(axis=1), predicted_labels, average=None)\n",
        "f1_per_class = f1_score(test_labels.argmax(axis=1), predicted_labels, average=None)\n",
        "\n",
        "for class_idx, class_name in enumerate(classes):\n",
        "    print(f\"Class: {class_name}\")\n",
        "    print(f\"Accuracy: {Accuracy}\")\n",
        "    print(f\"Precision: {precision_per_class[class_idx]}\")\n",
        "    print(f\"Recall: {recall_per_class[class_idx]}\")\n",
        "    print(f\"F1-score: {f1_per_class[class_idx]}\")\n",
        "    print()"
      ],
      "metadata": {
        "colab": {
          "base_uri": "https://localhost:8080/"
        },
        "id": "h1f2eHDafQBG",
        "outputId": "c4785249-2950-4083-d2cc-47100ddf0934"
      },
      "id": "h1f2eHDafQBG",
      "execution_count": 20,
      "outputs": [
        {
          "output_type": "stream",
          "name": "stdout",
          "text": [
            "Class: Glioma\n",
            "Accuracy: 0.8042414355628059\n",
            "Precision: 0.7755102040816326\n",
            "Recall: 0.9333333333333333\n",
            "F1-score: 0.8471337579617835\n",
            "\n",
            "Class: Meningioma\n",
            "Accuracy: 0.8042414355628059\n",
            "Precision: 0.9787234042553191\n",
            "Recall: 0.323943661971831\n",
            "F1-score: 0.48677248677248686\n",
            "\n",
            "Class: Pituitary\n",
            "Accuracy: 0.8042414355628059\n",
            "Precision: 0.8116591928251121\n",
            "Recall: 0.9731182795698925\n",
            "F1-score: 0.8850855745721272\n",
            "\n"
          ]
        }
      ]
    },
    {
      "cell_type": "code",
      "execution_count": 21,
      "id": "b9c1adce",
      "metadata": {
        "id": "b9c1adce",
        "colab": {
          "base_uri": "https://localhost:8080/",
          "height": 564
        },
        "outputId": "2a4bc9d4-890f-408f-b8ce-6bc2642f42a2"
      },
      "outputs": [
        {
          "output_type": "display_data",
          "data": {
            "text/plain": [
              "<Figure size 800x600 with 1 Axes>"
            ],
            "image/png": "[encoded data removed]"
          },
          "metadata": {}
        }
      ],
      "source": [
        "from sklearn.metrics import precision_recall_curve\n",
        "\n",
        "\n",
        "# Compute precision and recall for each class\n",
        "precisions = dict()\n",
        "recalls = dict()\n",
        "for i in range(num_classes):\n",
        "    class_probs = test_probs[:, i]\n",
        "    precision, recall, _ = precision_recall_curve(test_labels[:, i], class_probs)\n",
        "    precisions[i] = precision\n",
        "    recalls[i] = recall\n",
        "\n",
        "# Plot the precision-recall curves for each class\n",
        "plt.figure(figsize=(8, 6))\n",
        "for i in range(num_classes):\n",
        "    plt.plot(recalls[i], precisions[i], label=classes[i])\n",
        "plt.title(\"Precision-Recall Curve\")\n",
        "plt.xlabel(\"Recall\")\n",
        "plt.ylabel(\"Precision\")\n",
        "plt.legend()\n",
        "plt.show()\n"
      ]
    },
    {
      "cell_type": "code",
      "execution_count": 22,
      "id": "5e3319d4",
      "metadata": {
        "id": "5e3319d4",
        "colab": {
          "base_uri": "https://localhost:8080/",
          "height": 564
        },
        "outputId": "745d377c-fcdb-4c13-99ac-2073ff0c6087"
      },
      "outputs": [
        {
          "output_type": "display_data",
          "data": {
            "text/plain": [
              "<Figure size 800x600 with 1 Axes>"
            ],
            "image/png": "[encoded data removed]"
          },
          "metadata": {}
        }
      ],
      "source": [
        "from sklearn.metrics import roc_curve, auc\n",
        "from itertools import cycle\n",
        "\n",
        "\n",
        "\n",
        "# Compute ROC curve and ROC area for each class\n",
        "fpr = dict()\n",
        "tpr = dict()\n",
        "roc_auc = dict()\n",
        "for i in range(num_classes):\n",
        "    fpr[i], tpr[i], _ = roc_curve(test_labels[:, i], test_probs[:, i])\n",
        "    roc_auc[i] = auc(fpr[i], tpr[i])\n",
        "\n",
        "# Plot the ROC curves for each class\n",
        "plt.figure(figsize=(8, 6))\n",
        "colors = cycle(['blue', 'red', 'green'])\n",
        "for i, color in zip(range(num_classes), colors):\n",
        "    plt.plot(fpr[i], tpr[i], color=color, lw=2,\n",
        "             label=f'{classes[i]} (AUC = {roc_auc[i]:.2f})')\n",
        "\n",
        "plt.plot([0, 1], [0, 1], color='black', lw=2, linestyle='--')\n",
        "plt.xlim([0.0, 1.0])\n",
        "plt.ylim([0.0, 1.05])\n",
        "plt.xlabel('False Positive Rate')\n",
        "plt.ylabel('True Positive Rate')\n",
        "plt.title('ROC Curve')\n",
        "plt.legend(loc='lower right')\n",
        "plt.show()\n"
      ]
    },
    {
      "cell_type": "code",
      "execution_count": 23,
      "id": "32782368",
      "metadata": {
        "id": "32782368",
        "colab": {
          "base_uri": "https://localhost:8080/"
        },
        "outputId": "99eaa0a7-e422-4eb0-d3da-c38b7cbd9ff7"
      },
      "outputs": [
        {
          "output_type": "stream",
          "name": "stdout",
          "text": [
            "Confusion Matrix:\n",
            "[[266   1  18]\n",
            " [ 72  46  24]\n",
            " [  5   0 181]]\n"
          ]
        }
      ],
      "source": [
        "from sklearn.metrics import confusion_matrix\n",
        "import seaborn as sns\n",
        "\n",
        "\n",
        "# Compute confusion matrix\n",
        "cm = confusion_matrix(np.argmax(test_labels, axis=1), predicted_labels)\n",
        "\n",
        "print(\"Confusion Matrix:\")\n",
        "print(cm)"
      ]
    }
  ],
  "metadata": {
    "kernelspec": {
      "display_name": "Python 3",
      "name": "python3"
    },
    "language_info": {
      "codemirror_mode": {
        "name": "ipython",
        "version": 3
      },
      "file_extension": ".py",
      "mimetype": "text/x-python",
      "name": "python",
      "nbconvert_exporter": "python",
      "pygments_lexer": "ipython3",
      "version": "3.7.9"
    },
    "vscode": {
      "interpreter": {
        "hash": "f6c3fe0f35ac205adeee3d33d4d27f45ea8735944f6bcc7cc4d72c9672a115a8"
      }
    },
    "colab": {
      "provenance": [],
      "gpuType": "T4"
    },
    "accelerator": "GPU"
  },
  "nbformat": 4,
  "nbformat_minor": 5
}