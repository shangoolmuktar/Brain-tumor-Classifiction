{
  "cells": [
    {
      "cell_type": "markdown",
      "metadata": {
        "id": "uXvgDq-c9yzt"
      },
      "source": [
        "# Install Dataset"
      ]
    },
    {
      "cell_type": "code",
      "execution_count": 23,
      "metadata": {
        "colab": {
          "base_uri": "https://localhost:8080/"
        },
        "id": "KfisMR7_fw0O",
        "outputId": "f2cb6820-8eea-4919-80af-87af3281a2f0"
      },
      "outputs": [
        {
          "output_type": "stream",
          "name": "stdout",
          "text": [
            "Downloading...\n",
            "From: https://drive.google.com/uc?id=1_PhKR-1DdeOl5K5E9IV5G-tckNNq-X96\n",
            "To: /content/tumor_dataset.rar\n",
            "100% 317M/317M [00:01<00:00, 178MB/s]\n"
          ]
        }
      ],
      "source": [
        "!gdown \"1_PhKR-1DdeOl5K5E9IV5G-tckNNq-X96\" -O \"tumor_dataset.rar\""
      ]
    },
    {
      "cell_type": "code",
      "execution_count": 24,
      "metadata": {
        "id": "ULIZhDnignJf"
      },
      "outputs": [],
      "source": [
        "!pip install unrar -q"
      ]
    },
    {
      "cell_type": "code",
      "execution_count": 25,
      "metadata": {
        "id": "s0op53vGgDos"
      },
      "outputs": [],
      "source": [
        "!rm -rf \"/content/tumor_dataset\"\n",
        "!unrar x \"tumor_dataset.rar\" &> /dev/null"
      ]
    },
    {
      "cell_type": "code",
      "execution_count": 26,
      "metadata": {
        "colab": {
          "base_uri": "https://localhost:8080/"
        },
        "id": "oyJBRoIEh5Xj",
        "outputId": "1bbf7793-2064-4591-903c-3bd2d2ea6d33"
      },
      "outputs": [
        {
          "output_type": "stream",
          "name": "stdout",
          "text": [
            "1427\n",
            "709\n",
            "931\n"
          ]
        }
      ],
      "source": [
        "!ls -l \"/content/tumor_dataset/Glioma/\" | wc -l\n",
        "!ls -l \"/content/tumor_dataset/Meningioma\" | wc -l\n",
        "!ls -l \"/content/tumor_dataset/Pituitary/\" | wc -l"
      ]
    },
    {
      "cell_type": "markdown",
      "metadata": {
        "id": "RZJ4sw7h93Ud"
      },
      "source": [
        "# Imports"
      ]
    },
    {
      "cell_type": "code",
      "execution_count": 27,
      "metadata": {
        "colab": {
          "base_uri": "https://localhost:8080/"
        },
        "id": "KBvWcm36caB3",
        "outputId": "0af918a6-533e-4426-8751-be1649255fe1"
      },
      "outputs": [
        {
          "output_type": "stream",
          "name": "stdout",
          "text": [
            "[device] cuda\n"
          ]
        }
      ],
      "source": [
        "import os\n",
        "import cv2\n",
        "import numpy as np\n",
        "import matplotlib.pyplot as plt\n",
        "\n",
        "from tqdm import tqdm\n",
        "\n",
        "from sklearn.model_selection import KFold, StratifiedKFold, train_test_split\n",
        "from sklearn.metrics import accuracy_score, precision_score, recall_score, f1_score, confusion_matrix, precision_recall_curve, roc_curve, auc\n",
        "\n",
        "import torch\n",
        "import torch.nn as nn\n",
        "import torch.optim as optim\n",
        "import torchvision.models as models\n",
        "from torch.utils.data import Dataset, DataLoader\n",
        "\n",
        "# Enable GPU if available\n",
        "device = torch.device(\"cuda\") if torch.cuda.is_available() else torch.device(\"cpu\")\n",
        "print('[device]', device)\n"
      ]
    },
    {
      "cell_type": "markdown",
      "metadata": {
        "id": "LK1RcamS94zj"
      },
      "source": [
        "# Setup Dataset"
      ]
    },
    {
      "cell_type": "code",
      "execution_count": 28,
      "metadata": {
        "colab": {
          "base_uri": "https://localhost:8080/"
        },
        "id": "gh5ym8I7homT",
        "outputId": "9261b3d6-938d-4061-9032-56021bb52a7c"
      },
      "outputs": [
        {
          "output_type": "stream",
          "name": "stdout",
          "text": [
            "[images_path] 3064 /content/tumor_dataset/Glioma/2.0---MR024780G-i2279.bmp /content/tumor_dataset/Pituitary/3.0---97461-i1400.bmp\n",
            "[labels] 3064 [0 0 0 0 0 0 0 0 0 0] [2 2 2 2 2 2 2 2 2 2]\n",
            "[train_images_path] 2451 /content/tumor_dataset/Glioma/2.0---MR024780G-i2885.bmp /content/tumor_dataset/Glioma/2.0---MR051796-i2574.bmp\n",
            "[train_labels] 2451 [0 0 0 0 0 1 2 0 0 0] [0 2 2 2 0 1 1 2 2 0]\n",
            "[test_images_path] 613 /content/tumor_dataset/Glioma/2.0---MR051586-i2929.bmp /content/tumor_dataset/Pituitary/3.0---103671-i1325.bmp\n",
            "[test_labels] 613 [0 0 1 1 1 0 1 0 2 2] [1 1 0 0 2 1 0 0 2 2]\n"
          ]
        }
      ],
      "source": [
        "# dataset path and image size\n",
        "# dataset_path = \"/content/drive/MyDrive/brain_tumor_dataset/\"\n",
        "dataset_path = \"/content/tumor_dataset\"\n",
        "image_size = (224, 224)\n",
        "# Load and preprocess the dataset\n",
        "classes = [\"Glioma\", \"Meningioma\", \"Pituitary\"]\n",
        "\n",
        "images_path = []\n",
        "labels = []\n",
        "for i, class_name in enumerate(classes):\n",
        "    class_path = os.path.join(dataset_path, class_name)\n",
        "    image_files = os.listdir(class_path)\n",
        "\n",
        "    for image_file in image_files:\n",
        "        image_path = os.path.join(class_path, image_file)\n",
        "        images_path.append(image_path)\n",
        "        labels.append(i)\n",
        "\n",
        "# Convert the lists to numpy arrays\n",
        "images_path = np.array(images_path)\n",
        "labels = np.array(labels)\n",
        "\n",
        "print('[images_path]', len(images_path), images_path[0], images_path[-1])\n",
        "print('[labels]', len(labels), labels[:10], labels[-10:])\n",
        "\n",
        "# Create the train-test split\n",
        "train_images_path, test_images_path, train_labels, test_labels = train_test_split(images_path, labels, test_size=0.2, stratify=labels, random_state=42)\n",
        "\n",
        "print('[train_images_path]', len(train_images_path), train_images_path[0], train_images_path[-1])\n",
        "print('[train_labels]', len(train_labels), train_labels[:10], train_labels[-10:])\n",
        "print('[test_images_path]', len(test_images_path), test_images_path[0], test_images_path[-1])\n",
        "print('[test_labels]', len(test_labels), test_labels[:10], test_labels[-10:])\n"
      ]
    },
    {
      "cell_type": "code",
      "execution_count": 29,
      "metadata": {
        "id": "Ama4kWSkf_FI"
      },
      "outputs": [],
      "source": [
        "class BrainTumorDataset(Dataset):\n",
        "    def __init__(self, images_path, labels):\n",
        "        self.images_path = images_path\n",
        "        self.labels = labels\n",
        "\n",
        "    def __len__(self):\n",
        "        return len(self.images_path)\n",
        "\n",
        "    def __getitem__(self, idx):\n",
        "        # get image path\n",
        "        image_path = self.images_path[idx]\n",
        "        # get image label\n",
        "        label = self.labels[idx]\n",
        "        # read actual image\n",
        "        image = cv2.imread(image_path)\n",
        "        # resize image\n",
        "        image = cv2.resize(image, image_size)\n",
        "        # convert to RGB format\n",
        "        image = cv2.cvtColor(image, cv2.COLOR_BGR2RGB)\n",
        "        # convert to pytorch tensor\n",
        "        image = torch.from_numpy(image)\n",
        "        # normalize for better performance\n",
        "        image = image / 255\n",
        "        # reorder according to pytorch requirements\n",
        "        image = image.permute((2, 0, 1))\n",
        "        return image, label\n"
      ]
    },
    {
      "cell_type": "markdown",
      "metadata": {
        "id": "EBt_TJsM972n"
      },
      "source": [
        "# Define Common Functions"
      ]
    },
    {
      "cell_type": "code",
      "execution_count": 30,
      "metadata": {
        "id": "INASnB33uZE3"
      },
      "outputs": [],
      "source": [
        "def training_loop(train_loader, val_loader, model, optimizer, criterion, epochs, fold, device):\n",
        "    # Lists to store metrics for this fold\n",
        "    train_losses = []\n",
        "    train_accuracies = []\n",
        "    val_losses = []\n",
        "    val_accuracies = []\n",
        "    val_predictions = []\n",
        "    val_probs = []\n",
        "\n",
        "    # Training loop for this fold\n",
        "    for epoch in range(epochs):\n",
        "        #################\n",
        "        # TRAINING PART #\n",
        "        #################\n",
        "        model.train()\n",
        "        running_loss = 0.0\n",
        "        correct_predictions = 0\n",
        "        total_train_samples = len(train_loader.dataset)\n",
        "\n",
        "        for idx, (images, labels) in tqdm(enumerate(train_loader), total=len(train_loader)):\n",
        "            images, labels = images.to(device), labels.to(device)\n",
        "            optimizer.zero_grad()\n",
        "            outputs = model(images)\n",
        "            loss = criterion(outputs, labels)\n",
        "            loss.backward()\n",
        "            optimizer.step()\n",
        "            running_loss += loss.item() * len(labels)\n",
        "            _, predicted = torch.max(outputs.data, 1)\n",
        "            correct_predictions += sum(predicted == labels)\n",
        "\n",
        "        average_accuracy = correct_predictions / total_train_samples\n",
        "        average_loss = running_loss / total_train_samples\n",
        "        print(f\"[train][Fold {fold + 1}][Epoch {epoch + 1}]: Loss {average_loss}, Accuracy: {average_accuracy}\")\n",
        "        train_accuracies.append(average_accuracy.item())\n",
        "        train_losses.append(average_loss)\n",
        "\n",
        "        ###################\n",
        "        # VALIDATION PART #\n",
        "        ###################\n",
        "        model.eval()\n",
        "        val_loss = 0.0\n",
        "        correct_val_predictions = 0\n",
        "\n",
        "        total_val_samples = len(val_loader.dataset)\n",
        "\n",
        "        with torch.no_grad():\n",
        "            for idx, (images, labels) in tqdm(enumerate(val_loader), total=len(val_loader)):\n",
        "                images, labels = images.to(device), labels.to(device)\n",
        "                outputs = model(images)\n",
        "                loss = criterion(outputs, labels)\n",
        "                val_loss += loss.item()\n",
        "                _, predicted = torch.max(outputs.data, 1)\n",
        "                correct_val_predictions += sum(predicted == labels)\n",
        "\n",
        "\n",
        "        average_val_accuracy = correct_val_predictions / total_val_samples\n",
        "        average_val_loss = val_loss / total_val_samples\n",
        "        print(f\"[valid][Fold {fold + 1}][Epoch {epoch + 1}]: Loss {average_val_loss}, Accuracy: {average_val_accuracy}\")\n",
        "        val_accuracies.append(average_val_accuracy.item())\n",
        "        val_losses.append(average_val_loss)\n",
        "\n",
        "\n",
        "\n",
        "    model.train()\n",
        "\n",
        "    return train_accuracies, train_losses, val_accuracies, val_losses\n"
      ]
    },
    {
      "cell_type": "code",
      "execution_count": 31,
      "metadata": {
        "id": "gP3s0wdjv-qW"
      },
      "outputs": [],
      "source": [
        "def plot_macro_roc_curve(fprs, tprs, aucs):\n",
        "    plt.figure()\n",
        "    colors = ['red', 'green', 'blue']\n",
        "    for i in range(len(fprs)):\n",
        "        plt.plot(fprs[i], tprs[i], color=colors[i], lw=2, label=f'Class {i} (AUC = {aucs[i]:.2f})')\n",
        "    plt.plot([0, 1], [0, 1], color='gray', lw=2, linestyle='--')\n",
        "    plt.xlim([0.0, 1.0])\n",
        "    plt.ylim([0.0, 1.05])\n",
        "    plt.xlabel('False Positive Rate')\n",
        "    plt.ylabel('True Positive Rate')\n",
        "    plt.title('Macro-averaged ROC Curve')\n",
        "    plt.legend(loc='lower right')\n",
        "    plt.show()\n",
        "\n",
        "def plot_macro_precision_recall_curve(precisions, recalls):\n",
        "    plt.figure()\n",
        "    colors = ['red', 'green', 'blue']\n",
        "    for i in range(len(precisions)):\n",
        "        plt.plot(recalls[i], precisions[i], color=colors[i], lw=2, label=f'Class {i}')\n",
        "    plt.xlabel('Recall')\n",
        "    plt.ylabel('Precision')\n",
        "    plt.ylim([0.0, 1.05])\n",
        "    plt.xlim([0.0, 1.0])\n",
        "    plt.title('Macro-averaged Precision-Recall Curve')\n",
        "    plt.legend(loc='lower left')\n",
        "    plt.show()\n"
      ]
    },
    {
      "cell_type": "code",
      "execution_count": 32,
      "metadata": {
        "id": "s3aYXsNjwDNL"
      },
      "outputs": [],
      "source": [
        "import torch.nn.functional as F\n",
        "import pandas as pd\n",
        "\n",
        "\n",
        "def extract_features(loader, model, device):\n",
        "\n",
        "    model.eval()\n",
        "    features_list = []\n",
        "    labels_list = []\n",
        "\n",
        "    def hook(model, input, output):\n",
        "        features_list.append(output.detach().cpu().numpy())\n",
        "\n",
        "    h = model.classifier[7].register_forward_hook(hook)\n",
        "\n",
        "    with torch.no_grad():\n",
        "        for images, labels in loader:\n",
        "            images = images.to(device)\n",
        "            outputs = model(images)\n",
        "            labels_list.append(labels.cpu().numpy())\n",
        "\n",
        "    h.remove()\n",
        "\n",
        "    features_array = np.concatenate(features_list, axis=0)\n",
        "    labels_array = np.concatenate(labels_list, axis=0)\n",
        "    print('[features_array]', features_array.shape)\n",
        "    print('[labels_array]', labels_array.shape)\n",
        "\n",
        "    return features_array, labels_array\n"
      ]
    },
    {
      "cell_type": "code",
      "execution_count": 33,
      "metadata": {
        "id": "ww5NbFi8wXB8"
      },
      "outputs": [],
      "source": [
        "def kfold_training_loop(train_images_path, train_labels, test_images_path, test_labels, num_folds=5, epochs_per_fold=5, batch_size=32):\n",
        "\n",
        "    kf = StratifiedKFold(n_splits=num_folds, shuffle=True, random_state=42)\n",
        "\n",
        "    # Lists to store metrics for each fold\n",
        "    train_accuracies_list = []\n",
        "    train_losses_list = []\n",
        "    val_accuracies_list = []\n",
        "    val_losses_list = []\n",
        "\n",
        "\n",
        "\n",
        "    # Training loop with k-fold cross-validation\n",
        "    for fold, (train_index, val_index) in enumerate(kf.split(train_images_path, train_labels)):\n",
        "        print(f\"Fold {fold + 1}/{num_folds}\")\n",
        "\n",
        "        # Create the train-validation split for this fold\n",
        "        train_images_path_fold = train_images_path[train_index]\n",
        "        train_labels_fold = train_labels[train_index]\n",
        "        val_images_path_fold = train_images_path[val_index]\n",
        "        val_labels_fold = train_labels[val_index]\n",
        "\n",
        "\n",
        "        train_dataset = BrainTumorDataset(images_path=train_images_path_fold, labels=train_labels_fold)\n",
        "        val_dataset = BrainTumorDataset(images_path=val_images_path_fold, labels=val_labels_fold)\n",
        "\n",
        "        train_loader = DataLoader(train_dataset, batch_size=batch_size, shuffle=True)\n",
        "        val_loader = DataLoader(val_dataset, batch_size=2*batch_size, shuffle=False)\n",
        "\n",
        "        # Load the pre-trained AlexNet model for each fold\n",
        "        alexnet = models.alexnet(weights=models.AlexNet_Weights.DEFAULT)\n",
        "        alexnet.classifier[6] = nn.Dropout(0.5)\n",
        "        alexnet.classifier.append(nn.Linear(4096, 64))\n",
        "        alexnet.classifier.append(nn.ReLU(inplace=True))\n",
        "        alexnet.classifier.append(nn.Linear(64, 3))\n",
        "        alexnet.to(device)\n",
        "\n",
        "        # Define the loss function\n",
        "        criterion = nn.CrossEntropyLoss()\n",
        "\n",
        "        # Define the optimizer, added some good practices\n",
        "        optimizer = optim.Adam(alexnet.parameters(), lr=0.0001, weight_decay=0.005, amsgrad=True)\n",
        "\n",
        "        fold_train_accuracies, fold_train_losses, fold_val_accuracies, fold_val_losses = training_loop(\n",
        "            train_loader=train_loader,\n",
        "            val_loader=val_loader,\n",
        "            model=alexnet,\n",
        "            optimizer=optimizer,\n",
        "            criterion=criterion,\n",
        "            epochs=epochs_per_fold,\n",
        "            fold=fold,\n",
        "            device=device\n",
        "        )\n",
        "\n",
        "        train_accuracies_list.append(fold_train_accuracies)\n",
        "        train_losses_list.append(fold_train_losses)\n",
        "        val_accuracies_list.append(fold_val_accuracies)\n",
        "        val_losses_list.append(fold_val_losses)\n",
        "\n",
        "        # Calculate the average metrics for all folds\n",
        "        avg_train_accuracies = np.mean(fold_train_accuracies, axis=0)\n",
        "        avg_train_losses = np.mean(fold_train_losses, axis=0)\n",
        "        avg_val_accuracies = np.mean(fold_val_accuracies, axis=0)\n",
        "        avg_val_losses = np.mean(fold_val_losses, axis=0)\n",
        "\n",
        "\n",
        "\n",
        "    # Evaluate the model on test set\n",
        "    alexnet.eval()\n",
        "    test_predictions = []\n",
        "    test_probs = []\n",
        "    test_dataset = BrainTumorDataset(images_path=test_images_path, labels=test_labels)\n",
        "    test_loader = DataLoader(test_dataset, batch_size=2*batch_size, shuffle=False)\n",
        "\n",
        "    with torch.no_grad():\n",
        "        for images, labels in test_loader:\n",
        "            images = images.to(device)\n",
        "            outputs = alexnet(images)\n",
        "            _, predicted = torch.max(outputs, 1)\n",
        "            test_predictions.append(predicted.cpu().numpy())\n",
        "            test_probs.append(torch.softmax(outputs, dim=1).detach().cpu().numpy())\n",
        "    # test_predictions_list.append(test_predictions)\n",
        "    test_predictions = np.concatenate(test_predictions, axis=0)\n",
        "    test_probs = np.concatenate(test_probs, axis=0)\n",
        "    accuracy = accuracy_score(test_labels, test_predictions)\n",
        "    precision = precision_score(test_labels, test_predictions, average=None, zero_division=0)\n",
        "    recall = recall_score(test_labels, test_predictions, average=None)\n",
        "    f1 = f1_score(test_labels, test_predictions, average=None)\n",
        "    confusion_metrics = confusion_matrix(test_labels, test_predictions)\n",
        "\n",
        "    print(\"[test] Overall Evaluation Metrics:\")\n",
        "    print(f\"Accuracy: {accuracy}\")\n",
        "    print(f\"Precision: {precision}\")\n",
        "    print(f\"Recall: {recall}\")\n",
        "    print(f\"F1 Score: {f1}\")\n",
        "    print(f\"Confusion_metrics:{confusion_metrics}\")\n",
        "\n",
        "\n",
        "\n",
        "    # Calculate ROC curve and AUC for each class\n",
        "    fprs = []\n",
        "    tprs = []\n",
        "    aucs = []\n",
        "    for i in range(3):\n",
        "        fpr, tpr, _ = roc_curve(test_labels == i, test_probs[:, i])\n",
        "        roc_auc = auc(fpr, tpr)\n",
        "        fprs.append(fpr)\n",
        "        tprs.append(tpr)\n",
        "        aucs.append(roc_auc)\n",
        "\n",
        "    # Calculate Precision-Recall curve for each class\n",
        "    precisions = []\n",
        "    recalls = []\n",
        "    for i in range(3):\n",
        "        precision, recall, _ = precision_recall_curve(test_labels == i, test_probs[:, i])\n",
        "        precisions.append(precision)\n",
        "        recalls.append(recall)\n",
        "\n",
        "    # Plot macro-averaged ROC curve and Precision-Recall curve\n",
        "    plot_macro_roc_curve(fprs, tprs, aucs)\n",
        "    plot_macro_precision_recall_curve(precisions, recalls)\n",
        "\n",
        "    # Print overall confusion matrix\n",
        "    overall_confusion_matrix = confusion_matrix(test_labels, test_predictions)\n",
        "    print(\"Overall Confusion Matrix:\")\n",
        "    print(overall_confusion_matrix)\n",
        "\n",
        "    # Train Dataset Feature Extraction\n",
        "    train_dataset = BrainTumorDataset(images_path=train_images_path, labels=train_labels)\n",
        "    train_loader = DataLoader(train_dataset, batch_size=2*batch_size, shuffle=False)\n",
        "    train_features, train_labels = extract_features(train_loader, alexnet, device)\n",
        "    # Convert lists to arrays\n",
        "    train_features = np.array(train_features)\n",
        "    train_labels_list = np.array(train_labels)\n",
        "\n",
        "\n",
        "    # Test Dataset Feature Extraction\n",
        "    test_dataset = BrainTumorDataset(images_path=test_images_path, labels=test_labels)\n",
        "    test_loader = DataLoader(test_dataset, batch_size=2*batch_size, shuffle=False)\n",
        "    test_features, test_labels = extract_features(test_loader, alexnet, device)\n",
        "# Convert lists to arrays\n",
        "    test_features = np.array(test_features)\n",
        "    test_labels_list = np.array(test_labels)\n",
        "\n",
        "\n",
        "# Create dataframes for training and testing features with labels\n",
        "    train_data = pd.DataFrame(data=train_features)\n",
        "    train_data[\"label\"] = train_labels_list\n",
        "    test_data = pd.DataFrame(data=test_features)\n",
        "    test_data[\"label\"] = test_labels_list\n",
        "\n",
        "    # Save training and testing data to CSV files\n",
        "    train_data.to_csv(\"train_features.csv\", index=False)\n",
        "    test_data.to_csv(\"test_features.csv\", index=False)"
      ]
    },
    {
      "cell_type": "code",
      "execution_count": 34,
      "metadata": {
        "colab": {
          "base_uri": "https://localhost:8080/",
          "height": 1000
        },
        "id": "89At1dkrwiwh",
        "outputId": "9810128a-fa5c-48bc-b31d-cc01defbec03"
      },
      "outputs": [
        {
          "output_type": "stream",
          "name": "stdout",
          "text": [
            "Fold 1/5\n"
          ]
        },
        {
          "output_type": "stream",
          "name": "stderr",
          "text": [
            "100%|██████████| 4/4 [00:04<00:00,  1.08s/it]\n"
          ]
        },
        {
          "output_type": "stream",
          "name": "stdout",
          "text": [
            "[train][Fold 1][Epoch 1]: Loss 1.057714932062188, Accuracy: 0.43316325545310974\n"
          ]
        },
        {
          "output_type": "stream",
          "name": "stderr",
          "text": [
            "100%|██████████| 1/1 [00:00<00:00,  1.30it/s]\n"
          ]
        },
        {
          "output_type": "stream",
          "name": "stdout",
          "text": [
            "[valid][Fold 1][Epoch 1]: Loss 0.0017231035135428434, Accuracy: 0.6761711239814758\n"
          ]
        },
        {
          "output_type": "stream",
          "name": "stderr",
          "text": [
            "100%|██████████| 4/4 [00:06<00:00,  1.54s/it]\n"
          ]
        },
        {
          "output_type": "stream",
          "name": "stdout",
          "text": [
            "[train][Fold 1][Epoch 2]: Loss 0.7861758796536192, Accuracy: 0.6780611872673035\n"
          ]
        },
        {
          "output_type": "stream",
          "name": "stderr",
          "text": [
            "100%|██████████| 1/1 [00:01<00:00,  1.35s/it]\n"
          ]
        },
        {
          "output_type": "stream",
          "name": "stdout",
          "text": [
            "[valid][Fold 1][Epoch 2]: Loss 0.001128902260494815, Accuracy: 0.7902240753173828\n"
          ]
        },
        {
          "output_type": "stream",
          "name": "stderr",
          "text": [
            "100%|██████████| 4/4 [00:07<00:00,  1.78s/it]\n"
          ]
        },
        {
          "output_type": "stream",
          "name": "stdout",
          "text": [
            "[train][Fold 1][Epoch 3]: Loss 0.5214854638187253, Accuracy: 0.7877550721168518\n"
          ]
        },
        {
          "output_type": "stream",
          "name": "stderr",
          "text": [
            "100%|██████████| 1/1 [00:01<00:00,  1.76s/it]\n"
          ]
        },
        {
          "output_type": "stream",
          "name": "stdout",
          "text": [
            "[valid][Fold 1][Epoch 3]: Loss 0.0008442454692545345, Accuracy: 0.8207739591598511\n"
          ]
        },
        {
          "output_type": "stream",
          "name": "stderr",
          "text": [
            "100%|██████████| 4/4 [00:06<00:00,  1.57s/it]\n"
          ]
        },
        {
          "output_type": "stream",
          "name": "stdout",
          "text": [
            "[train][Fold 1][Epoch 4]: Loss 0.40759961033354, Accuracy: 0.827551007270813\n"
          ]
        },
        {
          "output_type": "stream",
          "name": "stderr",
          "text": [
            "100%|██████████| 1/1 [00:01<00:00,  1.13s/it]\n"
          ]
        },
        {
          "output_type": "stream",
          "name": "stdout",
          "text": [
            "[valid][Fold 1][Epoch 4]: Loss 0.0007265782526214351, Accuracy: 0.8574338555335999\n"
          ]
        },
        {
          "output_type": "stream",
          "name": "stderr",
          "text": [
            "100%|██████████| 4/4 [00:05<00:00,  1.42s/it]\n"
          ]
        },
        {
          "output_type": "stream",
          "name": "stdout",
          "text": [
            "[train][Fold 1][Epoch 5]: Loss 0.3440289681055108, Accuracy: 0.8581632375717163\n"
          ]
        },
        {
          "output_type": "stream",
          "name": "stderr",
          "text": [
            "100%|██████████| 1/1 [00:00<00:00,  1.03it/s]\n"
          ]
        },
        {
          "output_type": "stream",
          "name": "stdout",
          "text": [
            "[valid][Fold 1][Epoch 5]: Loss 0.000679320388316137, Accuracy: 0.8615071773529053\n",
            "Fold 2/5\n"
          ]
        },
        {
          "output_type": "stream",
          "name": "stderr",
          "text": [
            "100%|██████████| 4/4 [00:03<00:00,  1.00it/s]\n"
          ]
        },
        {
          "output_type": "stream",
          "name": "stdout",
          "text": [
            "[train][Fold 2][Epoch 1]: Loss 1.0173078656257384, Accuracy: 0.4910759925842285\n"
          ]
        },
        {
          "output_type": "stream",
          "name": "stderr",
          "text": [
            "100%|██████████| 1/1 [00:00<00:00,  1.35it/s]\n"
          ]
        },
        {
          "output_type": "stream",
          "name": "stdout",
          "text": [
            "[valid][Fold 2][Epoch 1]: Loss 0.001632951595345322, Accuracy: 0.7040815949440002\n"
          ]
        },
        {
          "output_type": "stream",
          "name": "stderr",
          "text": [
            "100%|██████████| 4/4 [00:04<00:00,  1.10s/it]\n"
          ]
        },
        {
          "output_type": "stream",
          "name": "stdout",
          "text": [
            "[train][Fold 2][Epoch 2]: Loss 0.7396000219449166, Accuracy: 0.7042325735092163\n"
          ]
        },
        {
          "output_type": "stream",
          "name": "stderr",
          "text": [
            "100%|██████████| 1/1 [00:00<00:00,  1.34it/s]\n"
          ]
        },
        {
          "output_type": "stream",
          "name": "stdout",
          "text": [
            "[valid][Fold 2][Epoch 2]: Loss 0.0010571013907996975, Accuracy: 0.7877550721168518\n"
          ]
        },
        {
          "output_type": "stream",
          "name": "stderr",
          "text": [
            "100%|██████████| 4/4 [00:03<00:00,  1.02it/s]\n"
          ]
        },
        {
          "output_type": "stream",
          "name": "stdout",
          "text": [
            "[train][Fold 2][Epoch 3]: Loss 0.5110239495068774, Accuracy: 0.7873534560203552\n"
          ]
        },
        {
          "output_type": "stream",
          "name": "stderr",
          "text": [
            "100%|██████████| 1/1 [00:00<00:00,  1.19it/s]\n"
          ]
        },
        {
          "output_type": "stream",
          "name": "stdout",
          "text": [
            "[valid][Fold 2][Epoch 3]: Loss 0.0006600058808618663, Accuracy: 0.8673468828201294\n"
          ]
        },
        {
          "output_type": "stream",
          "name": "stderr",
          "text": [
            "100%|██████████| 4/4 [00:03<00:00,  1.00it/s]\n"
          ]
        },
        {
          "output_type": "stream",
          "name": "stdout",
          "text": [
            "[train][Fold 2][Epoch 4]: Loss 0.38732497647123515, Accuracy: 0.8373279571533203\n"
          ]
        },
        {
          "output_type": "stream",
          "name": "stderr",
          "text": [
            "100%|██████████| 1/1 [00:01<00:00,  1.02s/it]\n"
          ]
        },
        {
          "output_type": "stream",
          "name": "stdout",
          "text": [
            "[valid][Fold 2][Epoch 4]: Loss 0.0005476768527712141, Accuracy: 0.8836734294891357\n"
          ]
        },
        {
          "output_type": "stream",
          "name": "stderr",
          "text": [
            "100%|██████████| 4/4 [00:04<00:00,  1.04s/it]\n"
          ]
        },
        {
          "output_type": "stream",
          "name": "stdout",
          "text": [
            "[train][Fold 2][Epoch 5]: Loss 0.32942434081552224, Accuracy: 0.8592554926872253\n"
          ]
        },
        {
          "output_type": "stream",
          "name": "stderr",
          "text": [
            "100%|██████████| 1/1 [00:00<00:00,  1.33it/s]\n"
          ]
        },
        {
          "output_type": "stream",
          "name": "stdout",
          "text": [
            "[valid][Fold 2][Epoch 5]: Loss 0.0004954622108109143, Accuracy: 0.8918367028236389\n",
            "Fold 3/5\n"
          ]
        },
        {
          "output_type": "stream",
          "name": "stderr",
          "text": [
            "100%|██████████| 4/4 [00:03<00:00,  1.01it/s]\n"
          ]
        },
        {
          "output_type": "stream",
          "name": "stdout",
          "text": [
            "[train][Fold 3][Epoch 1]: Loss 0.9890268638935216, Accuracy: 0.5186129808425903\n"
          ]
        },
        {
          "output_type": "stream",
          "name": "stderr",
          "text": [
            "100%|██████████| 1/1 [00:00<00:00,  1.13it/s]\n"
          ]
        },
        {
          "output_type": "stream",
          "name": "stdout",
          "text": [
            "[valid][Fold 3][Epoch 1]: Loss 0.001463312153913537, Accuracy: 0.7367346882820129\n"
          ]
        },
        {
          "output_type": "stream",
          "name": "stderr",
          "text": [
            "100%|██████████| 4/4 [00:04<00:00,  1.09s/it]\n"
          ]
        },
        {
          "output_type": "stream",
          "name": "stdout",
          "text": [
            "[train][Fold 3][Epoch 2]: Loss 0.6502698965974756, Accuracy: 0.7434982657432556\n"
          ]
        },
        {
          "output_type": "stream",
          "name": "stderr",
          "text": [
            "100%|██████████| 1/1 [00:00<00:00,  1.33it/s]\n"
          ]
        },
        {
          "output_type": "stream",
          "name": "stdout",
          "text": [
            "[valid][Fold 3][Epoch 2]: Loss 0.0010318462945977035, Accuracy: 0.7836734056472778\n"
          ]
        },
        {
          "output_type": "stream",
          "name": "stderr",
          "text": [
            "100%|██████████| 4/4 [00:03<00:00,  1.01it/s]\n"
          ]
        },
        {
          "output_type": "stream",
          "name": "stdout",
          "text": [
            "[train][Fold 3][Epoch 3]: Loss 0.4283602099404051, Accuracy: 0.8184599876403809\n"
          ]
        },
        {
          "output_type": "stream",
          "name": "stderr",
          "text": [
            "100%|██████████| 1/1 [00:00<00:00,  1.30it/s]\n"
          ]
        },
        {
          "output_type": "stream",
          "name": "stdout",
          "text": [
            "[valid][Fold 3][Epoch 3]: Loss 0.0007749837272021235, Accuracy: 0.8285713791847229\n"
          ]
        },
        {
          "output_type": "stream",
          "name": "stderr",
          "text": [
            "100%|██████████| 4/4 [00:04<00:00,  1.08s/it]\n"
          ]
        },
        {
          "output_type": "stream",
          "name": "stdout",
          "text": [
            "[train][Fold 3][Epoch 4]: Loss 0.3452278252373782, Accuracy: 0.8577256798744202\n"
          ]
        },
        {
          "output_type": "stream",
          "name": "stderr",
          "text": [
            "100%|██████████| 1/1 [00:00<00:00,  1.16it/s]\n"
          ]
        },
        {
          "output_type": "stream",
          "name": "stdout",
          "text": [
            "[valid][Fold 3][Epoch 4]: Loss 0.000708075932094029, Accuracy: 0.8591836094856262\n"
          ]
        },
        {
          "output_type": "stream",
          "name": "stderr",
          "text": [
            "100%|██████████| 4/4 [00:03<00:00,  1.01it/s]\n"
          ]
        },
        {
          "output_type": "stream",
          "name": "stdout",
          "text": [
            "[train][Fold 3][Epoch 5]: Loss 0.29973012096477003, Accuracy: 0.8867924809455872\n"
          ]
        },
        {
          "output_type": "stream",
          "name": "stderr",
          "text": [
            "100%|██████████| 1/1 [00:00<00:00,  1.34it/s]\n"
          ]
        },
        {
          "output_type": "stream",
          "name": "stdout",
          "text": [
            "[valid][Fold 3][Epoch 5]: Loss 0.0006834899284401719, Accuracy: 0.8489795327186584\n",
            "Fold 4/5\n"
          ]
        },
        {
          "output_type": "stream",
          "name": "stderr",
          "text": [
            "100%|██████████| 4/4 [00:03<00:00,  1.01it/s]\n"
          ]
        },
        {
          "output_type": "stream",
          "name": "stdout",
          "text": [
            "[train][Fold 4][Epoch 1]: Loss 0.9656679602316117, Accuracy: 0.5415604710578918\n"
          ]
        },
        {
          "output_type": "stream",
          "name": "stderr",
          "text": [
            "100%|██████████| 1/1 [00:00<00:00,  1.01it/s]\n"
          ]
        },
        {
          "output_type": "stream",
          "name": "stdout",
          "text": [
            "[valid][Fold 4][Epoch 1]: Loss 0.0013863679097623242, Accuracy: 0.7265305519104004\n"
          ]
        },
        {
          "output_type": "stream",
          "name": "stderr",
          "text": [
            "100%|██████████| 4/4 [00:04<00:00,  1.05s/it]\n"
          ]
        },
        {
          "output_type": "stream",
          "name": "stdout",
          "text": [
            "[train][Fold 4][Epoch 2]: Loss 0.6582941580402311, Accuracy: 0.7348291873931885\n"
          ]
        },
        {
          "output_type": "stream",
          "name": "stderr",
          "text": [
            "100%|██████████| 1/1 [00:00<00:00,  1.29it/s]\n"
          ]
        },
        {
          "output_type": "stream",
          "name": "stdout",
          "text": [
            "[valid][Fold 4][Epoch 2]: Loss 0.0008632379526994666, Accuracy: 0.8244897723197937\n"
          ]
        },
        {
          "output_type": "stream",
          "name": "stderr",
          "text": [
            "100%|██████████| 4/4 [00:03<00:00,  1.01it/s]\n"
          ]
        },
        {
          "output_type": "stream",
          "name": "stdout",
          "text": [
            "[train][Fold 4][Epoch 3]: Loss 0.4720739054169234, Accuracy: 0.798062264919281\n"
          ]
        },
        {
          "output_type": "stream",
          "name": "stderr",
          "text": [
            "100%|██████████| 1/1 [00:00<00:00,  1.34it/s]\n"
          ]
        },
        {
          "output_type": "stream",
          "name": "stdout",
          "text": [
            "[valid][Fold 4][Epoch 3]: Loss 0.0007074188212959134, Accuracy: 0.8489795327186584\n"
          ]
        },
        {
          "output_type": "stream",
          "name": "stderr",
          "text": [
            "100%|██████████| 4/4 [00:06<00:00,  1.57s/it]\n"
          ]
        },
        {
          "output_type": "stream",
          "name": "stdout",
          "text": [
            "[train][Fold 4][Epoch 4]: Loss 0.3998584869806405, Accuracy: 0.8347781896591187\n"
          ]
        },
        {
          "output_type": "stream",
          "name": "stderr",
          "text": [
            "100%|██████████| 1/1 [00:00<00:00,  1.29it/s]\n"
          ]
        },
        {
          "output_type": "stream",
          "name": "stdout",
          "text": [
            "[valid][Fold 4][Epoch 4]: Loss 0.0007166801666726872, Accuracy: 0.8632652759552002\n"
          ]
        },
        {
          "output_type": "stream",
          "name": "stderr",
          "text": [
            "100%|██████████| 4/4 [00:04<00:00,  1.01s/it]\n"
          ]
        },
        {
          "output_type": "stream",
          "name": "stdout",
          "text": [
            "[train][Fold 4][Epoch 5]: Loss 0.3448424614217438, Accuracy: 0.8521162867546082\n"
          ]
        },
        {
          "output_type": "stream",
          "name": "stderr",
          "text": [
            "100%|██████████| 1/1 [00:00<00:00,  1.34it/s]\n"
          ]
        },
        {
          "output_type": "stream",
          "name": "stdout",
          "text": [
            "[valid][Fold 4][Epoch 5]: Loss 0.0005987748199579667, Accuracy: 0.8816326260566711\n",
            "Fold 5/5\n"
          ]
        },
        {
          "output_type": "stream",
          "name": "stderr",
          "text": [
            "100%|██████████| 4/4 [00:04<00:00,  1.11s/it]\n"
          ]
        },
        {
          "output_type": "stream",
          "name": "stdout",
          "text": [
            "[train][Fold 5][Epoch 1]: Loss 0.986955631514826, Accuracy: 0.5517593026161194\n"
          ]
        },
        {
          "output_type": "stream",
          "name": "stderr",
          "text": [
            "100%|██████████| 1/1 [00:00<00:00,  1.26it/s]\n"
          ]
        },
        {
          "output_type": "stream",
          "name": "stdout",
          "text": [
            "[valid][Fold 5][Epoch 1]: Loss 0.0015654216007310517, Accuracy: 0.7285714149475098\n"
          ]
        },
        {
          "output_type": "stream",
          "name": "stderr",
          "text": [
            "100%|██████████| 4/4 [00:04<00:00,  1.00s/it]\n"
          ]
        },
        {
          "output_type": "stream",
          "name": "stdout",
          "text": [
            "[train][Fold 5][Epoch 2]: Loss 0.6874629911690692, Accuracy: 0.7205507755279541\n"
          ]
        },
        {
          "output_type": "stream",
          "name": "stderr",
          "text": [
            "100%|██████████| 1/1 [00:00<00:00,  1.32it/s]\n"
          ]
        },
        {
          "output_type": "stream",
          "name": "stdout",
          "text": [
            "[valid][Fold 5][Epoch 2]: Loss 0.0008732281169112848, Accuracy: 0.8408163189888\n"
          ]
        },
        {
          "output_type": "stream",
          "name": "stderr",
          "text": [
            "100%|██████████| 4/4 [00:04<00:00,  1.05s/it]\n"
          ]
        },
        {
          "output_type": "stream",
          "name": "stdout",
          "text": [
            "[train][Fold 5][Epoch 3]: Loss 0.4583310023185734, Accuracy: 0.810300886631012\n"
          ]
        },
        {
          "output_type": "stream",
          "name": "stderr",
          "text": [
            "100%|██████████| 1/1 [00:01<00:00,  1.03s/it]\n"
          ]
        },
        {
          "output_type": "stream",
          "name": "stdout",
          "text": [
            "[valid][Fold 5][Epoch 3]: Loss 0.0006567354713167464, Accuracy: 0.8591836094856262\n"
          ]
        },
        {
          "output_type": "stream",
          "name": "stderr",
          "text": [
            "100%|██████████| 4/4 [00:04<00:00,  1.02s/it]\n"
          ]
        },
        {
          "output_type": "stream",
          "name": "stdout",
          "text": [
            "[train][Fold 5][Epoch 4]: Loss 0.3907386489147924, Accuracy: 0.8322284817695618\n"
          ]
        },
        {
          "output_type": "stream",
          "name": "stderr",
          "text": [
            "100%|██████████| 1/1 [00:00<00:00,  1.28it/s]\n"
          ]
        },
        {
          "output_type": "stream",
          "name": "stdout",
          "text": [
            "[valid][Fold 5][Epoch 4]: Loss 0.0006453944104058402, Accuracy: 0.8489795327186584\n"
          ]
        },
        {
          "output_type": "stream",
          "name": "stderr",
          "text": [
            "100%|██████████| 4/4 [00:03<00:00,  1.00it/s]\n"
          ]
        },
        {
          "output_type": "stream",
          "name": "stdout",
          "text": [
            "[train][Fold 5][Epoch 5]: Loss 0.3354144557315072, Accuracy: 0.8612952828407288\n"
          ]
        },
        {
          "output_type": "stream",
          "name": "stderr",
          "text": [
            "100%|██████████| 1/1 [00:00<00:00,  1.27it/s]\n"
          ]
        },
        {
          "output_type": "stream",
          "name": "stdout",
          "text": [
            "[valid][Fold 5][Epoch 5]: Loss 0.000635593582172783, Accuracy: 0.8612244725227356\n",
            "[test] Overall Evaluation Metrics:\n",
            "Accuracy: 0.8613376835236541\n",
            "Precision: [0.84810127 0.77192982 0.93989071]\n",
            "Recall: [0.94035088 0.61971831 0.92473118]\n",
            "F1 Score: [0.89184692 0.6875     0.93224932]\n",
            "Confusion_metrics:[[268  16   1]\n",
            " [ 44  88  10]\n",
            " [  4  10 172]]\n"
          ]
        },
        {
          "output_type": "display_data",
          "data": {
            "text/plain": [
              "<Figure size 640x480 with 1 Axes>"
            ],
            "image/png": "[encoded data removed]"
          },
          "metadata": {}
        },
        {
          "output_type": "display_data",
          "data": {
            "text/plain": [
              "<Figure size 640x480 with 1 Axes>"
            ],
            "image/png": "[encoded data removed]"
          },
          "metadata": {}
        },
        {
          "output_type": "stream",
          "name": "stdout",
          "text": [
            "Overall Confusion Matrix:\n",
            "[[268  16   1]\n",
            " [ 44  88  10]\n",
            " [  4  10 172]]\n",
            "[features_array] (2451, 64)\n",
            "[labels_array] (2451,)\n",
            "[features_array] (613, 64)\n",
            "[labels_array] (613,)\n"
          ]
        }
      ],
      "source": [
        "kfold_training_loop(train_images_path, train_labels, test_images_path, test_labels, num_folds=5, epochs_per_fold=5, batch_size=512)"
      ]
    },
    {
      "cell_type": "code",
      "execution_count": 38,
      "metadata": {
        "colab": {
          "base_uri": "https://localhost:8080/"
        },
        "id": "u2ixsHypL62w",
        "outputId": "60807734-6e3c-4fdb-dbee-d771f28c0442"
      },
      "outputs": [
        {
          "output_type": "stream",
          "name": "stdout",
          "text": [
            "[SVM] Overall Evaluation Metrics:\n",
            "Accuracy: 0.8923327895595432\n",
            "Precision: [0.94776119 0.78723404 0.89215686]\n",
            "Recall: [0.89122807 0.78169014 0.97849462]\n",
            "F1 Score: [0.91862568 0.7844523  0.93333333]\n",
            "Confusion Metrics:[[254  27   4]\n",
            " [ 13 111  18]\n",
            " [  1   3 182]]\n"
          ]
        }
      ],
      "source": [
        "from sklearn.svm import SVC\n",
        "from sklearn.metrics import accuracy_score, precision_score, recall_score, f1_score, confusion_matrix\n",
        "import pandas as pd\n",
        "import numpy as np\n",
        "\n",
        "# Load the extracted features and labels from the CSV files\n",
        "train_data = pd.read_csv(\"train_features.csv\")\n",
        "test_data = pd.read_csv(\"test_features.csv\")\n",
        "\n",
        "# Separate features and labels\n",
        "train_features = train_data.drop(\"label\", axis=1).values\n",
        "train_labels = train_data[\"label\"].values\n",
        "test_features = test_data.drop(\"label\", axis=1).values\n",
        "test_labels = test_data[\"label\"].values\n",
        "\n",
        "# Initialize and train the SVM classifier\n",
        "svm_classifier = SVC(kernel='rbf')\n",
        "svm_classifier.fit(train_features, train_labels)\n",
        "\n",
        "# Make predictions on the test set\n",
        "test_predictions = svm_classifier.predict(test_features)\n",
        "\n",
        "# Evaluate the SVM classifier\n",
        "accuracy = accuracy_score(test_labels, test_predictions)\n",
        "precision = precision_score(test_labels, test_predictions, average=None, zero_division=0)\n",
        "recall = recall_score(test_labels, test_predictions, average=None)\n",
        "f1 = f1_score(test_labels, test_predictions, average=None)\n",
        "confusion_metrics = confusion_matrix(test_labels, test_predictions)\n",
        "\n",
        "print(\"[SVM] Overall Evaluation Metrics:\")\n",
        "print(f\"Accuracy: {accuracy}\")\n",
        "print(f\"Precision: {precision}\")\n",
        "print(f\"Recall: {recall}\")\n",
        "print(f\"F1 Score: {f1}\")\n",
        "print(f\"Confusion Metrics:{confusion_metrics}\")\n"
      ]
    },
    {
      "cell_type": "code",
      "execution_count": 39,
      "metadata": {
        "colab": {
          "base_uri": "https://localhost:8080/"
        },
        "id": "api20wm6Oiho",
        "outputId": "08b669d8-49c6-43db-a2fc-74f77d545910"
      },
      "outputs": [
        {
          "output_type": "stream",
          "name": "stdout",
          "text": [
            "[KNN] Overall Evaluation Metrics:\n",
            "Accuracy: 0.9021207177814029\n",
            "Precision: [0.94795539 0.8041958  0.91044776]\n",
            "Recall: [0.89473684 0.80985915 0.98387097]\n",
            "F1 Score: [0.92057762 0.80701754 0.94573643]\n",
            "Confusion Metrics: [[255  27   3]\n",
            " [ 12 115  15]\n",
            " [  2   1 183]]\n"
          ]
        }
      ],
      "source": [
        "from sklearn.neighbors import KNeighborsClassifier\n",
        "from sklearn.metrics import accuracy_score, precision_score, recall_score, f1_score, confusion_matrix\n",
        "import pandas as pd\n",
        "import numpy as np\n",
        "\n",
        "# Load the extracted features and labels from the CSV files\n",
        "train_data = pd.read_csv(\"train_features.csv\")\n",
        "test_data = pd.read_csv(\"test_features.csv\")\n",
        "\n",
        "# Separate features and labels\n",
        "train_features = train_data.drop(\"label\", axis=1).values\n",
        "train_labels = train_data[\"label\"].values\n",
        "test_features = test_data.drop(\"label\", axis=1).values\n",
        "test_labels = test_data[\"label\"].values\n",
        "\n",
        "# Initialize and train the KNN classifier\n",
        "knn_classifier = KNeighborsClassifier(n_neighbors=27)  # You can adjust the number of neighbors as needed\n",
        "knn_classifier.fit(train_features, train_labels)\n",
        "\n",
        "# Make predictions on the test set\n",
        "test_predictions = knn_classifier.predict(test_features)\n",
        "\n",
        "# Evaluate the KNN classifier\n",
        "accuracy = accuracy_score(test_labels, test_predictions)\n",
        "precision = precision_score(test_labels, test_predictions, average=None, zero_division=0)\n",
        "recall = recall_score(test_labels, test_predictions, average=None)\n",
        "f1 = f1_score(test_labels, test_predictions, average=None)\n",
        "confusion_metrics = confusion_matrix(test_labels, test_predictions)\n",
        "\n",
        "print(\"[KNN] Overall Evaluation Metrics:\")\n",
        "print(f\"Accuracy: {accuracy}\")\n",
        "print(f\"Precision: {precision}\")\n",
        "print(f\"Recall: {recall}\")\n",
        "print(f\"F1 Score: {f1}\")\n",
        "print(f\"Confusion Metrics: {confusion_metrics}\")\n"
      ]
    },
    {
      "cell_type": "code",
      "execution_count": 40,
      "metadata": {
        "cellView": "code",
        "id": "605A2coJfvve",
        "colab": {
          "base_uri": "https://localhost:8080/"
        },
        "outputId": "a86ae5c6-474e-4825-def0-8015f7d180da"
      },
      "outputs": [
        {
          "output_type": "execute_result",
          "data": {
            "text/plain": [
              "AlexNet(\n",
              "  (features): Sequential(\n",
              "    (0): Conv2d(3, 64, kernel_size=(11, 11), stride=(4, 4), padding=(2, 2))\n",
              "    (1): ReLU(inplace=True)\n",
              "    (2): MaxPool2d(kernel_size=3, stride=2, padding=0, dilation=1, ceil_mode=False)\n",
              "    (3): Conv2d(64, 192, kernel_size=(5, 5), stride=(1, 1), padding=(2, 2))\n",
              "    (4): ReLU(inplace=True)\n",
              "    (5): MaxPool2d(kernel_size=3, stride=2, padding=0, dilation=1, ceil_mode=False)\n",
              "    (6): Conv2d(192, 384, kernel_size=(3, 3), stride=(1, 1), padding=(1, 1))\n",
              "    (7): ReLU(inplace=True)\n",
              "    (8): Conv2d(384, 256, kernel_size=(3, 3), stride=(1, 1), padding=(1, 1))\n",
              "    (9): ReLU(inplace=True)\n",
              "    (10): Conv2d(256, 256, kernel_size=(3, 3), stride=(1, 1), padding=(1, 1))\n",
              "    (11): ReLU(inplace=True)\n",
              "    (12): MaxPool2d(kernel_size=3, stride=2, padding=0, dilation=1, ceil_mode=False)\n",
              "  )\n",
              "  (avgpool): AdaptiveAvgPool2d(output_size=(6, 6))\n",
              "  (classifier): Sequential(\n",
              "    (0): Dropout(p=0.5, inplace=False)\n",
              "    (1): Linear(in_features=9216, out_features=4096, bias=True)\n",
              "    (2): ReLU(inplace=True)\n",
              "    (3): Dropout(p=0.5, inplace=False)\n",
              "    (4): Linear(in_features=4096, out_features=4096, bias=True)\n",
              "    (5): ReLU(inplace=True)\n",
              "    (6): Linear(in_features=4096, out_features=1000, bias=True)\n",
              "  )\n",
              ")"
            ]
          },
          "metadata": {},
          "execution_count": 40
        }
      ],
      "source": [
        "# @title Default title text\n",
        "models.alexnet(weights=models.AlexNet_Weights.DEFAULT)"
      ]
    }
  ],
  "metadata": {
    "accelerator": "GPU",
    "colab": {
      "gpuType": "T4",
      "provenance": []
    },
    "kernelspec": {
      "display_name": "Python 3",
      "name": "python3"
    },
    "language_info": {
      "name": "python"
    }
  },
  "nbformat": 4,
  "nbformat_minor": 0
}