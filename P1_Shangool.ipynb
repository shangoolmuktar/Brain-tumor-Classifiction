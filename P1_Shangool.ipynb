{
  "nbformat": 4,
  "nbformat_minor": 0,
  "metadata": {
    "colab": {
      "provenance": [],
      "gpuType": "T4"
    },
    "kernelspec": {
      "name": "python3",
      "display_name": "Python 3"
    },
    "language_info": {
      "name": "python"
    },
    "accelerator": "GPU"
  },
  "cells": [
    {
      "cell_type": "markdown",
      "source": [
        "# Install Dataset"
      ],
      "metadata": {
        "id": "uXvgDq-c9yzt"
      }
    },
    {
      "cell_type": "code",
      "source": [
        "!gdown \"1_PhKR-1DdeOl5K5E9IV5G-tckNNq-X96\" -O \"tumor_dataset.rar\""
      ],
      "metadata": {
        "colab": {
          "base_uri": "https://localhost:8080/"
        },
        "id": "KfisMR7_fw0O",
        "outputId": "83358f42-87e1-421a-9eb6-1c03e3607556"
      },
      "execution_count": 1,
      "outputs": [
        {
          "output_type": "stream",
          "name": "stdout",
          "text": [
            "Downloading...\n",
            "From: https://drive.google.com/uc?id=1_PhKR-1DdeOl5K5E9IV5G-tckNNq-X96\n",
            "To: /content/tumor_dataset.rar\n",
            "100% 317M/317M [00:12<00:00, 25.6MB/s]\n"
          ]
        }
      ]
    },
    {
      "cell_type": "code",
      "source": [
        "!pip install unrar -q"
      ],
      "metadata": {
        "id": "ULIZhDnignJf"
      },
      "execution_count": 2,
      "outputs": []
    },
    {
      "cell_type": "code",
      "source": [
        "!rm -rf \"/content/tumor_dataset\"\n",
        "!unrar x \"tumor_dataset.rar\" &> /dev/null"
      ],
      "metadata": {
        "id": "s0op53vGgDos"
      },
      "execution_count": 3,
      "outputs": []
    },
    {
      "cell_type": "code",
      "source": [
        "!ls -l \"/content/tumor_dataset/Glioma/\" | wc -l\n",
        "!ls -l \"/content/tumor_dataset/Meningioma\" | wc -l\n",
        "!ls -l \"/content/tumor_dataset/Pituitary/\" | wc -l"
      ],
      "metadata": {
        "colab": {
          "base_uri": "https://localhost:8080/"
        },
        "id": "oyJBRoIEh5Xj",
        "outputId": "456bcfc1-9713-4252-fcb4-9279156b0fa6"
      },
      "execution_count": 4,
      "outputs": [
        {
          "output_type": "stream",
          "name": "stdout",
          "text": [
            "1427\n",
            "709\n",
            "931\n"
          ]
        }
      ]
    },
    {
      "cell_type": "markdown",
      "source": [
        "# Imports"
      ],
      "metadata": {
        "id": "RZJ4sw7h93Ud"
      }
    },
    {
      "cell_type": "code",
      "source": [
        "import os\n",
        "import cv2\n",
        "import numpy as np\n",
        "import matplotlib.pyplot as plt\n",
        "\n",
        "from tqdm import tqdm\n",
        "\n",
        "from sklearn.model_selection import KFold, StratifiedKFold, train_test_split\n",
        "from sklearn.metrics import accuracy_score, precision_score, recall_score, f1_score, confusion_matrix, precision_recall_curve, roc_curve, auc\n",
        "\n",
        "import torch\n",
        "import torch.nn as nn\n",
        "import torch.optim as optim\n",
        "import torchvision.models as models\n",
        "from torch.utils.data import Dataset, DataLoader\n",
        "\n",
        "# Enable GPU if available\n",
        "device = torch.device(\"cuda\") if torch.cuda.is_available() else torch.device(\"cpu\")\n",
        "print('[device]', device)\n"
      ],
      "metadata": {
        "colab": {
          "base_uri": "https://localhost:8080/"
        },
        "id": "KBvWcm36caB3",
        "outputId": "36d1640b-adbc-49f9-d070-2b550bc13bdd"
      },
      "execution_count": 5,
      "outputs": [
        {
          "output_type": "stream",
          "name": "stdout",
          "text": [
            "[device] cuda\n"
          ]
        }
      ]
    },
    {
      "cell_type": "markdown",
      "source": [
        "# Setup Dataset"
      ],
      "metadata": {
        "id": "LK1RcamS94zj"
      }
    },
    {
      "cell_type": "code",
      "source": [
        "# dataset path and image size\n",
        "# dataset_path = \"/content/drive/MyDrive/brain_tumor_dataset/\"\n",
        "dataset_path = \"/content/tumor_dataset\"\n",
        "image_size = (224, 224)\n",
        "# Load and preprocess the dataset\n",
        "classes = [\"Glioma\", \"Meningioma\", \"Pituitary\"]\n",
        "\n",
        "images_path = []\n",
        "labels = []\n",
        "for i, class_name in enumerate(classes):\n",
        "    class_path = os.path.join(dataset_path, class_name)\n",
        "    image_files = os.listdir(class_path)\n",
        "\n",
        "    for image_file in image_files:\n",
        "        image_path = os.path.join(class_path, image_file)\n",
        "        images_path.append(image_path)\n",
        "        labels.append(i)\n",
        "\n",
        "# Convert the lists to numpy arrays\n",
        "images_path = np.array(images_path)\n",
        "labels = np.array(labels)\n",
        "\n",
        "print('[images_path]', len(images_path), images_path[0], images_path[-1])\n",
        "print('[labels]', len(labels), labels[:10], labels[-10:])\n",
        "\n",
        "# Create the train-test split\n",
        "train_images_path, test_images_path, train_labels, test_labels = train_test_split(images_path, labels, test_size=0.2, stratify=labels, random_state=42)\n",
        "\n",
        "print('[train_images_path]', len(train_images_path), train_images_path[0], train_images_path[-1])\n",
        "print('[train_labels]', len(train_labels), train_labels[:10], train_labels[-10:])\n",
        "print('[test_images_path]', len(test_images_path), test_images_path[0], test_images_path[-1])\n",
        "print('[test_labels]', len(test_labels), test_labels[:10], test_labels[-10:])\n"
      ],
      "metadata": {
        "colab": {
          "base_uri": "https://localhost:8080/"
        },
        "id": "gh5ym8I7homT",
        "outputId": "5e72e340-1932-4318-dec3-f9f8d4c7d248"
      },
      "execution_count": 6,
      "outputs": [
        {
          "output_type": "stream",
          "name": "stdout",
          "text": [
            "[images_path] 3064 /content/tumor_dataset/Glioma/2.0---MR024780G-i2279.bmp /content/tumor_dataset/Pituitary/3.0---97461-i1400.bmp\n",
            "[labels] 3064 [0 0 0 0 0 0 0 0 0 0] [2 2 2 2 2 2 2 2 2 2]\n",
            "[train_images_path] 2451 /content/tumor_dataset/Glioma/2.0---MR024780G-i2885.bmp /content/tumor_dataset/Glioma/2.0---MR051796-i2574.bmp\n",
            "[train_labels] 2451 [0 0 0 0 0 1 2 0 0 0] [0 2 2 2 0 1 1 2 2 0]\n",
            "[test_images_path] 613 /content/tumor_dataset/Glioma/2.0---MR051586-i2929.bmp /content/tumor_dataset/Pituitary/3.0---103671-i1325.bmp\n",
            "[test_labels] 613 [0 0 1 1 1 0 1 0 2 2] [1 1 0 0 2 1 0 0 2 2]\n"
          ]
        }
      ]
    },
    {
      "cell_type": "code",
      "source": [
        "class BrainTumorDataset(Dataset):\n",
        "    def __init__(self, images_path, labels):\n",
        "        self.images_path = images_path\n",
        "        self.labels = labels\n",
        "\n",
        "    def __len__(self):\n",
        "        return len(self.images_path)\n",
        "\n",
        "    def __getitem__(self, idx):\n",
        "        # get image path\n",
        "        image_path = self.images_path[idx]\n",
        "        # get image label\n",
        "        label = self.labels[idx]\n",
        "        # read actual image\n",
        "        image = cv2.imread(image_path)\n",
        "        # resize image\n",
        "        image = cv2.resize(image, image_size)\n",
        "        # convert to RGB format\n",
        "        image = cv2.cvtColor(image, cv2.COLOR_BGR2RGB)\n",
        "        # convert to pytorch tensor\n",
        "        image = torch.from_numpy(image)\n",
        "        # normalize for better performance\n",
        "        image = image / 255\n",
        "        # reorder according to pytorch requirements\n",
        "        image = image.permute((2, 0, 1))\n",
        "        return image, label\n"
      ],
      "metadata": {
        "id": "Ama4kWSkf_FI"
      },
      "execution_count": 7,
      "outputs": []
    },
    {
      "cell_type": "markdown",
      "source": [
        "# Define Common Functions"
      ],
      "metadata": {
        "id": "EBt_TJsM972n"
      }
    },
    {
      "cell_type": "code",
      "source": [
        "def training_loop(train_loader, val_loader, model, optimizer, criterion, epochs, fold, device):\n",
        "    # Lists to store metrics for this fold\n",
        "    train_losses = []\n",
        "    train_accuracies = []\n",
        "    val_losses = []\n",
        "    val_accuracies = []\n",
        "    val_predictions = []\n",
        "    val_probs = []\n",
        "\n",
        "    # Training loop for this fold\n",
        "    for epoch in range(epochs):\n",
        "        #################\n",
        "        # TRAINING PART #\n",
        "        #################\n",
        "        model.train()\n",
        "        running_loss = 0.0\n",
        "        correct_predictions = 0\n",
        "        total_train_samples = len(train_loader.dataset)\n",
        "\n",
        "        for idx, (images, labels) in tqdm(enumerate(train_loader), total=len(train_loader)):\n",
        "            images, labels = images.to(device), labels.to(device)\n",
        "            optimizer.zero_grad()\n",
        "            outputs = model(images)\n",
        "            loss = criterion(outputs, labels)\n",
        "            loss.backward()\n",
        "            optimizer.step()\n",
        "            running_loss += loss.item() * len(labels)\n",
        "            _, predicted = torch.max(outputs.data, 1)\n",
        "            correct_predictions += sum(predicted == labels)\n",
        "\n",
        "        average_accuracy = correct_predictions / total_train_samples\n",
        "        average_loss = running_loss / total_train_samples\n",
        "        print(f\"[train][Fold {fold + 1}][Epoch {epoch + 1}]: Loss {average_loss}, Accuracy: {average_accuracy}\")\n",
        "        train_accuracies.append(average_accuracy.item())\n",
        "        train_losses.append(average_loss)\n",
        "\n",
        "        ###################\n",
        "        # VALIDATION PART #\n",
        "        ###################\n",
        "        model.eval()\n",
        "        val_loss = 0.0\n",
        "        correct_val_predictions = 0\n",
        "        # val_trues = []\n",
        "        # val_preds = []\n",
        "        # val_probs = []\n",
        "        total_val_samples = len(val_loader.dataset)\n",
        "\n",
        "        with torch.no_grad():\n",
        "            for idx, (images, labels) in tqdm(enumerate(val_loader), total=len(val_loader)):\n",
        "                images, labels = images.to(device), labels.to(device)\n",
        "                outputs = model(images)\n",
        "                loss = criterion(outputs, labels)\n",
        "                val_loss += loss.item()\n",
        "                _, predicted = torch.max(outputs.data, 1)\n",
        "                correct_val_predictions += sum(predicted == labels)\n",
        "                # val_trues.append(labels)\n",
        "                # val_preds.append(predicted.item().detach().cpu().numpy())\n",
        "                # val_probs.append(torch.softmax(outputs, dim=1).detach().cpu().numpy())\n",
        "\n",
        "        # val_trues = np.concatenate(val_trues, axis=0)\n",
        "        # val_preds = np.concatenate(val_preds, axis=0)\n",
        "        # val_probs = np.concatenate(val_probs, axis=0)\n",
        "\n",
        "        # # Calculate metrics for the current fold\n",
        "        # class_accuracy = accuracy_score(val_trues, val_preds)\n",
        "        # class_precision = precision_score(val_trues, val_preds, average=None, zero_division=0)\n",
        "        # class_recall = recall_score(val_trues, val_preds, average=None)\n",
        "        # class_f1_score = f1_score(val_trues, val_preds, average=None)\n",
        "\n",
        "        average_val_accuracy = correct_val_predictions / total_val_samples\n",
        "        average_val_loss = val_loss / total_val_samples\n",
        "        print(f\"[valid][Fold {fold + 1}][Epoch {epoch + 1}]: Loss {average_val_loss}, Accuracy: {average_val_accuracy}\")\n",
        "        val_accuracies.append(average_val_accuracy.item())\n",
        "        val_losses.append(average_val_loss)\n",
        "\n",
        "        # fold_class_accuracies.append(class_accuracy)\n",
        "        # fold_class_precisions.append(class_precision)\n",
        "        # fold_class_recalls.append(class_recall)\n",
        "        # fold_class_f1_scores.append(class_f1_score)\n",
        "\n",
        "    model.train()\n",
        "\n",
        "    return train_accuracies, train_losses, val_accuracies, val_losses\n"
      ],
      "metadata": {
        "id": "INASnB33uZE3"
      },
      "execution_count": 8,
      "outputs": []
    },
    {
      "cell_type": "code",
      "source": [
        "def plot_macro_roc_curve(fprs, tprs, aucs):\n",
        "    plt.figure()\n",
        "    colors = ['red', 'green', 'blue']\n",
        "    for i in range(len(fprs)):\n",
        "        plt.plot(fprs[i], tprs[i], color=colors[i], lw=2, label=f'Class {i} (AUC = {aucs[i]:.2f})')\n",
        "    plt.plot([0, 1], [0, 1], color='gray', lw=2, linestyle='--')\n",
        "    plt.xlim([0.0, 1.0])\n",
        "    plt.ylim([0.0, 1.05])\n",
        "    plt.xlabel('False Positive Rate')\n",
        "    plt.ylabel('True Positive Rate')\n",
        "    plt.title('Macro-averaged ROC Curve')\n",
        "    plt.legend(loc='lower right')\n",
        "    plt.show()\n",
        "\n",
        "def plot_macro_precision_recall_curve(precisions, recalls):\n",
        "    plt.figure()\n",
        "    colors = ['red', 'green', 'blue']\n",
        "    for i in range(len(precisions)):\n",
        "        plt.plot(recalls[i], precisions[i], color=colors[i], lw=2, label=f'Class {i}')\n",
        "    plt.xlabel('Recall')\n",
        "    plt.ylabel('Precision')\n",
        "    plt.ylim([0.0, 1.05])\n",
        "    plt.xlim([0.0, 1.0])\n",
        "    plt.title('Macro-averaged Precision-Recall Curve')\n",
        "    plt.legend(loc='lower left')\n",
        "    plt.show()\n"
      ],
      "metadata": {
        "id": "gP3s0wdjv-qW"
      },
      "execution_count": 9,
      "outputs": []
    },
    {
      "cell_type": "code",
      "source": [
        "def kfold_training_loop(train_images_path, train_labels, test_images_path, test_labels, num_folds=5, epochs_per_fold=5, batch_size=32):\n",
        "    # kf = KFold(n_splits=num_folds, shuffle=True, random_state=42)\n",
        "    kf = StratifiedKFold(n_splits=num_folds, shuffle=True, random_state=42)\n",
        "\n",
        "    # Lists to store metrics for each fold\n",
        "    train_accuracies_list = []\n",
        "    train_losses_list = []\n",
        "    val_accuracies_list = []\n",
        "    val_losses_list = []\n",
        "\n",
        "    # test_probs=[]\n",
        "    # test_predictions_list = []\n",
        "\n",
        "    # Training loop with k-fold cross-validation\n",
        "    for fold, (train_index, val_index) in enumerate(kf.split(train_images_path, train_labels)):\n",
        "        print(f\"Fold {fold + 1}/{num_folds}\")\n",
        "\n",
        "        # Create the train-validation split for this fold\n",
        "        train_images_path_fold = train_images_path[train_index] # [train_images_path[i] for i in train_index]\n",
        "        train_labels_fold = train_labels[train_index] # [train_labels[i] for i in train_index]\n",
        "        val_images_path_fold = train_images_path[val_index] # [train_images_path[i] for i in val_index]\n",
        "        val_labels_fold = train_labels[val_index] # [train_labels[i] for i in val_index]\n",
        "\n",
        "        # print('[train_images_path_fold]', len(train_images_path_fold))\n",
        "        # print('[train_labels_fold]', len(train_labels_fold), train_labels_fold[:10], train_labels_fold[-10:])\n",
        "        # print('[val_images_path_fold]', len(val_images_path_fold))\n",
        "        # print('[val_labels_fold]', len(val_labels_fold), val_labels_fold[:10], val_labels_fold[-10:])\n",
        "\n",
        "        train_dataset = BrainTumorDataset(images_path=train_images_path_fold, labels=train_labels_fold)\n",
        "        val_dataset = BrainTumorDataset(images_path=val_images_path_fold, labels=val_labels_fold)\n",
        "        # print('[train_dataset, val_dataset]', len(train_dataset), len(val_dataset))\n",
        "\n",
        "        train_loader = DataLoader(train_dataset, batch_size=batch_size, shuffle=True)\n",
        "        val_loader = DataLoader(val_dataset, batch_size=2*batch_size, shuffle=False)\n",
        "        # print('[train_loader, val_loader]', len(train_loader), len(val_loader))\n",
        "\n",
        "       # Load the pre-trained AlexNet model for each fold\n",
        "        alexnet = models.alexnet(weights=models.AlexNet_Weights.DEFAULT)\n",
        "        alexnet.classifier[6] = nn.Linear(4096, 3)\n",
        "        alexnet.to(device)\n",
        "\n",
        "        # Define the loss function\n",
        "        criterion = nn.CrossEntropyLoss()\n",
        "\n",
        "        # Define the optimizer, added some good practices\n",
        "        optimizer = optim.Adam(alexnet.parameters(), lr=0.001, weight_decay=0.005, amsgrad=True)\n",
        "\n",
        "        fold_train_accuracies, fold_train_losses, fold_val_accuracies, fold_val_losses = training_loop(\n",
        "            train_loader=train_loader,\n",
        "            val_loader=val_loader,\n",
        "            model=alexnet,\n",
        "            optimizer=optimizer,\n",
        "            criterion=criterion,\n",
        "            epochs=epochs_per_fold,\n",
        "            fold=fold,\n",
        "            device=device\n",
        "        )\n",
        "\n",
        "        train_accuracies_list.append(fold_train_accuracies)\n",
        "        train_losses_list.append(fold_train_losses)\n",
        "        val_accuracies_list.append(fold_val_accuracies)\n",
        "        val_losses_list.append(fold_val_losses)\n",
        "\n",
        "        # Calculate the average metrics for all folds\n",
        "        avg_train_accuracies = np.mean(fold_train_accuracies, axis=0)\n",
        "        avg_train_losses = np.mean(fold_train_losses, axis=0)\n",
        "        avg_val_accuracies = np.mean(fold_val_accuracies, axis=0)\n",
        "        avg_val_losses = np.mean(fold_val_losses, axis=0)\n",
        "\n",
        "\n",
        "\n",
        "    # Evaluate the model on test set\n",
        "    alexnet.eval()\n",
        "    test_predictions = []\n",
        "    test_probs = []\n",
        "    test_dataset = BrainTumorDataset(images_path=test_images_path, labels=test_labels)\n",
        "    test_loader = DataLoader(test_dataset, batch_size=2*batch_size, shuffle=False)\n",
        "\n",
        "    with torch.no_grad():\n",
        "        for images, labels in test_loader:\n",
        "            images = images.to(device)\n",
        "            outputs = alexnet(images)\n",
        "            _, predicted = torch.max(outputs, 1)\n",
        "            test_predictions.append(predicted.cpu().numpy())\n",
        "            test_probs.append(torch.softmax(outputs, dim=1).detach().cpu().numpy())\n",
        "    # test_predictions_list.append(test_predictions)\n",
        "    test_predictions = np.concatenate(test_predictions, axis=0)\n",
        "    test_probs = np.concatenate(test_probs, axis=0)\n",
        "    accuracy = accuracy_score(test_labels, test_predictions)\n",
        "    precision = precision_score(test_labels, test_predictions, average=None, zero_division=0)\n",
        "    recall = recall_score(test_labels, test_predictions, average=None)\n",
        "    f1 = f1_score(test_labels, test_predictions, average=None)\n",
        "    confusion_metrics = confusion_matrix(test_labels, test_predictions)\n",
        "\n",
        "    print(\"[test] Overall Evaluation Metrics:\")\n",
        "    print(f\"Accuracy: {accuracy}\")\n",
        "    print(f\"Precision: {precision}\")\n",
        "    print(f\"Recall: {recall}\")\n",
        "    print(f\"F1 Score: {f1}\")\n",
        "    print(f\"Confusion_metrics:{confusion_metrics}\")\n",
        "\n",
        "\n",
        "\n",
        "    # Calculate ROC curve and AUC for each class\n",
        "    fprs = []\n",
        "    tprs = []\n",
        "    aucs = []\n",
        "    for i in range(3):\n",
        "        fpr, tpr, _ = roc_curve(test_labels == i, test_probs[:, i])\n",
        "        roc_auc = auc(fpr, tpr)\n",
        "        fprs.append(fpr)\n",
        "        tprs.append(tpr)\n",
        "        aucs.append(roc_auc)\n",
        "\n",
        "    # Calculate Precision-Recall curve for each class\n",
        "    precisions = []\n",
        "    recalls = []\n",
        "    for i in range(3):\n",
        "        precision, recall, _ = precision_recall_curve(test_labels == i, test_probs[:, i])\n",
        "        precisions.append(precision)\n",
        "        recalls.append(recall)\n",
        "\n",
        "    # Plot macro-averaged ROC curve and Precision-Recall curve\n",
        "    plot_macro_roc_curve(fprs, tprs, aucs)\n",
        "    plot_macro_precision_recall_curve(precisions, recalls)\n",
        "\n",
        "    # Print overall confusion matrix\n",
        "    overall_confusion_matrix = confusion_matrix(test_labels, test_predictions)\n",
        "    print(\"Overall Confusion Matrix:\")\n",
        "    print(overall_confusion_matrix)\n",
        "\n",
        "\n",
        "\n",
        "\n",
        "\n",
        "\n"
      ],
      "metadata": {
        "id": "ww5NbFi8wXB8"
      },
      "execution_count": 10,
      "outputs": []
    },
    {
      "cell_type": "code",
      "source": [
        "kfold_training_loop(train_images_path, train_labels, test_images_path, test_labels, num_folds=10, epochs_per_fold=5, batch_size=512)"
      ],
      "metadata": {
        "colab": {
          "base_uri": "https://localhost:8080/",
          "height": 1000
        },
        "id": "89At1dkrwiwh",
        "outputId": "71c9a193-3ed3-4ad1-8396-0dfb11515b1f"
      },
      "execution_count": 11,
      "outputs": [
        {
          "output_type": "stream",
          "name": "stdout",
          "text": [
            "Fold 1/2\n"
          ]
        },
        {
          "output_type": "stream",
          "name": "stderr",
          "text": [
            "Downloading: \"https://download.pytorch.org/models/alexnet-owt-7be5be79.pth\" to /root/.cache/torch/hub/checkpoints/alexnet-owt-7be5be79.pth\n",
            "100%|██████████| 233M/233M [00:02<00:00, 115MB/s]\n",
            "100%|██████████| 3/3 [00:15<00:00,  5.10s/it]\n"
          ]
        },
        {
          "output_type": "stream",
          "name": "stdout",
          "text": [
            "[train][Fold 1][Epoch 1]: Loss 3.390665539527426, Accuracy: 0.3151020407676697\n"
          ]
        },
        {
          "output_type": "stream",
          "name": "stderr",
          "text": [
            "100%|██████████| 2/2 [00:01<00:00,  1.00it/s]\n"
          ]
        },
        {
          "output_type": "stream",
          "name": "stdout",
          "text": [
            "[valid][Fold 1][Epoch 1]: Loss 0.0017233681523197042, Accuracy: 0.38091355562210083\n"
          ]
        },
        {
          "output_type": "stream",
          "name": "stderr",
          "text": [
            "100%|██████████| 3/3 [00:02<00:00,  1.26it/s]\n"
          ]
        },
        {
          "output_type": "stream",
          "name": "stdout",
          "text": [
            "[train][Fold 1][Epoch 2]: Loss 1.3543791442014732, Accuracy: 0.4285714328289032\n"
          ]
        },
        {
          "output_type": "stream",
          "name": "stderr",
          "text": [
            "100%|██████████| 2/2 [00:01<00:00,  1.05it/s]\n"
          ]
        },
        {
          "output_type": "stream",
          "name": "stdout",
          "text": [
            "[valid][Fold 1][Epoch 2]: Loss 0.00174031979108129, Accuracy: 0.3327895700931549\n"
          ]
        },
        {
          "output_type": "stream",
          "name": "stderr",
          "text": [
            "100%|██████████| 3/3 [00:02<00:00,  1.18it/s]\n"
          ]
        },
        {
          "output_type": "stream",
          "name": "stdout",
          "text": [
            "[train][Fold 1][Epoch 3]: Loss 1.0515867673134318, Accuracy: 0.4244897961616516\n"
          ]
        },
        {
          "output_type": "stream",
          "name": "stderr",
          "text": [
            "100%|██████████| 2/2 [00:02<00:00,  1.07s/it]\n"
          ]
        },
        {
          "output_type": "stream",
          "name": "stdout",
          "text": [
            "[valid][Fold 1][Epoch 3]: Loss 0.0016124421581747482, Accuracy: 0.4657422602176666\n",
            "Fold 2/2\n"
          ]
        },
        {
          "output_type": "stream",
          "name": "stderr",
          "text": [
            "100%|██████████| 3/3 [00:02<00:00,  1.23it/s]\n"
          ]
        },
        {
          "output_type": "stream",
          "name": "stdout",
          "text": [
            "[train][Fold 2][Epoch 1]: Loss 3.957002170323159, Accuracy: 0.3931484520435333\n"
          ]
        },
        {
          "output_type": "stream",
          "name": "stderr",
          "text": [
            "100%|██████████| 2/2 [00:01<00:00,  1.09it/s]\n"
          ]
        },
        {
          "output_type": "stream",
          "name": "stdout",
          "text": [
            "[valid][Fold 2][Epoch 1]: Loss 0.0017663118790607064, Accuracy: 0.44653061032295227\n"
          ]
        },
        {
          "output_type": "stream",
          "name": "stderr",
          "text": [
            "100%|██████████| 3/3 [00:02<00:00,  1.24it/s]\n"
          ]
        },
        {
          "output_type": "stream",
          "name": "stdout",
          "text": [
            "[train][Fold 2][Epoch 2]: Loss 1.0483189734704732, Accuracy: 0.4429037570953369\n"
          ]
        },
        {
          "output_type": "stream",
          "name": "stderr",
          "text": [
            "100%|██████████| 2/2 [00:01<00:00,  1.03it/s]\n"
          ]
        },
        {
          "output_type": "stream",
          "name": "stdout",
          "text": [
            "[valid][Fold 2][Epoch 2]: Loss 0.002251637517189493, Accuracy: 0.4653061330318451\n"
          ]
        },
        {
          "output_type": "stream",
          "name": "stderr",
          "text": [
            "100%|██████████| 3/3 [00:02<00:00,  1.08it/s]\n"
          ]
        },
        {
          "output_type": "stream",
          "name": "stdout",
          "text": [
            "[train][Fold 2][Epoch 3]: Loss 1.1704589128494263, Accuracy: 0.48368680477142334\n"
          ]
        },
        {
          "output_type": "stream",
          "name": "stderr",
          "text": [
            "100%|██████████| 2/2 [00:01<00:00,  1.10it/s]\n"
          ]
        },
        {
          "output_type": "stream",
          "name": "stdout",
          "text": [
            "[valid][Fold 2][Epoch 3]: Loss 0.0015398147154827508, Accuracy: 0.6122449040412903\n",
            "[test] Overall Evaluation Metrics:\n",
            "Accuracy: 0.6150081566068516\n",
            "Precision: [0.55577689 0.         0.88288288]\n",
            "Recall: [0.97894737 0.         0.52688172]\n",
            "F1 Score: [0.7090216  0.         0.65993266]\n",
            "Confusion_metrics:[[279   0   6]\n",
            " [135   0   7]\n",
            " [ 88   0  98]]\n"
          ]
        },
        {
          "output_type": "display_data",
          "data": {
            "text/plain": [
              "<Figure size 640x480 with 1 Axes>"
            ],
            "image/png": "[encoded data removed]"
          },
          "metadata": {}
        },
        {
          "output_type": "display_data",
          "data": {
            "text/plain": [
              "<Figure size 640x480 with 1 Axes>"
            ],
            "image/png": "[encoded data removed]"
          },
          "metadata": {}
        },
        {
          "output_type": "stream",
          "name": "stdout",
          "text": [
            "Overall Confusion Matrix:\n",
            "[[279   0   6]\n",
            " [135   0   7]\n",
            " [ 88   0  98]]\n"
          ]
        }
      ]
    },
    {
      "cell_type": "code",
      "source": [
        "# @title Default title text\n",
        "models.alexnet(weights=models.AlexNet_Weights.DEFAULT)"
      ],
      "metadata": {
        "id": "605A2coJfvve",
        "cellView": "code",
        "colab": {
          "base_uri": "https://localhost:8080/"
        },
        "outputId": "fc1362b9-948a-45ff-da43-2e56984b3c77"
      },
      "execution_count": 12,
      "outputs": [
        {
          "output_type": "execute_result",
          "data": {
            "text/plain": [
              "AlexNet(\n",
              "  (features): Sequential(\n",
              "    (0): Conv2d(3, 64, kernel_size=(11, 11), stride=(4, 4), padding=(2, 2))\n",
              "    (1): ReLU(inplace=True)\n",
              "    (2): MaxPool2d(kernel_size=3, stride=2, padding=0, dilation=1, ceil_mode=False)\n",
              "    (3): Conv2d(64, 192, kernel_size=(5, 5), stride=(1, 1), padding=(2, 2))\n",
              "    (4): ReLU(inplace=True)\n",
              "    (5): MaxPool2d(kernel_size=3, stride=2, padding=0, dilation=1, ceil_mode=False)\n",
              "    (6): Conv2d(192, 384, kernel_size=(3, 3), stride=(1, 1), padding=(1, 1))\n",
              "    (7): ReLU(inplace=True)\n",
              "    (8): Conv2d(384, 256, kernel_size=(3, 3), stride=(1, 1), padding=(1, 1))\n",
              "    (9): ReLU(inplace=True)\n",
              "    (10): Conv2d(256, 256, kernel_size=(3, 3), stride=(1, 1), padding=(1, 1))\n",
              "    (11): ReLU(inplace=True)\n",
              "    (12): MaxPool2d(kernel_size=3, stride=2, padding=0, dilation=1, ceil_mode=False)\n",
              "  )\n",
              "  (avgpool): AdaptiveAvgPool2d(output_size=(6, 6))\n",
              "  (classifier): Sequential(\n",
              "    (0): Dropout(p=0.5, inplace=False)\n",
              "    (1): Linear(in_features=9216, out_features=4096, bias=True)\n",
              "    (2): ReLU(inplace=True)\n",
              "    (3): Dropout(p=0.5, inplace=False)\n",
              "    (4): Linear(in_features=4096, out_features=4096, bias=True)\n",
              "    (5): ReLU(inplace=True)\n",
              "    (6): Linear(in_features=4096, out_features=1000, bias=True)\n",
              "  )\n",
              ")"
            ]
          },
          "metadata": {},
          "execution_count": 12
        }
      ]
    }
  ]
}