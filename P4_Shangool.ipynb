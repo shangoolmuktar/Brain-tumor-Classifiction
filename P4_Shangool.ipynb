{
  "cells": [
    {
      "cell_type": "code",
      "execution_count": 1,
      "metadata": {
        "colab": {
          "base_uri": "https://localhost:8080/"
        },
        "id": "PImDaj-2lxX7",
        "outputId": "fb433b73-f8f2-4520-ed98-d8fa60720612"
      },
      "outputs": [
        {
          "output_type": "stream",
          "name": "stdout",
          "text": [
            "Downloading...\n",
            "From: https://drive.google.com/uc?id=1_PhKR-1DdeOl5K5E9IV5G-tckNNq-X96\n",
            "To: /content/tumor_dataset.rar\n",
            "100% 317M/317M [00:03<00:00, 79.6MB/s]\n"
          ]
        }
      ],
      "source": [
        "!gdown \"1_PhKR-1DdeOl5K5E9IV5G-tckNNq-X96\" -O \"tumor_dataset.rar\""
      ]
    },
    {
      "cell_type": "code",
      "execution_count": 2,
      "metadata": {
        "id": "lFIqRloabi5O"
      },
      "outputs": [],
      "source": [
        "!pip install unrar -q"
      ]
    },
    {
      "cell_type": "code",
      "execution_count": 3,
      "metadata": {
        "id": "_wDOYJMHblQi"
      },
      "outputs": [],
      "source": [
        "!rm -rf \"/content/tumor_dataset\"\n",
        "!unrar x \"tumor_dataset.rar\" &> /dev/null"
      ]
    },
    {
      "cell_type": "code",
      "execution_count": 4,
      "metadata": {
        "colab": {
          "base_uri": "https://localhost:8080/"
        },
        "id": "dZ5Fg0O4boH5",
        "outputId": "b55c89ed-91e2-4fd4-c50e-4ff7322e1428"
      },
      "outputs": [
        {
          "output_type": "stream",
          "name": "stdout",
          "text": [
            "1427\n",
            "709\n",
            "931\n"
          ]
        }
      ],
      "source": [
        "!ls -l \"/content/tumor_dataset/Glioma/\" | wc -l\n",
        "!ls -l \"/content/tumor_dataset/Meningioma\" | wc -l\n",
        "!ls -l \"/content/tumor_dataset/Pituitary/\" | wc -l"
      ]
    },
    {
      "cell_type": "code",
      "execution_count": 5,
      "metadata": {
        "id": "FsOReMSZdLp_"
      },
      "outputs": [],
      "source": [
        "import os\n",
        "import cv2\n",
        "import numpy as np\n",
        "from skimage.feature import hog\n",
        "import matplotlib.pyplot as plt\n",
        "from sklearn.neural_network import MLPClassifier\n",
        "from sklearn.model_selection import KFold, StratifiedKFold, train_test_split\n",
        "from sklearn.metrics import accuracy_score, precision_score, recall_score, f1_score, confusion_matrix, precision_recall_curve, roc_curve, auc\n",
        "from tqdm import tqdm\n",
        "from sklearn.model_selection import KFold, StratifiedKFold, train_test_split\n",
        "import torch\n",
        "import torch.nn as nn\n",
        "import torch.optim as optim\n",
        "import torchvision.models as models\n",
        "from torch.utils.data import Dataset, DataLoader\n"
      ]
    },
    {
      "cell_type": "code",
      "execution_count": 6,
      "metadata": {
        "colab": {
          "base_uri": "https://localhost:8080/"
        },
        "id": "9obtUhoU9w0q",
        "outputId": "38de44c7-874c-40b9-91db-2fb3e98a7058"
      },
      "outputs": [
        {
          "output_type": "stream",
          "name": "stdout",
          "text": [
            "[device] cuda\n"
          ]
        }
      ],
      "source": [
        "# Enable GPU if available\n",
        "device = torch.device(\"cuda\") if torch.cuda.is_available() else torch.device(\"cpu\")\n",
        "print('[device]', device)"
      ]
    },
    {
      "cell_type": "code",
      "execution_count": 8,
      "metadata": {
        "colab": {
          "base_uri": "https://localhost:8080/",
          "height": 1000
        },
        "id": "M975bHzX8vtk",
        "outputId": "b07740bc-635b-49da-f27a-4e85dee71fee"
      },
      "outputs": [
        {
          "output_type": "stream",
          "name": "stdout",
          "text": [
            "[images_path] 3064 /content/tumor_dataset/Glioma/2.0---MR024780G-i2279.bmp /content/tumor_dataset/Pituitary/3.0---97461-i1400.bmp\n",
            "[labels] 3064 [0 0 0 0 0 0 0 0 0 0] [2 2 2 2 2 2 2 2 2 2]\n",
            "[train_images_path] 2451 /content/tumor_dataset/Glioma/2.0---MR024780G-i2885.bmp /content/tumor_dataset/Glioma/2.0---MR051796-i2574.bmp\n",
            "[train_labels] 2451 [0 0 0 0 0 1 2 0 0 0] [0 2 2 2 0 1 1 2 2 0]\n",
            "[test_images_path] 613 /content/tumor_dataset/Glioma/2.0---MR051586-i2929.bmp /content/tumor_dataset/Pituitary/3.0---103671-i1325.bmp\n",
            "[test_labels] 613 [0 0 1 1 1 0 1 0 2 2] [1 1 0 0 2 1 0 0 2 2]\n",
            "Fold 1/5\n"
          ]
        },
        {
          "output_type": "stream",
          "name": "stderr",
          "text": [
            "100%|██████████| 4/4 [00:14<00:00,  3.60s/it]\n"
          ]
        },
        {
          "output_type": "stream",
          "name": "stdout",
          "text": [
            "[train][Fold 1][Epoch 1]: Loss 1.0323280670204942, Accuracy: 0.47397956252098083\n"
          ]
        },
        {
          "output_type": "stream",
          "name": "stderr",
          "text": [
            "100%|██████████| 1/1 [00:01<00:00,  1.00s/it]\n"
          ]
        },
        {
          "output_type": "stream",
          "name": "stdout",
          "text": [
            "[valid][Fold 1][Epoch 1]: Loss 0.0016956868336788263, Accuracy: 0.7107943296432495\n"
          ]
        },
        {
          "output_type": "stream",
          "name": "stderr",
          "text": [
            "100%|██████████| 4/4 [00:03<00:00,  1.02it/s]\n"
          ]
        },
        {
          "output_type": "stream",
          "name": "stdout",
          "text": [
            "[train][Fold 1][Epoch 2]: Loss 0.7631913185119629, Accuracy: 0.6938775181770325\n"
          ]
        },
        {
          "output_type": "stream",
          "name": "stderr",
          "text": [
            "100%|██████████| 1/1 [00:00<00:00,  1.31it/s]\n"
          ]
        },
        {
          "output_type": "stream",
          "name": "stdout",
          "text": [
            "[valid][Fold 1][Epoch 2]: Loss 0.0010370988467074704, Accuracy: 0.8126273155212402\n"
          ]
        },
        {
          "output_type": "stream",
          "name": "stderr",
          "text": [
            "100%|██████████| 4/4 [00:04<00:00,  1.04s/it]\n"
          ]
        },
        {
          "output_type": "stream",
          "name": "stdout",
          "text": [
            "[train][Fold 1][Epoch 3]: Loss 0.4939384769420235, Accuracy: 0.7928571105003357\n"
          ]
        },
        {
          "output_type": "stream",
          "name": "stderr",
          "text": [
            "100%|██████████| 1/1 [00:00<00:00,  1.02it/s]\n"
          ]
        },
        {
          "output_type": "stream",
          "name": "stdout",
          "text": [
            "[valid][Fold 1][Epoch 3]: Loss 0.0007359724787733463, Accuracy: 0.8431772589683533\n"
          ]
        },
        {
          "output_type": "stream",
          "name": "stderr",
          "text": [
            "100%|██████████| 4/4 [00:03<00:00,  1.02it/s]\n"
          ]
        },
        {
          "output_type": "stream",
          "name": "stdout",
          "text": [
            "[train][Fold 1][Epoch 4]: Loss 0.39820053467945177, Accuracy: 0.8352040648460388\n"
          ]
        },
        {
          "output_type": "stream",
          "name": "stderr",
          "text": [
            "100%|██████████| 1/1 [00:00<00:00,  1.31it/s]\n"
          ]
        },
        {
          "output_type": "stream",
          "name": "stdout",
          "text": [
            "[valid][Fold 1][Epoch 4]: Loss 0.0006863812929258327, Accuracy: 0.867617130279541\n"
          ]
        },
        {
          "output_type": "stream",
          "name": "stderr",
          "text": [
            "100%|██████████| 4/4 [00:03<00:00,  1.05it/s]\n"
          ]
        },
        {
          "output_type": "stream",
          "name": "stdout",
          "text": [
            "[train][Fold 1][Epoch 5]: Loss 0.3436730609864605, Accuracy: 0.8535714149475098\n"
          ]
        },
        {
          "output_type": "stream",
          "name": "stderr",
          "text": [
            "100%|██████████| 1/1 [00:00<00:00,  1.32it/s]\n"
          ]
        },
        {
          "output_type": "stream",
          "name": "stdout",
          "text": [
            "[valid][Fold 1][Epoch 5]: Loss 0.000841969203074935, Accuracy: 0.8391039371490479\n",
            "Fold 2/5\n"
          ]
        },
        {
          "output_type": "stream",
          "name": "stderr",
          "text": [
            "100%|██████████| 4/4 [00:04<00:00,  1.12s/it]\n"
          ]
        },
        {
          "output_type": "stream",
          "name": "stdout",
          "text": [
            "[train][Fold 2][Epoch 1]: Loss 1.0167719704468965, Accuracy: 0.5063742995262146\n"
          ]
        },
        {
          "output_type": "stream",
          "name": "stderr",
          "text": [
            "100%|██████████| 1/1 [00:00<00:00,  1.27it/s]\n"
          ]
        },
        {
          "output_type": "stream",
          "name": "stdout",
          "text": [
            "[valid][Fold 2][Epoch 1]: Loss 0.0017193196987619205, Accuracy: 0.718367338180542\n"
          ]
        },
        {
          "output_type": "stream",
          "name": "stderr",
          "text": [
            "100%|██████████| 4/4 [00:03<00:00,  1.01it/s]\n"
          ]
        },
        {
          "output_type": "stream",
          "name": "stdout",
          "text": [
            "[train][Fold 2][Epoch 2]: Loss 0.7688709069793775, Accuracy: 0.6955634951591492\n"
          ]
        },
        {
          "output_type": "stream",
          "name": "stderr",
          "text": [
            "100%|██████████| 1/1 [00:00<00:00,  1.28it/s]\n"
          ]
        },
        {
          "output_type": "stream",
          "name": "stdout",
          "text": [
            "[valid][Fold 2][Epoch 2]: Loss 0.0010768370968954903, Accuracy: 0.7551019787788391\n"
          ]
        },
        {
          "output_type": "stream",
          "name": "stderr",
          "text": [
            "100%|██████████| 4/4 [00:04<00:00,  1.11s/it]\n"
          ]
        },
        {
          "output_type": "stream",
          "name": "stdout",
          "text": [
            "[train][Fold 2][Epoch 3]: Loss 0.5136737411785709, Accuracy: 0.7735849618911743\n"
          ]
        },
        {
          "output_type": "stream",
          "name": "stderr",
          "text": [
            "100%|██████████| 1/1 [00:00<00:00,  1.27it/s]\n"
          ]
        },
        {
          "output_type": "stream",
          "name": "stdout",
          "text": [
            "[valid][Fold 2][Epoch 3]: Loss 0.0008277961186000279, Accuracy: 0.8367346525192261\n"
          ]
        },
        {
          "output_type": "stream",
          "name": "stderr",
          "text": [
            "100%|██████████| 4/4 [00:03<00:00,  1.01it/s]\n"
          ]
        },
        {
          "output_type": "stream",
          "name": "stdout",
          "text": [
            "[train][Fold 2][Epoch 4]: Loss 0.44956287038016235, Accuracy: 0.8143804669380188\n"
          ]
        },
        {
          "output_type": "stream",
          "name": "stderr",
          "text": [
            "100%|██████████| 1/1 [00:00<00:00,  1.25it/s]\n"
          ]
        },
        {
          "output_type": "stream",
          "name": "stdout",
          "text": [
            "[valid][Fold 2][Epoch 4]: Loss 0.0006872063996840496, Accuracy: 0.8571428060531616\n"
          ]
        },
        {
          "output_type": "stream",
          "name": "stderr",
          "text": [
            "100%|██████████| 4/4 [00:03<00:00,  1.01it/s]\n"
          ]
        },
        {
          "output_type": "stream",
          "name": "stdout",
          "text": [
            "[train][Fold 2][Epoch 5]: Loss 0.4027491029672997, Accuracy: 0.8383477926254272\n"
          ]
        },
        {
          "output_type": "stream",
          "name": "stderr",
          "text": [
            "100%|██████████| 1/1 [00:00<00:00,  1.06it/s]\n"
          ]
        },
        {
          "output_type": "stream",
          "name": "stdout",
          "text": [
            "[valid][Fold 2][Epoch 5]: Loss 0.0009112643344061715, Accuracy: 0.7938775420188904\n",
            "Fold 3/5\n"
          ]
        },
        {
          "output_type": "stream",
          "name": "stderr",
          "text": [
            "100%|██████████| 4/4 [00:04<00:00,  1.18s/it]\n"
          ]
        },
        {
          "output_type": "stream",
          "name": "stdout",
          "text": [
            "[train][Fold 3][Epoch 1]: Loss 1.0271537716081105, Accuracy: 0.48036718368530273\n"
          ]
        },
        {
          "output_type": "stream",
          "name": "stderr",
          "text": [
            "100%|██████████| 1/1 [00:00<00:00,  1.28it/s]\n"
          ]
        },
        {
          "output_type": "stream",
          "name": "stdout",
          "text": [
            "[valid][Fold 3][Epoch 1]: Loss 0.0016500004700251989, Accuracy: 0.7224489450454712\n"
          ]
        },
        {
          "output_type": "stream",
          "name": "stderr",
          "text": [
            "100%|██████████| 4/4 [00:04<00:00,  1.08s/it]\n"
          ]
        },
        {
          "output_type": "stream",
          "name": "stdout",
          "text": [
            "[train][Fold 3][Epoch 2]: Loss 0.7350844293756791, Accuracy: 0.6960734724998474\n"
          ]
        },
        {
          "output_type": "stream",
          "name": "stderr",
          "text": [
            "100%|██████████| 1/1 [00:00<00:00,  1.09it/s]\n"
          ]
        },
        {
          "output_type": "stream",
          "name": "stdout",
          "text": [
            "[valid][Fold 3][Epoch 2]: Loss 0.0010863519444757577, Accuracy: 0.7857142686843872\n"
          ]
        },
        {
          "output_type": "stream",
          "name": "stderr",
          "text": [
            "100%|██████████| 4/4 [00:04<00:00,  1.09s/it]\n"
          ]
        },
        {
          "output_type": "stream",
          "name": "stdout",
          "text": [
            "[train][Fold 3][Epoch 3]: Loss 0.4920281044595525, Accuracy: 0.7899031639099121\n"
          ]
        },
        {
          "output_type": "stream",
          "name": "stderr",
          "text": [
            "100%|██████████| 1/1 [00:00<00:00,  1.29it/s]\n"
          ]
        },
        {
          "output_type": "stream",
          "name": "stdout",
          "text": [
            "[valid][Fold 3][Epoch 3]: Loss 0.0009302452510716964, Accuracy: 0.8142856955528259\n"
          ]
        },
        {
          "output_type": "stream",
          "name": "stderr",
          "text": [
            "100%|██████████| 4/4 [00:03<00:00,  1.02it/s]\n"
          ]
        },
        {
          "output_type": "stream",
          "name": "stdout",
          "text": [
            "[train][Fold 3][Epoch 4]: Loss 0.3854477208740306, Accuracy: 0.8363080620765686\n"
          ]
        },
        {
          "output_type": "stream",
          "name": "stderr",
          "text": [
            "100%|██████████| 1/1 [00:00<00:00,  1.30it/s]\n"
          ]
        },
        {
          "output_type": "stream",
          "name": "stdout",
          "text": [
            "[valid][Fold 3][Epoch 4]: Loss 0.0009328155493249699, Accuracy: 0.8204081058502197\n"
          ]
        },
        {
          "output_type": "stream",
          "name": "stderr",
          "text": [
            "100%|██████████| 4/4 [00:03<00:00,  1.02it/s]\n"
          ]
        },
        {
          "output_type": "stream",
          "name": "stdout",
          "text": [
            "[train][Fold 3][Epoch 5]: Loss 0.37158120569071557, Accuracy: 0.8403875827789307\n"
          ]
        },
        {
          "output_type": "stream",
          "name": "stderr",
          "text": [
            "100%|██████████| 1/1 [00:01<00:00,  1.04s/it]\n"
          ]
        },
        {
          "output_type": "stream",
          "name": "stdout",
          "text": [
            "[valid][Fold 3][Epoch 5]: Loss 0.0008219451928625301, Accuracy: 0.8204081058502197\n",
            "Fold 4/5\n"
          ]
        },
        {
          "output_type": "stream",
          "name": "stderr",
          "text": [
            "100%|██████████| 4/4 [00:03<00:00,  1.01it/s]\n"
          ]
        },
        {
          "output_type": "stream",
          "name": "stdout",
          "text": [
            "[train][Fold 4][Epoch 1]: Loss 1.007601908948092, Accuracy: 0.5012748837471008\n"
          ]
        },
        {
          "output_type": "stream",
          "name": "stderr",
          "text": [
            "100%|██████████| 1/1 [00:00<00:00,  1.27it/s]\n"
          ]
        },
        {
          "output_type": "stream",
          "name": "stdout",
          "text": [
            "[valid][Fold 4][Epoch 1]: Loss 0.0016160811696733746, Accuracy: 0.699999988079071\n"
          ]
        },
        {
          "output_type": "stream",
          "name": "stderr",
          "text": [
            "100%|██████████| 4/4 [00:03<00:00,  1.01it/s]\n"
          ]
        },
        {
          "output_type": "stream",
          "name": "stdout",
          "text": [
            "[train][Fold 4][Epoch 2]: Loss 0.7332545494863052, Accuracy: 0.6945436596870422\n"
          ]
        },
        {
          "output_type": "stream",
          "name": "stderr",
          "text": [
            "100%|██████████| 1/1 [00:01<00:00,  1.48s/it]\n"
          ]
        },
        {
          "output_type": "stream",
          "name": "stdout",
          "text": [
            "[valid][Fold 4][Epoch 2]: Loss 0.00109635092774216, Accuracy: 0.7877550721168518\n"
          ]
        },
        {
          "output_type": "stream",
          "name": "stderr",
          "text": [
            "100%|██████████| 4/4 [00:06<00:00,  1.55s/it]\n"
          ]
        },
        {
          "output_type": "stream",
          "name": "stdout",
          "text": [
            "[train][Fold 4][Epoch 3]: Loss 0.5306251967883365, Accuracy: 0.7664456963539124\n"
          ]
        },
        {
          "output_type": "stream",
          "name": "stderr",
          "text": [
            "100%|██████████| 1/1 [00:00<00:00,  1.29it/s]\n"
          ]
        },
        {
          "output_type": "stream",
          "name": "stdout",
          "text": [
            "[valid][Fold 4][Epoch 3]: Loss 0.0010033526590892247, Accuracy: 0.7979591488838196\n"
          ]
        },
        {
          "output_type": "stream",
          "name": "stderr",
          "text": [
            "100%|██████████| 4/4 [00:03<00:00,  1.02it/s]\n"
          ]
        },
        {
          "output_type": "stream",
          "name": "stdout",
          "text": [
            "[train][Fold 4][Epoch 4]: Loss 0.45812263777826223, Accuracy: 0.8026517629623413\n"
          ]
        },
        {
          "output_type": "stream",
          "name": "stderr",
          "text": [
            "100%|██████████| 1/1 [00:00<00:00,  1.29it/s]\n"
          ]
        },
        {
          "output_type": "stream",
          "name": "stdout",
          "text": [
            "[valid][Fold 4][Epoch 4]: Loss 0.0007966877854600244, Accuracy: 0.8387754559516907\n"
          ]
        },
        {
          "output_type": "stream",
          "name": "stderr",
          "text": [
            "100%|██████████| 4/4 [00:04<00:00,  1.09s/it]\n"
          ]
        },
        {
          "output_type": "stream",
          "name": "stdout",
          "text": [
            "[train][Fold 4][Epoch 5]: Loss 0.39838802279531194, Accuracy: 0.8317185640335083\n"
          ]
        },
        {
          "output_type": "stream",
          "name": "stderr",
          "text": [
            "100%|██████████| 1/1 [00:00<00:00,  1.30it/s]\n"
          ]
        },
        {
          "output_type": "stream",
          "name": "stdout",
          "text": [
            "[valid][Fold 4][Epoch 5]: Loss 0.0006925219175766926, Accuracy: 0.8653060793876648\n",
            "Fold 5/5\n"
          ]
        },
        {
          "output_type": "stream",
          "name": "stderr",
          "text": [
            "100%|██████████| 4/4 [00:03<00:00,  1.01it/s]\n"
          ]
        },
        {
          "output_type": "stream",
          "name": "stdout",
          "text": [
            "[train][Fold 5][Epoch 1]: Loss 1.063886919506711, Accuracy: 0.4518103301525116\n"
          ]
        },
        {
          "output_type": "stream",
          "name": "stderr",
          "text": [
            "100%|██████████| 1/1 [00:00<00:00,  1.29it/s]\n"
          ]
        },
        {
          "output_type": "stream",
          "name": "stdout",
          "text": [
            "[valid][Fold 5][Epoch 1]: Loss 0.001799829152165627, Accuracy: 0.6755101680755615\n"
          ]
        },
        {
          "output_type": "stream",
          "name": "stderr",
          "text": [
            "100%|██████████| 4/4 [00:04<00:00,  1.10s/it]\n"
          ]
        },
        {
          "output_type": "stream",
          "name": "stdout",
          "text": [
            "[train][Fold 5][Epoch 2]: Loss 0.8027410319360891, Accuracy: 0.6807751655578613\n"
          ]
        },
        {
          "output_type": "stream",
          "name": "stderr",
          "text": [
            "100%|██████████| 1/1 [00:00<00:00,  1.15it/s]\n"
          ]
        },
        {
          "output_type": "stream",
          "name": "stdout",
          "text": [
            "[valid][Fold 5][Epoch 2]: Loss 0.00109829914813139, Accuracy: 0.7897958755493164\n"
          ]
        },
        {
          "output_type": "stream",
          "name": "stderr",
          "text": [
            "100%|██████████| 4/4 [00:03<00:00,  1.02it/s]\n"
          ]
        },
        {
          "output_type": "stream",
          "name": "stdout",
          "text": [
            "[train][Fold 5][Epoch 3]: Loss 0.5133604581777932, Accuracy: 0.786843478679657\n"
          ]
        },
        {
          "output_type": "stream",
          "name": "stderr",
          "text": [
            "100%|██████████| 1/1 [00:00<00:00,  1.27it/s]\n"
          ]
        },
        {
          "output_type": "stream",
          "name": "stdout",
          "text": [
            "[valid][Fold 5][Epoch 3]: Loss 0.0007020004549804999, Accuracy: 0.8612244725227356\n"
          ]
        },
        {
          "output_type": "stream",
          "name": "stderr",
          "text": [
            "100%|██████████| 4/4 [00:03<00:00,  1.02it/s]\n"
          ]
        },
        {
          "output_type": "stream",
          "name": "stdout",
          "text": [
            "[train][Fold 5][Epoch 4]: Loss 0.3732805397515392, Accuracy: 0.8480367660522461\n"
          ]
        },
        {
          "output_type": "stream",
          "name": "stderr",
          "text": [
            "100%|██████████| 1/1 [00:00<00:00,  1.29it/s]\n"
          ]
        },
        {
          "output_type": "stream",
          "name": "stdout",
          "text": [
            "[valid][Fold 5][Epoch 4]: Loss 0.0006743418927095374, Accuracy: 0.855102002620697\n"
          ]
        },
        {
          "output_type": "stream",
          "name": "stderr",
          "text": [
            "100%|██████████| 4/4 [00:04<00:00,  1.10s/it]\n"
          ]
        },
        {
          "output_type": "stream",
          "name": "stdout",
          "text": [
            "[train][Fold 5][Epoch 5]: Loss 0.3361395372990623, Accuracy: 0.8633350729942322\n"
          ]
        },
        {
          "output_type": "stream",
          "name": "stderr",
          "text": [
            "100%|██████████| 1/1 [00:00<00:00,  1.31it/s]\n"
          ]
        },
        {
          "output_type": "stream",
          "name": "stdout",
          "text": [
            "[valid][Fold 5][Epoch 5]: Loss 0.0007832072827280784, Accuracy: 0.8367346525192261\n",
            "[test] Overall Evaluation Metrics:\n",
            "Accuracy: 0.8205546492659054\n",
            "Precision: [0.75471698 0.90196078 0.92670157]\n",
            "Recall: [0.98245614 0.32394366 0.9516129 ]\n",
            "F1 Score: [0.85365854 0.47668394 0.93899204]\n",
            "Confusion_metrics:[[280   2   3]\n",
            " [ 85  46  11]\n",
            " [  6   3 177]]\n"
          ]
        },
        {
          "output_type": "display_data",
          "data": {
            "text/plain": [
              "<Figure size 640x480 with 1 Axes>"
            ],
            "image/png": "[encoded data removed]"
          },
          "metadata": {}
        },
        {
          "output_type": "display_data",
          "data": {
            "text/plain": [
              "<Figure size 640x480 with 1 Axes>"
            ],
            "image/png": "[encoded data removed]"
          },
          "metadata": {}
        },
        {
          "output_type": "stream",
          "name": "stdout",
          "text": [
            "Overall Confusion Matrix:\n",
            "[[280   2   3]\n",
            " [ 85  46  11]\n",
            " [  6   3 177]]\n",
            "[features_array] (2451, 64)\n",
            "[labels_array] (2451,)\n",
            "[features_array] (613, 64)\n",
            "[labels_array] (613,)\n"
          ]
        }
      ],
      "source": [
        "\n",
        "dataset_path = \"/content/tumor_dataset\"\n",
        "image_size = (224, 224)\n",
        "# Load and preprocess the dataset\n",
        "classes = [\"Glioma\", \"Meningioma\", \"Pituitary\"]\n",
        "\n",
        "images_path = []\n",
        "labels = []\n",
        "for i, class_name in enumerate(classes):\n",
        "    class_path = os.path.join(dataset_path, class_name)\n",
        "    image_files = os.listdir(class_path)\n",
        "\n",
        "    for image_file in image_files:\n",
        "        image_path = os.path.join(class_path, image_file)\n",
        "        images_path.append(image_path)\n",
        "        labels.append(i)\n",
        "\n",
        "# Convert the lists to numpy arrays\n",
        "images_path = np.array(images_path)\n",
        "labels = np.array(labels)\n",
        "\n",
        "print('[images_path]', len(images_path), images_path[0], images_path[-1])\n",
        "print('[labels]', len(labels), labels[:10], labels[-10:])\n",
        "\n",
        "# Create the train-test split\n",
        "train_images_path, test_images_path, train_labels, test_labels = train_test_split(images_path, labels, test_size=0.2, stratify=labels, random_state=42)\n",
        "\n",
        "print('[train_images_path]', len(train_images_path), train_images_path[0], train_images_path[-1])\n",
        "print('[train_labels]', len(train_labels), train_labels[:10], train_labels[-10:])\n",
        "print('[test_images_path]', len(test_images_path), test_images_path[0], test_images_path[-1])\n",
        "print('[test_labels]', len(test_labels), test_labels[:10], test_labels[-10:])\n",
        "\n",
        "class BrainTumorDataset(Dataset):\n",
        "    def __init__(self, images_path, labels):\n",
        "        self.images_path = images_path\n",
        "        self.labels = labels\n",
        "\n",
        "    def __len__(self):\n",
        "        return len(self.images_path)\n",
        "\n",
        "    def __getitem__(self, idx):\n",
        "        # get image path\n",
        "        image_path = self.images_path[idx]\n",
        "        # get image label\n",
        "        label = self.labels[idx]\n",
        "        # read actual image\n",
        "        image = cv2.imread(image_path)\n",
        "        # resize image\n",
        "        image = cv2.resize(image, image_size)\n",
        "        # convert to RGB format\n",
        "        image = cv2.cvtColor(image, cv2.COLOR_BGR2RGB)\n",
        "        # convert to pytorch tensor\n",
        "        image = torch.from_numpy(image)\n",
        "        # normalize for better performance\n",
        "        image = image / 255\n",
        "        # reorder according to pytorch requirements\n",
        "        image = image.permute((2, 0, 1))\n",
        "        return image, label\n",
        "\n",
        "# Define Common Functions\n",
        "def training_loop(train_loader, val_loader, model, optimizer, criterion, epochs, fold, device):\n",
        "    # Lists to store metrics for this fold\n",
        "    train_losses = []\n",
        "    train_accuracies = []\n",
        "    val_losses = []\n",
        "    val_accuracies = []\n",
        "    val_predictions = []\n",
        "    val_probs = []\n",
        "\n",
        "    # Training loop for this fold\n",
        "    for epoch in range(epochs):\n",
        "        #################\n",
        "        # TRAINING PART #\n",
        "        #################\n",
        "        model.train()\n",
        "        running_loss = 0.0\n",
        "        correct_predictions = 0\n",
        "        total_train_samples = len(train_loader.dataset)\n",
        "\n",
        "        for idx, (images, labels) in tqdm(enumerate(train_loader), total=len(train_loader)):\n",
        "            images, labels = images.to(device), labels.to(device)\n",
        "            optimizer.zero_grad()\n",
        "            outputs = model(images)\n",
        "            loss = criterion(outputs, labels)\n",
        "            loss.backward()\n",
        "            optimizer.step()\n",
        "            running_loss += loss.item() * len(labels)\n",
        "            _, predicted = torch.max(outputs.data, 1)\n",
        "            correct_predictions += sum(predicted == labels)\n",
        "\n",
        "        average_accuracy = correct_predictions / total_train_samples\n",
        "        average_loss = running_loss / total_train_samples\n",
        "        print(f\"[train][Fold {fold + 1}][Epoch {epoch + 1}]: Loss {average_loss}, Accuracy: {average_accuracy}\")\n",
        "        train_accuracies.append(average_accuracy.item())\n",
        "        train_losses.append(average_loss)\n",
        "\n",
        "        ###################\n",
        "        # VALIDATION PART #\n",
        "        ###################\n",
        "        model.eval()\n",
        "        val_loss = 0.0\n",
        "        correct_val_predictions = 0\n",
        "        # val_trues = []\n",
        "        # val_preds = []\n",
        "        # val_probs = []\n",
        "        total_val_samples = len(val_loader.dataset)\n",
        "\n",
        "        with torch.no_grad():\n",
        "            for idx, (images, labels) in tqdm(enumerate(val_loader), total=len(val_loader)):\n",
        "                images, labels = images.to(device), labels.to(device)\n",
        "                outputs = model(images)\n",
        "                loss = criterion(outputs, labels)\n",
        "                val_loss += loss.item()\n",
        "                _, predicted = torch.max(outputs.data, 1)\n",
        "                correct_val_predictions += sum(predicted == labels)\n",
        "\n",
        "\n",
        "        average_val_accuracy = correct_val_predictions / total_val_samples\n",
        "        average_val_loss = val_loss / total_val_samples\n",
        "        print(f\"[valid][Fold {fold + 1}][Epoch {epoch + 1}]: Loss {average_val_loss}, Accuracy: {average_val_accuracy}\")\n",
        "        val_accuracies.append(average_val_accuracy.item())\n",
        "        val_losses.append(average_val_loss)\n",
        "\n",
        "\n",
        "\n",
        "    model.train()\n",
        "\n",
        "    return train_accuracies, train_losses, val_accuracies, val_losses\n",
        "\n",
        "def plot_macro_roc_curve(fprs, tprs, aucs):\n",
        "    plt.figure()\n",
        "    colors = ['red', 'green', 'blue']\n",
        "    for i in range(len(fprs)):\n",
        "        plt.plot(fprs[i], tprs[i], color=colors[i], lw=2, label=f'Class {i} (AUC = {aucs[i]:.2f})')\n",
        "    plt.plot([0, 1], [0, 1], color='gray', lw=2, linestyle='--')\n",
        "    plt.xlim([0.0, 1.0])\n",
        "    plt.ylim([0.0, 1.05])\n",
        "    plt.xlabel('False Positive Rate')\n",
        "    plt.ylabel('True Positive Rate')\n",
        "    plt.title('Macro-averaged ROC Curve')\n",
        "    plt.legend(loc='lower right')\n",
        "    plt.show()\n",
        "\n",
        "def plot_macro_precision_recall_curve(precisions, recalls):\n",
        "    plt.figure()\n",
        "    colors = ['red', 'green', 'blue']\n",
        "    for i in range(len(precisions)):\n",
        "        plt.plot(recalls[i], precisions[i], color=colors[i], lw=2, label=f'Class {i}')\n",
        "    plt.xlabel('Recall')\n",
        "    plt.ylabel('Precision')\n",
        "    plt.ylim([0.0, 1.05])\n",
        "    plt.xlim([0.0, 1.0])\n",
        "    plt.title('Macro-averaged Precision-Recall Curve')\n",
        "    plt.legend(loc='lower left')\n",
        "    plt.show()\n",
        "\n",
        "import torch.nn.functional as F\n",
        "import pandas as pd\n",
        "\n",
        "\n",
        "def extract_features(loader, model, device):\n",
        "\n",
        "    model.eval()\n",
        "    features_list = []\n",
        "    labels_list = []\n",
        "\n",
        "    def hook(model, input, output):\n",
        "        features_list.append(output.detach().cpu().numpy())\n",
        "\n",
        "    h = model.classifier[7].register_forward_hook(hook)\n",
        "\n",
        "    with torch.no_grad():\n",
        "        for images, labels in loader:\n",
        "            images = images.to(device)\n",
        "            outputs = model(images)\n",
        "            labels_list.append(labels.cpu().numpy())\n",
        "\n",
        "    h.remove()\n",
        "\n",
        "    features_array = np.concatenate(features_list, axis=0)\n",
        "    labels_array = np.concatenate(labels_list, axis=0)\n",
        "    print('[features_array]', features_array.shape)\n",
        "    print('[labels_array]', labels_array.shape)\n",
        "\n",
        "    return features_array, labels_array\n",
        "\n",
        "\n",
        "def kfold_training_loop(train_images_path, train_labels, test_images_path, test_labels, num_folds=5, epochs_per_fold=5, batch_size=32):\n",
        "    # kf = KFold(n_splits=num_folds, shuffle=True, random_state=42)\n",
        "    kf = StratifiedKFold(n_splits=num_folds, shuffle=True, random_state=42)\n",
        "\n",
        "    # Lists to store metrics for each fold\n",
        "    train_accuracies_list = []\n",
        "    train_losses_list = []\n",
        "    val_accuracies_list = []\n",
        "    val_losses_list = []\n",
        "\n",
        "    # test_probs=[]\n",
        "    # test_predictions_list = []\n",
        "\n",
        "    # Training loop with k-fold cross-validation\n",
        "    for fold, (train_index, val_index) in enumerate(kf.split(train_images_path, train_labels)):\n",
        "        print(f\"Fold {fold + 1}/{num_folds}\")\n",
        "\n",
        "        # Create the train-validation split for this fold\n",
        "        train_images_path_fold = train_images_path[train_index]\n",
        "        train_labels_fold = train_labels[train_index]\n",
        "        val_images_path_fold = train_images_path[val_index]\n",
        "        val_labels_fold = train_labels[val_index]\n",
        "        train_dataset = BrainTumorDataset(images_path=train_images_path_fold, labels=train_labels_fold)\n",
        "        val_dataset = BrainTumorDataset(images_path=val_images_path_fold, labels=val_labels_fold)\n",
        "        # print('[train_dataset, val_dataset]', len(train_dataset), len(val_dataset))\n",
        "\n",
        "        train_loader = DataLoader(train_dataset, batch_size=batch_size, shuffle=True)\n",
        "        val_loader = DataLoader(val_dataset, batch_size=2*batch_size, shuffle=False)\n",
        "        # print('[train_loader, val_loader]', len(train_loader), len(val_loader))\n",
        "\n",
        "        # Load the pre-trained AlexNet model for each fold\n",
        "        alexnet = models.alexnet(weights=models.AlexNet_Weights.DEFAULT)\n",
        "        alexnet.classifier[6] = nn.Dropout(0.5)\n",
        "        alexnet.classifier.append(nn.Linear(4096, 64))\n",
        "        alexnet.classifier.append(nn.ReLU(inplace=True))\n",
        "        alexnet.classifier.append(nn.Linear(64, 3))\n",
        "        alexnet.to(device)\n",
        "\n",
        "        # Define the loss function\n",
        "        criterion = nn.CrossEntropyLoss()\n",
        "\n",
        "        # Define the optimizer, added some good practices\n",
        "        optimizer = optim.Adam(alexnet.parameters(), lr=0.0001, weight_decay=0.005, amsgrad=True)\n",
        "\n",
        "        fold_train_accuracies, fold_train_losses, fold_val_accuracies, fold_val_losses = training_loop(\n",
        "            train_loader=train_loader,\n",
        "            val_loader=val_loader,\n",
        "            model=alexnet,\n",
        "            optimizer=optimizer,\n",
        "            criterion=criterion,\n",
        "            epochs=epochs_per_fold,\n",
        "            fold=fold,\n",
        "            device=device\n",
        "        )\n",
        "\n",
        "        train_accuracies_list.append(fold_train_accuracies)\n",
        "        train_losses_list.append(fold_train_losses)\n",
        "        val_accuracies_list.append(fold_val_accuracies)\n",
        "        val_losses_list.append(fold_val_losses)\n",
        "\n",
        "        # Calculate the average metrics for all folds\n",
        "        avg_train_accuracies = np.mean(fold_train_accuracies, axis=0)\n",
        "        avg_train_losses = np.mean(fold_train_losses, axis=0)\n",
        "        avg_val_accuracies = np.mean(fold_val_accuracies, axis=0)\n",
        "        avg_val_losses = np.mean(fold_val_losses, axis=0)\n",
        "\n",
        "\n",
        "\n",
        "    # Evaluate the model on test set\n",
        "    alexnet.eval()\n",
        "    test_predictions = []\n",
        "    test_probs = []\n",
        "    test_dataset = BrainTumorDataset(images_path=test_images_path, labels=test_labels)\n",
        "    test_loader = DataLoader(test_dataset, batch_size=2*batch_size, shuffle=False)\n",
        "\n",
        "    with torch.no_grad():\n",
        "        for images, labels in test_loader:\n",
        "            images = images.to(device)\n",
        "            outputs = alexnet(images)\n",
        "            _, predicted = torch.max(outputs, 1)\n",
        "            test_predictions.append(predicted.cpu().numpy())\n",
        "            test_probs.append(torch.softmax(outputs, dim=1).detach().cpu().numpy())\n",
        "    # test_predictions_list.append(test_predictions)\n",
        "    test_predictions = np.concatenate(test_predictions, axis=0)\n",
        "    test_probs = np.concatenate(test_probs, axis=0)\n",
        "    accuracy = accuracy_score(test_labels, test_predictions)\n",
        "    precision = precision_score(test_labels, test_predictions, average=None, zero_division=0)\n",
        "    recall = recall_score(test_labels, test_predictions, average=None)\n",
        "    f1 = f1_score(test_labels, test_predictions, average=None)\n",
        "    confusion_metrics = confusion_matrix(test_labels, test_predictions)\n",
        "\n",
        "    print(\"[test] Overall Evaluation Metrics:\")\n",
        "    print(f\"Accuracy: {accuracy}\")\n",
        "    print(f\"Precision: {precision}\")\n",
        "    print(f\"Recall: {recall}\")\n",
        "    print(f\"F1 Score: {f1}\")\n",
        "    print(f\"Confusion_metrics:{confusion_metrics}\")\n",
        "\n",
        "\n",
        "\n",
        "    # Calculate ROC curve and AUC for each class\n",
        "    fprs = []\n",
        "    tprs = []\n",
        "    aucs = []\n",
        "    for i in range(3):\n",
        "        fpr, tpr, _ = roc_curve(test_labels == i, test_probs[:, i])\n",
        "        roc_auc = auc(fpr, tpr)\n",
        "        fprs.append(fpr)\n",
        "        tprs.append(tpr)\n",
        "        aucs.append(roc_auc)\n",
        "\n",
        "    # Calculate Precision-Recall curve for each class\n",
        "    precisions = []\n",
        "    recalls = []\n",
        "    for i in range(3):\n",
        "        precision, recall, _ = precision_recall_curve(test_labels == i, test_probs[:, i])\n",
        "        precisions.append(precision)\n",
        "        recalls.append(recall)\n",
        "\n",
        "    # Plot macro-averaged ROC curve and Precision-Recall curve\n",
        "    plot_macro_roc_curve(fprs, tprs, aucs)\n",
        "    plot_macro_precision_recall_curve(precisions, recalls)\n",
        "\n",
        "    # Print overall confusion matrix\n",
        "    overall_confusion_matrix = confusion_matrix(test_labels, test_predictions)\n",
        "    print(\"Overall Confusion Matrix:\")\n",
        "    print(overall_confusion_matrix)\n",
        "\n",
        "    # Train Dataset Feature Extraction\n",
        "    train_dataset = BrainTumorDataset(images_path=train_images_path, labels=train_labels)\n",
        "    train_loader = DataLoader(train_dataset, batch_size=2*batch_size, shuffle=False)\n",
        "    train_features, train_labels = extract_features(train_loader, alexnet, device)\n",
        "    # Convert lists to arrays\n",
        "    Alexnet_train_features = np.array(train_features)\n",
        "    train_labels_list = np.array(train_labels)\n",
        "\n",
        "\n",
        "    # Test Dataset Feature Extraction\n",
        "    test_dataset = BrainTumorDataset(images_path=test_images_path, labels=test_labels)\n",
        "    test_loader = DataLoader(test_dataset, batch_size=2*batch_size, shuffle=False)\n",
        "    test_features, test_labels = extract_features(test_loader, alexnet, device)\n",
        "# Convert lists to arrays\n",
        "    Alexnet_test_features = np.array(test_features)\n",
        "    test_labels_list = np.array(test_labels)\n",
        "\n",
        "\n",
        "# Create dataframes for training and testing features with labels\n",
        "    train_data = pd.DataFrame(data=Alexnet_train_features)\n",
        "    train_data[\"label\"] = train_labels_list\n",
        "    test_data = pd.DataFrame(data=Alexnet_test_features)\n",
        "    test_data[\"label\"] = test_labels_list\n",
        "\n",
        "    # Save training and testing data to CSV files\n",
        "    train_data.to_csv(\"Alexnet_train_features.csv\", index=False)\n",
        "    test_data.to_csv(\"Alexnet_test_features.csv\", index=False)\n",
        "\n",
        "kfold_training_loop(train_images_path, train_labels, test_images_path, test_labels, num_folds=5, epochs_per_fold=5, batch_size=512)\n"
      ]
    },
    {
      "cell_type": "code",
      "execution_count": 9,
      "metadata": {
        "colab": {
          "base_uri": "https://localhost:8080/"
        },
        "id": "r0ZUhRT-9q1t",
        "outputId": "d38a771d-f754-4d0d-f10b-58dd692bb420"
      },
      "outputs": [
        {
          "output_type": "execute_result",
          "data": {
            "text/plain": [
              "AlexNet(\n",
              "  (features): Sequential(\n",
              "    (0): Conv2d(3, 64, kernel_size=(11, 11), stride=(4, 4), padding=(2, 2))\n",
              "    (1): ReLU(inplace=True)\n",
              "    (2): MaxPool2d(kernel_size=3, stride=2, padding=0, dilation=1, ceil_mode=False)\n",
              "    (3): Conv2d(64, 192, kernel_size=(5, 5), stride=(1, 1), padding=(2, 2))\n",
              "    (4): ReLU(inplace=True)\n",
              "    (5): MaxPool2d(kernel_size=3, stride=2, padding=0, dilation=1, ceil_mode=False)\n",
              "    (6): Conv2d(192, 384, kernel_size=(3, 3), stride=(1, 1), padding=(1, 1))\n",
              "    (7): ReLU(inplace=True)\n",
              "    (8): Conv2d(384, 256, kernel_size=(3, 3), stride=(1, 1), padding=(1, 1))\n",
              "    (9): ReLU(inplace=True)\n",
              "    (10): Conv2d(256, 256, kernel_size=(3, 3), stride=(1, 1), padding=(1, 1))\n",
              "    (11): ReLU(inplace=True)\n",
              "    (12): MaxPool2d(kernel_size=3, stride=2, padding=0, dilation=1, ceil_mode=False)\n",
              "  )\n",
              "  (avgpool): AdaptiveAvgPool2d(output_size=(6, 6))\n",
              "  (classifier): Sequential(\n",
              "    (0): Dropout(p=0.5, inplace=False)\n",
              "    (1): Linear(in_features=9216, out_features=4096, bias=True)\n",
              "    (2): ReLU(inplace=True)\n",
              "    (3): Dropout(p=0.5, inplace=False)\n",
              "    (4): Linear(in_features=4096, out_features=4096, bias=True)\n",
              "    (5): ReLU(inplace=True)\n",
              "    (6): Linear(in_features=4096, out_features=1000, bias=True)\n",
              "  )\n",
              ")"
            ]
          },
          "metadata": {},
          "execution_count": 9
        }
      ],
      "source": [
        "# @title Default title text\n",
        "models.alexnet(weights=models.AlexNet_Weights.DEFAULT)"
      ]
    },
    {
      "cell_type": "markdown",
      "metadata": {
        "id": "n2EkKXHL98L2"
      },
      "source": [
        "Task P4  HOG FEATURES"
      ]
    },
    {
      "cell_type": "code",
      "execution_count": 10,
      "metadata": {
        "colab": {
          "base_uri": "https://localhost:8080/"
        },
        "id": "PfFE6tfgbrmx",
        "outputId": "36b95466-b63c-4ca2-f23b-726b91af9a3b"
      },
      "outputs": [
        {
          "output_type": "stream",
          "name": "stdout",
          "text": [
            "HOG features shape: (3064, 34596)\n",
            "Labels shape: (3064,)\n",
            "[hog_features] 3064 [0.03518459 0.         0.         ... 0.         0.         0.        ] [0. 0. 0. ... 0. 0. 0.]\n",
            "[labels] 3064 [0 0 0 0 0 0 0 0 0 0] [2 2 2 2 2 2 2 2 2 2]\n"
          ]
        }
      ],
      "source": [
        "import os\n",
        "import numpy as np\n",
        "from skimage import io, transform, feature, exposure,color\n",
        "\n",
        "dataset_path = \"/content/tumor_dataset\"\n",
        "image_size = (256,256)\n",
        "classes = [\"Glioma\", \"Meningioma\", \"Pituitary\"]\n",
        "\n",
        "# Define HOG parameters\n",
        "orientations = 9\n",
        "pixels_per_cell = (8, 8)\n",
        "cells_per_block = (2, 2)\n",
        "\n",
        "# Define a function to extract HOG features from an image\n",
        "def extract_hog_features(image):\n",
        "    image = io.imread(image)\n",
        "    image = transform.resize(image, image_size)\n",
        "\n",
        "\n",
        "    features = feature.hog(image, orientations=orientations,\n",
        "                           pixels_per_cell=pixels_per_cell,\n",
        "                           cells_per_block=cells_per_block,\n",
        "                           block_norm='L2-Hys')\n",
        "\n",
        "    return features\n",
        "\n",
        "# Load and preprocess the dataset\n",
        "images_path = []\n",
        "labels = []\n",
        "\n",
        "for i, class_name in enumerate(classes):\n",
        "    class_path = os.path.join(dataset_path, class_name)\n",
        "    image_files = os.listdir(class_path)\n",
        "\n",
        "    for image_file in image_files:\n",
        "        image_path = os.path.join(class_path, image_file)\n",
        "        images_path.append(image_path)\n",
        "        labels.append(i)\n",
        "\n",
        "# Extract HOG features for each image\n",
        "hog_features = []\n",
        "\n",
        "for image_path in images_path:\n",
        "    hog_feature = extract_hog_features(image_path)\n",
        "    hog_features.append(hog_feature)\n",
        "\n",
        "# Convert lists to numpy arrays\n",
        "hog_features = np.array(hog_features)\n",
        "labels = np.array(labels)\n",
        "\n",
        "print('HOG features shape:', hog_features.shape)\n",
        "print('Labels shape:', labels.shape)\n",
        "print('[hog_features]', len(hog_features), hog_features[0], hog_features[-1])\n",
        "print('[labels]', len(labels), labels[:10], labels[-10:])\n",
        "\n"
      ]
    },
    {
      "cell_type": "code",
      "execution_count": 11,
      "metadata": {
        "colab": {
          "base_uri": "https://localhost:8080/"
        },
        "id": "S7CPeU79dH8L",
        "outputId": "3c6ae8b7-f38b-48f6-aa30-86a6c0f6deca"
      },
      "outputs": [
        {
          "output_type": "stream",
          "name": "stdout",
          "text": [
            "Epoch 1/5\n",
            "62/62 [==============================] - 5s 41ms/step - loss: 0.7462 - accuracy: 0.6980 - val_loss: 0.3771 - val_accuracy: 0.8310\n",
            "Epoch 2/5\n",
            "62/62 [==============================] - 1s 12ms/step - loss: 0.3643 - accuracy: 0.8571 - val_loss: 0.3348 - val_accuracy: 0.8452\n",
            "Epoch 3/5\n",
            "62/62 [==============================] - 1s 9ms/step - loss: 0.2169 - accuracy: 0.9189 - val_loss: 0.3284 - val_accuracy: 0.8778\n",
            "Epoch 4/5\n",
            "62/62 [==============================] - 0s 7ms/step - loss: 0.1746 - accuracy: 0.9408 - val_loss: 0.3226 - val_accuracy: 0.8513\n",
            "Epoch 5/5\n",
            "62/62 [==============================] - 0s 7ms/step - loss: 0.1017 - accuracy: 0.9668 - val_loss: 0.3090 - val_accuracy: 0.9002\n",
            "20/20 [==============================] - 0s 4ms/step\n",
            "Accuracy : 0.8972267536704731\n"
          ]
        }
      ],
      "source": [
        "from sklearn.model_selection import train_test_split\n",
        "from sklearn.neural_network import MLPClassifier\n",
        "import tensorflow as tf\n",
        "import pandas as pd\n",
        "from sklearn.metrics import accuracy_score\n",
        "\n",
        "# Split data into training and testing sets\n",
        "X_train, X_test, y_train, y_test = train_test_split(hog_features, labels, test_size=0.2,stratify=labels, random_state=42)\n",
        "\n",
        "\n",
        "\n",
        "architecture = [64, 32, len(np.unique(labels))]\n",
        "\n",
        "# Build and compile the model using TensorFlow\n",
        "model = tf.keras.Sequential([\n",
        "    tf.keras.layers.Dense(architecture[0], activation='relu', input_shape=(X_train.shape[1],)),\n",
        "    tf.keras.layers.Dense(architecture[1], activation='relu'),\n",
        "    tf.keras.layers.Dense(architecture[2], activation='softmax')\n",
        "])\n",
        "\n",
        "model.compile(optimizer='adam', loss='sparse_categorical_crossentropy', metrics=['accuracy'])\n",
        "\n",
        "# Train the original MLP model\n",
        "model.fit(X_train, y_train, epochs=5, batch_size=32, validation_split=0.2)\n",
        "\n",
        "# Predict labels using the original MLP model\n",
        "y_pred_probabilities = model.predict(X_test)\n",
        "\n",
        "# Convert predicted probabilities to class labels\n",
        "y_pred = np.argmax(y_pred_probabilities, axis=1)\n",
        "\n",
        "# Calculate accuracy\n",
        "accuracy_features = accuracy_score(y_test, y_pred)\n",
        "print(\"Accuracy :\", accuracy_features)\n"
      ]
    },
    {
      "cell_type": "code",
      "execution_count": 12,
      "metadata": {
        "colab": {
          "base_uri": "https://localhost:8080/"
        },
        "id": "wB8ZJzDWlV0R",
        "outputId": "d9b7a4cc-f72a-4db4-ad96-a33b57005281"
      },
      "outputs": [
        {
          "output_type": "stream",
          "name": "stdout",
          "text": [
            "77/77 [==============================] - 0s 4ms/step\n",
            "20/20 [==============================] - 0s 6ms/step\n"
          ]
        }
      ],
      "source": [
        "intermediate_layer_model = tf.keras.Model(inputs=model.input, outputs=model.layers[-2].output)\n",
        "X_train_features = intermediate_layer_model.predict(X_train)\n",
        "X_test_features = intermediate_layer_model.predict(X_test)\n",
        "\n",
        "# Save features to a CSV file\n",
        "train_df = pd.DataFrame(X_train_features)\n",
        "train_df['label'] = y_train\n",
        "train_df.to_csv('train_features.csv', index=False)\n",
        "\n",
        "# Save features to a CSV file\n",
        "train_df = pd.DataFrame(X_test_features)\n",
        "train_df['label'] = y_test\n",
        "train_df.to_csv('test_features.csv', index=False)"
      ]
    },
    {
      "cell_type": "code",
      "execution_count": 13,
      "metadata": {
        "colab": {
          "base_uri": "https://localhost:8080/",
          "height": 794
        },
        "id": "lUjMmv2UOxt8",
        "outputId": "8c14ca9f-1adb-4590-c692-b7fe52e97d04"
      },
      "outputs": [
        {
          "output_type": "stream",
          "name": "stdout",
          "text": [
            "Accuracy: 0.8972267536704731\n",
            "Confusion Matrix:\n",
            "[[261  11  13]\n",
            " [ 20 103  19]\n",
            " [  0   0 186]]\n",
            "Classification Report:\n",
            "              precision    recall  f1-score   support\n",
            "\n",
            "      Glioma       0.93      0.92      0.92       285\n",
            "  Meningioma       0.90      0.73      0.80       142\n",
            "   Pituitary       0.85      1.00      0.92       186\n",
            "\n",
            "    accuracy                           0.90       613\n",
            "   macro avg       0.90      0.88      0.88       613\n",
            "weighted avg       0.90      0.90      0.89       613\n",
            "\n"
          ]
        },
        {
          "output_type": "display_data",
          "data": {
            "text/plain": [
              "<Figure size 1200x600 with 2 Axes>"
            ],
            "image/png": "[encoded data removed]"
          },
          "metadata": {}
        }
      ],
      "source": [
        "from sklearn.metrics import accuracy_score, confusion_matrix, classification_report\n",
        "from sklearn.metrics import roc_curve, roc_auc_score, precision_recall_curve, auc\n",
        "import matplotlib.pyplot as plt\n",
        "\n",
        "accuracy_features = accuracy_score(y_test, y_pred)\n",
        "print(\"Accuracy:\", accuracy_features)\n",
        "\n",
        "# Calculate confusion matrix\n",
        "confusion_mat = confusion_matrix(y_test, y_pred)\n",
        "print(\"Confusion Matrix:\")\n",
        "print(confusion_mat)\n",
        "\n",
        "# Calculate precision, recall, F1-score, and support for each class\n",
        "classification_rep = classification_report(y_test, y_pred, target_names=classes)\n",
        "print(\"Classification Report:\")\n",
        "print(classification_rep)\n",
        "\n",
        "# Calculate ROC curve and AUC for each class\n",
        "n_classes = len(classes)\n",
        "fpr = {}\n",
        "tpr = {}\n",
        "roc_auc = {}\n",
        "for i in range(n_classes):\n",
        "    fpr[i], tpr[i], _ = roc_curve(y_test == i, y_pred_probabilities[:, i])\n",
        "    roc_auc[i] = auc(fpr[i], tpr[i])\n",
        "\n",
        "# Calculate precision-recall curve and AUC for each class\n",
        "precision = {}\n",
        "recall = {}\n",
        "pr_auc = {}\n",
        "for i in range(n_classes):\n",
        "    precision[i], recall[i], _ = precision_recall_curve(y_test == i, y_pred_probabilities[:, i])\n",
        "    pr_auc[i] = auc(recall[i], precision[i])\n",
        "\n",
        "# Plot ROC and PR curves for each class\n",
        "plt.figure(figsize=(12, 6))\n",
        "plt.subplot(1, 2, 1)\n",
        "for i in range(n_classes):\n",
        "    plt.plot(fpr[i], tpr[i], label=f'Class {i} (AUC = {roc_auc[i]:.2f})')\n",
        "plt.plot([0, 1], [0, 1], 'k--')\n",
        "plt.xlim([0.0, 1.0])\n",
        "plt.ylim([0.0, 1.05])\n",
        "plt.xlabel('False Positive Rate')\n",
        "plt.ylabel('True Positive Rate')\n",
        "plt.title('ROC Curve')\n",
        "plt.legend(loc=\"lower right\")\n",
        "\n",
        "plt.subplot(1, 2, 2)\n",
        "for i in range(n_classes):\n",
        "    plt.plot(recall[i], precision[i], label=f'Class {i} (AUC = {pr_auc[i]:.2f})')\n",
        "plt.xlim([0.0, 1.0])\n",
        "plt.ylim([0.0, 1.05])\n",
        "plt.xlabel('Recall')\n",
        "plt.ylabel('Precision')\n",
        "plt.title('Precision-Recall Curve')\n",
        "plt.legend(loc=\"lower left\")\n",
        "\n",
        "plt.tight_layout()\n",
        "plt.show()"
      ]
    },
    {
      "cell_type": "code",
      "execution_count": 18,
      "metadata": {
        "id": "F1IcmbdK6Mcr"
      },
      "outputs": [],
      "source": [
        "import pandas as pd\n",
        "\n",
        "# Load extracted features from CSV files\n",
        "alexnet_train_features = pd.read_csv('Alexnet_train_features.csv')\n",
        "mlp_train_features = pd.read_csv('train_features.csv')\n",
        "\n",
        "alexnet_test_features = pd.read_csv('Alexnet_test_features.csv')\n",
        "mlp_test_features = pd.read_csv('test_features.csv')\n",
        "\n",
        "# Concatenate training features\n",
        "combined_train_features = pd.concat([alexnet_train_features, mlp_train_features], axis=1, ignore_index=True)\n",
        "\n",
        "# Concatenate testing features\n",
        "combined_test_features = pd.concat([alexnet_test_features, mlp_test_features], axis=1, ignore_index=True)\n",
        "\n",
        "# Save combined features to new CSV files\n",
        "combined_train_features.to_csv('combined_train_features.csv', index=False)\n",
        "combined_test_features.to_csv('combined_test_features.csv', index=False)\n"
      ]
    },
    {
      "cell_type": "code",
      "execution_count": 16,
      "metadata": {
        "colab": {
          "base_uri": "https://localhost:8080/"
        },
        "id": "vJLohRI6aK5b",
        "outputId": "964e82ea-e878-464b-f3f5-c8cde607d320"
      },
      "outputs": [
        {
          "output_type": "stream",
          "name": "stdout",
          "text": [
            "[KNN] Overall Evaluation Metrics:\n",
            "Accuracy: 0.9510603588907015\n",
            "Precision: [0.97132616 0.90714286 0.95360825]\n",
            "Recall: [0.95087719 0.8943662  0.99462366]\n",
            "F1 Score: [0.96099291 0.90070922 0.97368421]\n",
            "Confusion Metrics: [[271  13   1]\n",
            " [  7 127   8]\n",
            " [  1   0 185]]\n"
          ]
        }
      ],
      "source": [
        "from sklearn.svm import SVC\n",
        "from sklearn.metrics import accuracy_score, precision_score, recall_score, f1_score, confusion_matrix\n",
        "import pandas as pd\n",
        "import numpy as np\n",
        "\n",
        "# Load the extracted features and labels from the CSV files\n",
        "train_data = pd.read_csv(\"combined_train_features.csv\")\n",
        "test_data = pd.read_csv(\"combined_test_features.csv\")\n",
        "\n",
        "# Separate features and labels\n",
        "train_features = train_data.drop(\"label\", axis=1).values\n",
        "train_labels = train_data[\"label\"].values\n",
        "test_features = test_data.drop(\"label\", axis=1).values\n",
        "test_labels = test_data[\"label\"].values\n",
        "\n",
        "# Initialize the SVM classifier\n",
        "svm_classifier = SVC(kernel='rbf')\n",
        "\n",
        "# Train the SVM classifier\n",
        "svm_classifier.fit(train_features, train_labels)\n",
        "\n",
        "# Predict labels using the trained SVM classifier\n",
        "test_predictions = svm_classifier.predict(test_features)\n",
        "\n",
        "# Evaluate the KNN classifier\n",
        "accuracy = accuracy_score(test_labels, test_predictions)\n",
        "precision = precision_score(test_labels, test_predictions, average=None, zero_division=0)\n",
        "recall = recall_score(test_labels, test_predictions, average=None)\n",
        "f1 = f1_score(test_labels, test_predictions, average=None)\n",
        "confusion_metrics = confusion_matrix(test_labels, test_predictions)\n",
        "\n",
        "print(\"[KNN] Overall Evaluation Metrics:\")\n",
        "print(f\"Accuracy: {accuracy}\")\n",
        "print(f\"Precision: {precision}\")\n",
        "print(f\"Recall: {recall}\")\n",
        "print(f\"F1 Score: {f1}\")\n",
        "print(f\"Confusion Metrics: {confusion_metrics}\")\n"
      ]
    },
    {
      "cell_type": "code",
      "execution_count": 17,
      "metadata": {
        "colab": {
          "base_uri": "https://localhost:8080/"
        },
        "id": "kRc-nCIRuKX7",
        "outputId": "03a17b47-97a1-416c-86be-3c02a738b615"
      },
      "outputs": [
        {
          "output_type": "stream",
          "name": "stdout",
          "text": [
            "[KNN] Overall Evaluation Metrics:\n",
            "Accuracy: 0.9543230016313213\n",
            "Precision: [0.96478873 0.91970803 0.96354167]\n",
            "Recall: [0.96140351 0.88732394 0.99462366]\n",
            "F1 Score: [0.96309315 0.90322581 0.97883598]\n",
            "Confusion Metrics: [[274  11   0]\n",
            " [  9 126   7]\n",
            " [  1   0 185]]\n"
          ]
        }
      ],
      "source": [
        "from sklearn.neighbors import KNeighborsClassifier\n",
        "from sklearn.metrics import accuracy_score, precision_score, recall_score, f1_score, confusion_matrix\n",
        "import pandas as pd\n",
        "import numpy as np\n",
        "\n",
        "# Load the extracted features and labels from the CSV files\n",
        "train_data = pd.read_csv(\"combined_train_features.csv\")\n",
        "test_data = pd.read_csv(\"combined_test_features.csv\")\n",
        "\n",
        "# Separate features and labels\n",
        "train_features = train_data.drop(\"label\", axis=1).values\n",
        "train_labels = train_data[\"label\"].values\n",
        "test_features = test_data.drop(\"label\", axis=1).values\n",
        "test_labels = test_data[\"label\"].values\n",
        "\n",
        "# Initialize and train the KNN classifier\n",
        "#knn_classifier = KNeighborsClassifier(n_neighbors=27)\n",
        "knn_classifier = KNeighborsClassifier(n_neighbors=5)  # You can adjust the number of neighbors as needed\n",
        "knn_classifier.fit(train_features, train_labels)\n",
        "\n",
        "# Make predictions on the test set\n",
        "test_predictions = knn_classifier.predict(test_features)\n",
        "\n",
        "# Evaluate the KNN classifier\n",
        "accuracy = accuracy_score(test_labels, test_predictions)\n",
        "precision = precision_score(test_labels, test_predictions, average=None, zero_division=0)\n",
        "recall = recall_score(test_labels, test_predictions, average=None)\n",
        "f1 = f1_score(test_labels, test_predictions, average=None)\n",
        "confusion_metrics = confusion_matrix(test_labels, test_predictions)\n",
        "\n",
        "print(\"[KNN] Overall Evaluation Metrics:\")\n",
        "print(f\"Accuracy: {accuracy}\")\n",
        "print(f\"Precision: {precision}\")\n",
        "print(f\"Recall: {recall}\")\n",
        "print(f\"F1 Score: {f1}\")\n",
        "print(f\"Confusion Metrics: {confusion_metrics}\")\n"
      ]
    }
  ],
  "metadata": {
    "accelerator": "GPU",
    "colab": {
      "gpuType": "T4",
      "provenance": []
    },
    "kernelspec": {
      "display_name": "Python 3",
      "language": "python",
      "name": "python3"
    },
    "language_info": {
      "name": "python",
      "version": "3.7.9"
    },
    "vscode": {
      "interpreter": {
        "hash": "f6c3fe0f35ac205adeee3d33d4d27f45ea8735944f6bcc7cc4d72c9672a115a8"
      }
    }
  },
  "nbformat": 4,
  "nbformat_minor": 0
}