{
  "cells": [
    {
      "cell_type": "code",
      "execution_count": null,
      "metadata": {
        "colab": {
          "base_uri": "https://localhost:8080/"
        },
        "id": "PImDaj-2lxX7",
        "outputId": "1494b852-f921-451d-fe7e-603e6bdf1643"
      },
      "outputs": [
        {
          "output_type": "stream",
          "name": "stdout",
          "text": [
            "Downloading...\n",
            "From: https://drive.google.com/uc?id=1_PhKR-1DdeOl5K5E9IV5G-tckNNq-X96\n",
            "To: /content/tumor_dataset.rar\n",
            "100% 317M/317M [00:01<00:00, 216MB/s]\n"
          ]
        }
      ],
      "source": [
        "!gdown \"1_PhKR-1DdeOl5K5E9IV5G-tckNNq-X96\" -O \"tumor_dataset.rar\""
      ]
    },
    {
      "cell_type": "code",
      "execution_count": null,
      "metadata": {
        "id": "lFIqRloabi5O"
      },
      "outputs": [],
      "source": [
        "!pip install unrar -q"
      ]
    },
    {
      "cell_type": "code",
      "execution_count": null,
      "metadata": {
        "id": "_wDOYJMHblQi"
      },
      "outputs": [],
      "source": [
        "!rm -rf \"/content/tumor_dataset\"\n",
        "!unrar x \"tumor_dataset.rar\" &> /dev/null"
      ]
    },
    {
      "cell_type": "code",
      "execution_count": null,
      "metadata": {
        "colab": {
          "base_uri": "https://localhost:8080/"
        },
        "id": "dZ5Fg0O4boH5",
        "outputId": "04f28d6b-4afd-4bc4-ccdd-5b919638dd7d"
      },
      "outputs": [
        {
          "output_type": "stream",
          "name": "stdout",
          "text": [
            "1427\n",
            "709\n",
            "931\n"
          ]
        }
      ],
      "source": [
        "!ls -l \"/content/tumor_dataset/Glioma/\" | wc -l\n",
        "!ls -l \"/content/tumor_dataset/Meningioma\" | wc -l\n",
        "!ls -l \"/content/tumor_dataset/Pituitary/\" | wc -l"
      ]
    },
    {
      "cell_type": "code",
      "execution_count": null,
      "metadata": {
        "id": "FsOReMSZdLp_"
      },
      "outputs": [],
      "source": [
        "import os\n",
        "import cv2\n",
        "import numpy as np\n",
        "from skimage.feature import hog\n",
        "import matplotlib.pyplot as plt\n",
        "from sklearn.neural_network import MLPClassifier\n",
        "from sklearn.model_selection import KFold, StratifiedKFold, train_test_split\n",
        "from sklearn.metrics import accuracy_score, precision_score, recall_score, f1_score, confusion_matrix, precision_recall_curve, roc_curve, auc\n",
        "from tqdm import tqdm\n",
        "from sklearn.model_selection import KFold, StratifiedKFold, train_test_split\n",
        "import torch\n",
        "import torch.nn as nn\n",
        "import torch.optim as optim\n",
        "import torchvision.models as models\n",
        "from torch.utils.data import Dataset, DataLoader\n"
      ]
    },
    {
      "cell_type": "code",
      "execution_count": null,
      "metadata": {
        "colab": {
          "base_uri": "https://localhost:8080/"
        },
        "id": "9obtUhoU9w0q",
        "outputId": "308f17e5-d9d9-473b-c102-95eb5a64239d"
      },
      "outputs": [
        {
          "output_type": "stream",
          "name": "stdout",
          "text": [
            "[device] cuda\n"
          ]
        }
      ],
      "source": [
        "# Enable GPU if available\n",
        "device = torch.device(\"cuda\") if torch.cuda.is_available() else torch.device(\"cpu\")\n",
        "print('[device]', device)"
      ]
    },
    {
      "cell_type": "code",
      "execution_count": null,
      "metadata": {
        "id": "M975bHzX8vtk",
        "colab": {
          "base_uri": "https://localhost:8080/"
        },
        "outputId": "d3dfdaf3-652f-4b1d-90df-f8c63932572c"
      },
      "outputs": [
        {
          "output_type": "stream",
          "name": "stdout",
          "text": [
            "[images_path] 3064 /content/tumor_dataset/Glioma/2.0---101020-i754.bmp /content/tumor_dataset/Pituitary/3.0---104558-i1354.bmp\n",
            "[labels] 3064 [0 0 0 0 0 0 0 0 0 0] [2 2 2 2 2 2 2 2 2 2]\n",
            "[train_images_path] 2451 /content/tumor_dataset/Glioma/2.0---MR048297-i1848.bmp /content/tumor_dataset/Glioma/2.0---90284-i804.bmp\n",
            "[train_labels] 2451 [0 0 0 0 0 1 2 0 0 0] [0 2 2 2 0 1 1 2 2 0]\n",
            "[test_images_path] 613 /content/tumor_dataset/Glioma/2.0---MR029209I-i2395.bmp /content/tumor_dataset/Pituitary/3.0---112746-i1257.bmp\n",
            "[test_labels] 613 [0 0 1 1 1 0 1 0 2 2] [1 1 0 0 2 1 0 0 2 2]\n"
          ]
        }
      ],
      "source": [
        "\n",
        "dataset_path = \"/content/tumor_dataset\"\n",
        "image_size = (224, 224)\n",
        "# Load and preprocess the dataset\n",
        "classes = [\"Glioma\", \"Meningioma\", \"Pituitary\"]\n",
        "\n",
        "images_path = []\n",
        "labels = []\n",
        "for i, class_name in enumerate(classes):\n",
        "    class_path = os.path.join(dataset_path, class_name)\n",
        "    image_files = os.listdir(class_path)\n",
        "\n",
        "    for image_file in image_files:\n",
        "        image_path = os.path.join(class_path, image_file)\n",
        "        images_path.append(image_path)\n",
        "        labels.append(i)\n",
        "\n",
        "# Convert the lists to numpy arrays\n",
        "images_path = np.array(images_path)\n",
        "labels = np.array(labels)\n",
        "\n",
        "print('[images_path]', len(images_path), images_path[0], images_path[-1])\n",
        "print('[labels]', len(labels), labels[:10], labels[-10:])\n",
        "\n",
        "# Create the train-test split\n",
        "train_images_path, test_images_path, train_labels, test_labels = train_test_split(images_path, labels, test_size=0.2, stratify=labels, random_state=42)\n",
        "\n",
        "print('[train_images_path]', len(train_images_path), train_images_path[0], train_images_path[-1])\n",
        "print('[train_labels]', len(train_labels), train_labels[:10], train_labels[-10:])\n",
        "print('[test_images_path]', len(test_images_path), test_images_path[0], test_images_path[-1])\n",
        "print('[test_labels]', len(test_labels), test_labels[:10], test_labels[-10:])\n",
        "\n",
        "class BrainTumorDataset(Dataset):\n",
        "    def __init__(self, images_path, labels):\n",
        "        self.images_path = images_path\n",
        "        self.labels = labels\n",
        "\n",
        "    def __len__(self):\n",
        "        return len(self.images_path)\n",
        "\n",
        "    def __getitem__(self, idx):\n",
        "        # get image path\n",
        "        image_path = self.images_path[idx]\n",
        "        # get image label\n",
        "        label = self.labels[idx]\n",
        "        # read actual image\n",
        "        image = cv2.imread(image_path)\n",
        "        # resize image\n",
        "        image = cv2.resize(image, image_size)\n",
        "        # convert to RGB format\n",
        "        image = cv2.cvtColor(image, cv2.COLOR_BGR2RGB)\n",
        "        # convert to pytorch tensor\n",
        "        image = torch.from_numpy(image)\n",
        "        # normalize for better performance\n",
        "        image = image / 255\n",
        "        # reorder according to pytorch requirements\n",
        "        image = image.permute((2, 0, 1))\n",
        "        return image, label\n",
        "\n",
        "# Define Common Functions\n",
        "def training_loop(train_loader, val_loader, model, optimizer, criterion, epochs, fold, device):\n",
        "    # Lists to store metrics for this fold\n",
        "    train_losses = []\n",
        "    train_accuracies = []\n",
        "    val_losses = []\n",
        "    val_accuracies = []\n",
        "    val_predictions = []\n",
        "    val_probs = []\n",
        "\n",
        "    # Training loop for this fold\n",
        "    for epoch in range(epochs):\n",
        "        #################\n",
        "        # TRAINING PART #\n",
        "        #################\n",
        "        model.train()\n",
        "        running_loss = 0.0\n",
        "        correct_predictions = 0\n",
        "        total_train_samples = len(train_loader.dataset)\n",
        "\n",
        "        for idx, (images, labels) in tqdm(enumerate(train_loader), total=len(train_loader)):\n",
        "            images, labels = images.to(device), labels.to(device)\n",
        "            optimizer.zero_grad()\n",
        "            outputs = model(images)\n",
        "            loss = criterion(outputs, labels)\n",
        "            loss.backward()\n",
        "            optimizer.step()\n",
        "            running_loss += loss.item() * len(labels)\n",
        "            _, predicted = torch.max(outputs.data, 1)\n",
        "            correct_predictions += sum(predicted == labels)\n",
        "\n",
        "        average_accuracy = correct_predictions / total_train_samples\n",
        "        average_loss = running_loss / total_train_samples\n",
        "        print(f\"[train][Fold {fold + 1}][Epoch {epoch + 1}]: Loss {average_loss}, Accuracy: {average_accuracy}\")\n",
        "        train_accuracies.append(average_accuracy.item())\n",
        "        train_losses.append(average_loss)\n",
        "\n",
        "        ###################\n",
        "        # VALIDATION PART #\n",
        "        ###################\n",
        "        model.eval()\n",
        "        val_loss = 0.0\n",
        "        correct_val_predictions = 0\n",
        "\n",
        "        total_val_samples = len(val_loader.dataset)\n",
        "\n",
        "        with torch.no_grad():\n",
        "            for idx, (images, labels) in tqdm(enumerate(val_loader), total=len(val_loader)):\n",
        "                images, labels = images.to(device), labels.to(device)\n",
        "                outputs = model(images)\n",
        "                loss = criterion(outputs, labels)\n",
        "                val_loss += loss.item()\n",
        "                _, predicted = torch.max(outputs.data, 1)\n",
        "                correct_val_predictions += sum(predicted == labels)\n",
        "\n",
        "\n",
        "        average_val_accuracy = correct_val_predictions / total_val_samples\n",
        "        average_val_loss = val_loss / total_val_samples\n",
        "        print(f\"[valid][Fold {fold + 1}][Epoch {epoch + 1}]: Loss {average_val_loss}, Accuracy: {average_val_accuracy}\")\n",
        "        val_accuracies.append(average_val_accuracy.item())\n",
        "        val_losses.append(average_val_loss)\n",
        "\n",
        "\n",
        "\n",
        "    model.train()\n",
        "\n",
        "    return train_accuracies, train_losses, val_accuracies, val_losses\n",
        "\n",
        "    # CURVES PLOTTING\n",
        "\n",
        "def plot_macro_roc_curve(fprs, tprs, aucs):\n",
        "    plt.figure()\n",
        "    colors = ['red', 'green', 'blue']\n",
        "    for i in range(len(fprs)):\n",
        "        plt.plot(fprs[i], tprs[i], color=colors[i], lw=2, label=f'Class {i} (AUC = {aucs[i]:.2f})')\n",
        "    plt.plot([0, 1], [0, 1], color='gray', lw=2, linestyle='--')\n",
        "    plt.xlim([0.0, 1.0])\n",
        "    plt.ylim([0.0, 1.05])\n",
        "    plt.xlabel('False Positive Rate')\n",
        "    plt.ylabel('True Positive Rate')\n",
        "    plt.title('Macro-averaged ROC Curve')\n",
        "    plt.legend(loc='lower right')\n",
        "    plt.show()\n",
        "\n",
        "def plot_macro_precision_recall_curve(precisions, recalls):\n",
        "    plt.figure()\n",
        "    colors = ['red', 'green', 'blue']\n",
        "    for i in range(len(precisions)):\n",
        "        plt.plot(recalls[i], precisions[i], color=colors[i], lw=2, label=f'Class {i}')\n",
        "    plt.xlabel('Recall')\n",
        "    plt.ylabel('Precision')\n",
        "    plt.ylim([0.0, 1.05])\n",
        "    plt.xlim([0.0, 1.0])\n",
        "    plt.title('Macro-averaged Precision-Recall Curve')\n",
        "    plt.legend(loc='lower left')\n",
        "    plt.show()\n",
        "\n",
        "import torch.nn.functional as F\n",
        "import pandas as pd\n",
        "\n",
        "#FEATURE EXTRACTION\n",
        "\n",
        "def extract_features(loader, model, device):\n",
        "\n",
        "    model.eval()\n",
        "    features_list = []\n",
        "    labels_list = []\n",
        "\n",
        "    def hook(model, input, output):\n",
        "        features_list.append(output.detach().cpu().numpy())\n",
        "\n",
        "    h = model.classifier[7].register_forward_hook(hook)\n",
        "\n",
        "    with torch.no_grad():\n",
        "        for images, labels in loader:\n",
        "            images = images.to(device)\n",
        "            outputs = model(images)\n",
        "            labels_list.append(labels.cpu().numpy())\n",
        "\n",
        "    h.remove()\n",
        "\n",
        "    features_array = np.concatenate(features_list, axis=0)\n",
        "    labels_array = np.concatenate(labels_list, axis=0)\n",
        "    print('[features_array]', features_array.shape)\n",
        "    print('[labels_array]', labels_array.shape)\n",
        "\n",
        "    return features_array, labels_array\n",
        "\n",
        "\n",
        "def kfold_training_loop(train_images_path, train_labels, test_images_path, test_labels, num_folds, epochs_per_fold, batch_size):\n",
        "\n",
        "    kf = StratifiedKFold(n_splits=num_folds, shuffle=True, random_state=42)\n",
        "\n",
        "    # Lists to store metrics for each fold\n",
        "    train_accuracies_list = []\n",
        "    train_losses_list = []\n",
        "    val_accuracies_list = []\n",
        "    val_losses_list = []\n",
        "\n",
        "\n",
        "\n",
        "    # Training loop with k-fold cross-validation\n",
        "    for fold, (train_index, val_index) in enumerate(kf.split(train_images_path, train_labels)):\n",
        "        print(f\"Fold {fold + 1}/{num_folds}\")\n",
        "\n",
        "        # Create the train-validation split for this fold\n",
        "        train_images_path_fold = train_images_path[train_index]\n",
        "        train_labels_fold = train_labels[train_index]\n",
        "        val_images_path_fold = train_images_path[val_index]\n",
        "        val_labels_fold = train_labels[val_index]\n",
        "        train_dataset = BrainTumorDataset(images_path=train_images_path_fold, labels=train_labels_fold)\n",
        "        val_dataset = BrainTumorDataset(images_path=val_images_path_fold, labels=val_labels_fold)\n",
        "\n",
        "\n",
        "        train_loader = DataLoader(train_dataset, batch_size=batch_size, shuffle=True)\n",
        "        val_loader = DataLoader(val_dataset, batch_size=2*batch_size, shuffle=False)\n",
        "\n",
        "\n",
        "        # Load the pre-trained AlexNet model for each fold\n",
        "        alexnet = models.alexnet(weights=models.AlexNet_Weights.DEFAULT)\n",
        "        alexnet.classifier[6] = nn.Dropout(0.5)\n",
        "        alexnet.classifier.append(nn.Linear(4096, 64))\n",
        "        alexnet.classifier.append(nn.ReLU(inplace=True))\n",
        "        alexnet.classifier.append(nn.Linear(64, 3))\n",
        "        alexnet.to(device)\n",
        "\n",
        "        # Define the loss function\n",
        "        criterion = nn.CrossEntropyLoss()\n",
        "\n",
        "        # Define the optimizer, added some good practices\n",
        "        optimizer = optim.Adam(alexnet.parameters(), lr=0.0001, weight_decay=0.005, amsgrad=True)\n",
        "\n",
        "        #training loop function\n",
        "\n",
        "        fold_train_accuracies, fold_train_losses, fold_val_accuracies, fold_val_losses = training_loop(\n",
        "            train_loader=train_loader,\n",
        "            val_loader=val_loader,\n",
        "            model=alexnet,\n",
        "            optimizer=optimizer,\n",
        "            criterion=criterion,\n",
        "            epochs=epochs_per_fold,\n",
        "            fold=fold,\n",
        "            device=device\n",
        "        )\n",
        "\n",
        "        train_accuracies_list.append(fold_train_accuracies)\n",
        "        train_losses_list.append(fold_train_losses)\n",
        "        val_accuracies_list.append(fold_val_accuracies)\n",
        "        val_losses_list.append(fold_val_losses)\n",
        "\n",
        "        # Calculate the average metrics for all folds\n",
        "        avg_train_accuracies = np.mean(fold_train_accuracies, axis=0)\n",
        "        avg_train_losses = np.mean(fold_train_losses, axis=0)\n",
        "        avg_val_accuracies = np.mean(fold_val_accuracies, axis=0)\n",
        "        avg_val_losses = np.mean(fold_val_losses, axis=0)\n",
        "\n",
        "\n",
        "\n",
        "    # Evaluate the model on test set\n",
        "    alexnet.eval()\n",
        "    test_predictions = []\n",
        "    test_probs = []\n",
        "    test_dataset = BrainTumorDataset(images_path=test_images_path, labels=test_labels)\n",
        "    test_loader = DataLoader(test_dataset, batch_size=2*batch_size, shuffle=False)\n",
        "\n",
        "    with torch.no_grad():\n",
        "        for images, labels in test_loader:\n",
        "            images = images.to(device)\n",
        "            outputs = alexnet(images)\n",
        "            _, predicted = torch.max(outputs, 1)\n",
        "            test_predictions.append(predicted.cpu().numpy())\n",
        "            test_probs.append(torch.softmax(outputs, dim=1).detach().cpu().numpy())\n",
        "    # test_predictions_list.append(test_predictions)\n",
        "    test_predictions = np.concatenate(test_predictions, axis=0)\n",
        "    test_probs = np.concatenate(test_probs, axis=0)\n",
        "    accuracy = accuracy_score(test_labels, test_predictions)\n",
        "    precision = precision_score(test_labels, test_predictions, average=None, zero_division=0)\n",
        "    recall = recall_score(test_labels, test_predictions, average=None)\n",
        "    f1 = f1_score(test_labels, test_predictions, average=None)\n",
        "    confusion_metrics = confusion_matrix(test_labels, test_predictions)\n",
        "\n",
        "    print(\"[test] Overall Evaluation Metrics:\")\n",
        "    print(f\"Accuracy: {accuracy}\")\n",
        "    print(f\"Precision: {precision}\")\n",
        "    print(f\"Recall: {recall}\")\n",
        "    print(f\"F1 Score: {f1}\")\n",
        "    print(f\"Confusion_metrics:{confusion_metrics}\")\n",
        "\n",
        "\n",
        "\n",
        "    # Calculate ROC curve and AUC for each class\n",
        "    fprs = []\n",
        "    tprs = []\n",
        "    aucs = []\n",
        "    for i in range(3):\n",
        "        fpr, tpr, _ = roc_curve(test_labels == i, test_probs[:, i])\n",
        "        roc_auc = auc(fpr, tpr)\n",
        "        fprs.append(fpr)\n",
        "        tprs.append(tpr)\n",
        "        aucs.append(roc_auc)\n",
        "\n",
        "    # Calculate Precision-Recall curve for each class\n",
        "    precisions = []\n",
        "    recalls = []\n",
        "    for i in range(3):\n",
        "        precision, recall, _ = precision_recall_curve(test_labels == i, test_probs[:, i])\n",
        "        precisions.append(precision)\n",
        "        recalls.append(recall)\n",
        "\n",
        "    # Plot macro-averaged ROC curve and Precision-Recall curve\n",
        "    plot_macro_roc_curve(fprs, tprs, aucs)\n",
        "    plot_macro_precision_recall_curve(precisions, recalls)\n",
        "\n",
        "    # Print overall confusion matrix\n",
        "    overall_confusion_matrix = confusion_matrix(test_labels, test_predictions)\n",
        "    print(\"Overall Confusion Matrix:\")\n",
        "    print(overall_confusion_matrix)\n",
        "\n",
        "    # Train Dataset Feature Extraction\n",
        "    train_dataset = BrainTumorDataset(images_path=train_images_path, labels=train_labels)\n",
        "    train_loader = DataLoader(train_dataset, batch_size=2*batch_size, shuffle=False)\n",
        "    train_features, train_labels = extract_features(train_loader, alexnet, device)\n",
        "    # Convert lists to arrays\n",
        "    Alexnet_train_features = np.array(train_features)\n",
        "    train_labels_list = np.array(train_labels)\n",
        "\n",
        "\n",
        "    # Test Dataset Feature Extraction\n",
        "    test_dataset = BrainTumorDataset(images_path=test_images_path, labels=test_labels)\n",
        "    test_loader = DataLoader(test_dataset, batch_size=2*batch_size, shuffle=False)\n",
        "    test_features, test_labels = extract_features(test_loader, alexnet, device)\n",
        "# Convert lists to arrays\n",
        "    Alexnet_test_features = np.array(test_features)\n",
        "    test_labels_list = np.array(test_labels)\n",
        "\n",
        "\n",
        "# Create dataframes for training and testing features with labels\n",
        "    train_data = pd.DataFrame(data=Alexnet_train_features)\n",
        "    train_data[\"label\"] = train_labels_list\n",
        "    test_data = pd.DataFrame(data=Alexnet_test_features)\n",
        "    test_data[\"label\"] = test_labels_list\n",
        "\n",
        "    # Save training and testing data to CSV files\n",
        "    train_data.to_csv(\"Alexnet_train_features.csv\", index=False)\n",
        "    test_data.to_csv(\"Alexnet_test_features.csv\", index=False)\n",
        "\n"
      ]
    },
    {
      "cell_type": "code",
      "source": [
        "kfold_training_loop(train_images_path, train_labels, test_images_path, test_labels, num_folds=4, epochs_per_fold=1, batch_size=8)\n"
      ],
      "metadata": {
        "id": "0uQwF7TOa9Rx",
        "colab": {
          "base_uri": "https://localhost:8080/",
          "height": 1000
        },
        "outputId": "e5d502c4-b0f4-4e7f-be0a-12970f24f879"
      },
      "execution_count": null,
      "outputs": [
        {
          "output_type": "stream",
          "name": "stdout",
          "text": [
            "Fold 1/4\n"
          ]
        },
        {
          "output_type": "stream",
          "name": "stderr",
          "text": [
            "Downloading: \"https://download.pytorch.org/models/alexnet-owt-7be5be79.pth\" to /root/.cache/torch/hub/checkpoints/alexnet-owt-7be5be79.pth\n",
            "100%|██████████| 233M/233M [03:51<00:00, 1.06MB/s]\n",
            "100%|██████████| 230/230 [00:18<00:00, 12.20it/s]\n"
          ]
        },
        {
          "output_type": "stream",
          "name": "stdout",
          "text": [
            "[train][Fold 1][Epoch 1]: Loss 0.5633868227091591, Accuracy: 0.7557126879692078\n"
          ]
        },
        {
          "output_type": "stream",
          "name": "stderr",
          "text": [
            "100%|██████████| 39/39 [00:00<00:00, 41.26it/s]\n"
          ]
        },
        {
          "output_type": "stream",
          "name": "stdout",
          "text": [
            "[valid][Fold 1][Epoch 1]: Loss 0.017512315115473593, Accuracy: 0.8792822360992432\n",
            "Fold 2/4\n"
          ]
        },
        {
          "output_type": "stream",
          "name": "stderr",
          "text": [
            "100%|██████████| 230/230 [00:10<00:00, 21.21it/s]\n"
          ]
        },
        {
          "output_type": "stream",
          "name": "stdout",
          "text": [
            "[train][Fold 2][Epoch 1]: Loss 0.51760916066507, Accuracy: 0.7725788950920105\n"
          ]
        },
        {
          "output_type": "stream",
          "name": "stderr",
          "text": [
            "100%|██████████| 39/39 [00:00<00:00, 42.50it/s]\n"
          ]
        },
        {
          "output_type": "stream",
          "name": "stdout",
          "text": [
            "[valid][Fold 2][Epoch 1]: Loss 0.02222092743495063, Accuracy: 0.8384991884231567\n",
            "Fold 3/4\n"
          ]
        },
        {
          "output_type": "stream",
          "name": "stderr",
          "text": [
            "100%|██████████| 230/230 [00:10<00:00, 21.07it/s]\n"
          ]
        },
        {
          "output_type": "stream",
          "name": "stdout",
          "text": [
            "[train][Fold 3][Epoch 1]: Loss 0.5267012159667415, Accuracy: 0.7682263255119324\n"
          ]
        },
        {
          "output_type": "stream",
          "name": "stderr",
          "text": [
            "100%|██████████| 39/39 [00:00<00:00, 43.04it/s]\n"
          ]
        },
        {
          "output_type": "stream",
          "name": "stdout",
          "text": [
            "[valid][Fold 3][Epoch 1]: Loss 0.021119913769974016, Accuracy: 0.8646003603935242\n",
            "Fold 4/4\n"
          ]
        },
        {
          "output_type": "stream",
          "name": "stderr",
          "text": [
            "100%|██████████| 230/230 [00:10<00:00, 21.12it/s]\n"
          ]
        },
        {
          "output_type": "stream",
          "name": "stdout",
          "text": [
            "[train][Fold 4][Epoch 1]: Loss 0.5309065371152174, Accuracy: 0.7591082453727722\n"
          ]
        },
        {
          "output_type": "stream",
          "name": "stderr",
          "text": [
            "100%|██████████| 39/39 [00:00<00:00, 42.78it/s]\n"
          ]
        },
        {
          "output_type": "stream",
          "name": "stdout",
          "text": [
            "[valid][Fold 4][Epoch 1]: Loss 0.01966304681416041, Accuracy: 0.8790850043296814\n",
            "[test] Overall Evaluation Metrics:\n",
            "Accuracy: 0.8776508972267537\n",
            "Precision: [0.89347079 0.79699248 0.91005291]\n",
            "Recall: [0.9122807  0.74647887 0.92473118]\n",
            "F1 Score: [0.90277778 0.77090909 0.91733333]\n",
            "Confusion_metrics:[[260  19   6]\n",
            " [ 25 106  11]\n",
            " [  6   8 172]]\n"
          ]
        },
        {
          "output_type": "display_data",
          "data": {
            "text/plain": [
              "<Figure size 640x480 with 1 Axes>"
            ],
            "image/png": "[encoded data removed]"
          },
          "metadata": {}
        },
        {
          "output_type": "display_data",
          "data": {
            "text/plain": [
              "<Figure size 640x480 with 1 Axes>"
            ],
            "image/png": "[encoded data removed]"
          },
          "metadata": {}
        },
        {
          "output_type": "stream",
          "name": "stdout",
          "text": [
            "Overall Confusion Matrix:\n",
            "[[260  19   6]\n",
            " [ 25 106  11]\n",
            " [  6   8 172]]\n",
            "[features_array] (2451, 64)\n",
            "[labels_array] (2451,)\n",
            "[features_array] (613, 64)\n",
            "[labels_array] (613,)\n"
          ]
        }
      ]
    },
    {
      "cell_type": "code",
      "execution_count": null,
      "metadata": {
        "colab": {
          "base_uri": "https://localhost:8080/"
        },
        "id": "r0ZUhRT-9q1t",
        "outputId": "bb9af395-c1cb-4dd3-9366-a3e1939c8c83"
      },
      "outputs": [
        {
          "output_type": "execute_result",
          "data": {
            "text/plain": [
              "AlexNet(\n",
              "  (features): Sequential(\n",
              "    (0): Conv2d(3, 64, kernel_size=(11, 11), stride=(4, 4), padding=(2, 2))\n",
              "    (1): ReLU(inplace=True)\n",
              "    (2): MaxPool2d(kernel_size=3, stride=2, padding=0, dilation=1, ceil_mode=False)\n",
              "    (3): Conv2d(64, 192, kernel_size=(5, 5), stride=(1, 1), padding=(2, 2))\n",
              "    (4): ReLU(inplace=True)\n",
              "    (5): MaxPool2d(kernel_size=3, stride=2, padding=0, dilation=1, ceil_mode=False)\n",
              "    (6): Conv2d(192, 384, kernel_size=(3, 3), stride=(1, 1), padding=(1, 1))\n",
              "    (7): ReLU(inplace=True)\n",
              "    (8): Conv2d(384, 256, kernel_size=(3, 3), stride=(1, 1), padding=(1, 1))\n",
              "    (9): ReLU(inplace=True)\n",
              "    (10): Conv2d(256, 256, kernel_size=(3, 3), stride=(1, 1), padding=(1, 1))\n",
              "    (11): ReLU(inplace=True)\n",
              "    (12): MaxPool2d(kernel_size=3, stride=2, padding=0, dilation=1, ceil_mode=False)\n",
              "  )\n",
              "  (avgpool): AdaptiveAvgPool2d(output_size=(6, 6))\n",
              "  (classifier): Sequential(\n",
              "    (0): Dropout(p=0.5, inplace=False)\n",
              "    (1): Linear(in_features=9216, out_features=4096, bias=True)\n",
              "    (2): ReLU(inplace=True)\n",
              "    (3): Dropout(p=0.5, inplace=False)\n",
              "    (4): Linear(in_features=4096, out_features=4096, bias=True)\n",
              "    (5): ReLU(inplace=True)\n",
              "    (6): Linear(in_features=4096, out_features=1000, bias=True)\n",
              "  )\n",
              ")"
            ]
          },
          "metadata": {},
          "execution_count": 9
        }
      ],
      "source": [
        "# @title Default title text\n",
        "models.alexnet(weights=models.AlexNet_Weights.DEFAULT)"
      ]
    },
    {
      "cell_type": "markdown",
      "metadata": {
        "id": "n2EkKXHL98L2"
      },
      "source": [
        "Task P4  HOG FEATURES"
      ]
    },
    {
      "cell_type": "code",
      "execution_count": null,
      "metadata": {
        "colab": {
          "base_uri": "https://localhost:8080/"
        },
        "id": "PfFE6tfgbrmx",
        "outputId": "93134975-9776-45b7-e58d-ff81cb55f099"
      },
      "outputs": [
        {
          "output_type": "stream",
          "name": "stdout",
          "text": [
            "HOG features shape: (3064, 34596)\n",
            "Labels shape: (3064,)\n",
            "[hog_features] 3064 [0.0863252  0.         0.09889754 ... 0.10408888 0.29617513 0.29617513] [0. 0. 0. ... 0. 0. 0.]\n",
            "[labels] 3064 [0 0 0 0 0 0 0 0 0 0] [2 2 2 2 2 2 2 2 2 2]\n"
          ]
        }
      ],
      "source": [
        "import os\n",
        "import numpy as np\n",
        "from skimage import io, transform, feature, exposure,color\n",
        "\n",
        "dataset_path = \"/content/tumor_dataset\"\n",
        "image_size = (256,256)\n",
        "classes = [\"Glioma\", \"Meningioma\", \"Pituitary\"]\n",
        "\n",
        "# Define HOG parameters\n",
        "orientations = 9\n",
        "pixels_per_cell = (8, 8)\n",
        "cells_per_block = (2, 2)\n",
        "\n",
        "# Define a function to extract HOG features from an image\n",
        "def extract_hog_features(image):\n",
        "    image = io.imread(image)\n",
        "    image = transform.resize(image, image_size)\n",
        "\n",
        "\n",
        "    features = feature.hog(image, orientations=orientations,\n",
        "                           pixels_per_cell=pixels_per_cell,\n",
        "                           cells_per_block=cells_per_block,\n",
        "                           block_norm='L2-Hys')\n",
        "\n",
        "    return features\n",
        "\n",
        "# Load and preprocess the dataset\n",
        "images_path = []\n",
        "labels = []\n",
        "\n",
        "for i, class_name in enumerate(classes):\n",
        "    class_path = os.path.join(dataset_path, class_name)\n",
        "    image_files = os.listdir(class_path)\n",
        "\n",
        "    for image_file in image_files:\n",
        "        image_path = os.path.join(class_path, image_file)\n",
        "        images_path.append(image_path)\n",
        "        labels.append(i)\n",
        "\n",
        "# Extract HOG features for each image\n",
        "hog_features = []\n",
        "\n",
        "for image_path in images_path:\n",
        "    hog_feature = extract_hog_features(image_path)\n",
        "    hog_features.append(hog_feature)\n",
        "\n",
        "# Convert lists to numpy arrays\n",
        "hog_features = np.array(hog_features)\n",
        "labels = np.array(labels)\n",
        "\n",
        "print('HOG features shape:', hog_features.shape)\n",
        "print('Labels shape:', labels.shape)\n",
        "print('[hog_features]', len(hog_features), hog_features[0], hog_features[-1])\n",
        "print('[labels]', len(labels), labels[:10], labels[-10:])\n",
        "\n"
      ]
    },
    {
      "cell_type": "code",
      "execution_count": null,
      "metadata": {
        "colab": {
          "base_uri": "https://localhost:8080/"
        },
        "id": "S7CPeU79dH8L",
        "outputId": "16fa719b-655f-40b6-ee7a-09647a8cf7cc"
      },
      "outputs": [
        {
          "output_type": "stream",
          "name": "stdout",
          "text": [
            "Epoch 1/5\n",
            "245/245 [==============================] - 5s 7ms/step - loss: 0.5236 - accuracy: 0.7847 - val_loss: 0.5920 - val_accuracy: 0.8004\n",
            "Epoch 2/5\n",
            "245/245 [==============================] - 1s 4ms/step - loss: 0.2652 - accuracy: 0.9010 - val_loss: 0.2560 - val_accuracy: 0.8982\n",
            "Epoch 3/5\n",
            "245/245 [==============================] - 1s 4ms/step - loss: 0.1670 - accuracy: 0.9357 - val_loss: 0.2360 - val_accuracy: 0.8982\n",
            "Epoch 4/5\n",
            "245/245 [==============================] - 1s 4ms/step - loss: 0.0876 - accuracy: 0.9679 - val_loss: 0.2084 - val_accuracy: 0.9165\n",
            "Epoch 5/5\n",
            "245/245 [==============================] - 1s 5ms/step - loss: 0.0563 - accuracy: 0.9827 - val_loss: 0.2906 - val_accuracy: 0.8737\n",
            "20/20 [==============================] - 0s 4ms/step\n",
            "Accuracy : 0.8727569331158238\n"
          ]
        }
      ],
      "source": [
        "from sklearn.model_selection import train_test_split\n",
        "from sklearn.neural_network import MLPClassifier\n",
        "import tensorflow as tf\n",
        "import pandas as pd\n",
        "from sklearn.metrics import accuracy_score\n",
        "\n",
        "# Split data into training and testing sets\n",
        "X_train, X_test, y_train, y_test = train_test_split(hog_features, labels, test_size=0.2,stratify=labels, random_state=42)\n",
        "\n",
        "\n",
        "\n",
        "architecture = [64, 32, len(np.unique(labels))]\n",
        "\n",
        "# Build and compile the model using TensorFlow\n",
        "model = tf.keras.Sequential([\n",
        "    tf.keras.layers.Dense(architecture[0], activation='relu', input_shape=(X_train.shape[1],)),\n",
        "    tf.keras.layers.Dense(architecture[1], activation='relu'),\n",
        "    tf.keras.layers.Dense(architecture[2], activation='softmax')\n",
        "])\n",
        "\n",
        "model.compile(optimizer='adam', loss='sparse_categorical_crossentropy', metrics=['accuracy'])\n",
        "\n",
        "# Train the original MLP model\n",
        "model.fit(X_train, y_train, epochs=5, batch_size=8, validation_split=0.2)\n",
        "\n",
        "# Predict labels using the original MLP model\n",
        "y_pred_probabilities = model.predict(X_test)\n",
        "\n",
        "# Convert predicted probabilities to class labels\n",
        "y_pred = np.argmax(y_pred_probabilities, axis=1)\n",
        "\n",
        "# Calculate accuracy\n",
        "accuracy_features = accuracy_score(y_test, y_pred)\n",
        "print(\"Accuracy :\", accuracy_features)\n"
      ]
    },
    {
      "cell_type": "code",
      "execution_count": null,
      "metadata": {
        "colab": {
          "base_uri": "https://localhost:8080/"
        },
        "id": "wB8ZJzDWlV0R",
        "outputId": "f559a9de-aa63-490a-bbd3-1260840c7d0e"
      },
      "outputs": [
        {
          "output_type": "stream",
          "name": "stdout",
          "text": [
            "77/77 [==============================] - 0s 3ms/step\n",
            "20/20 [==============================] - 0s 4ms/step\n"
          ]
        }
      ],
      "source": [
        "intermediate_layer_model = tf.keras.Model(inputs=model.input, outputs=model.layers[-2].output)\n",
        "X_train_features = intermediate_layer_model.predict(X_train)\n",
        "X_test_features = intermediate_layer_model.predict(X_test)\n",
        "\n",
        "# Save features to a CSV file\n",
        "train_df = pd.DataFrame(X_train_features)\n",
        "train_df['label'] = y_train\n",
        "train_df.to_csv('train_features.csv', index=False)\n",
        "\n",
        "# Save features to a CSV file\n",
        "train_df = pd.DataFrame(X_test_features)\n",
        "train_df['label'] = y_test\n",
        "train_df.to_csv('test_features.csv', index=False)"
      ]
    },
    {
      "cell_type": "code",
      "execution_count": null,
      "metadata": {
        "colab": {
          "base_uri": "https://localhost:8080/",
          "height": 849
        },
        "id": "lUjMmv2UOxt8",
        "outputId": "66c1352c-1353-4d46-c2fa-f8b099723a95"
      },
      "outputs": [
        {
          "output_type": "stream",
          "name": "stdout",
          "text": [
            "Accuracy: 0.8727569331158238\n",
            "Confusion Matrix:\n",
            "[[279   5   1]\n",
            " [ 58  77   7]\n",
            " [  7   0 179]]\n",
            "Classification Report:\n",
            "              precision    recall  f1-score   support\n",
            "\n",
            "      Glioma       0.81      0.98      0.89       285\n",
            "  Meningioma       0.94      0.54      0.69       142\n",
            "   Pituitary       0.96      0.96      0.96       186\n",
            "\n",
            "    accuracy                           0.87       613\n",
            "   macro avg       0.90      0.83      0.84       613\n",
            "weighted avg       0.89      0.87      0.86       613\n",
            "\n"
          ]
        },
        {
          "output_type": "display_data",
          "data": {
            "text/plain": [
              "<Figure size 1200x600 with 2 Axes>"
            ],
            "image/png": "[encoded data removed]"
          },
          "metadata": {}
        }
      ],
      "source": [
        "from sklearn.metrics import accuracy_score, confusion_matrix, classification_report\n",
        "from sklearn.metrics import roc_curve, roc_auc_score, precision_recall_curve, auc\n",
        "import matplotlib.pyplot as plt\n",
        "\n",
        "accuracy_features = accuracy_score(y_test, y_pred)\n",
        "print(\"Accuracy:\", accuracy_features)\n",
        "\n",
        "# Calculate confusion matrix\n",
        "confusion_mat = confusion_matrix(y_test, y_pred)\n",
        "print(\"Confusion Matrix:\")\n",
        "print(confusion_mat)\n",
        "\n",
        "# Calculate precision, recall, F1-score, and support for each class\n",
        "classification_rep = classification_report(y_test, y_pred, target_names=classes)\n",
        "print(\"Classification Report:\")\n",
        "print(classification_rep)\n",
        "\n",
        "# Calculate ROC curve and AUC for each class\n",
        "n_classes = len(classes)\n",
        "fpr = {}\n",
        "tpr = {}\n",
        "roc_auc = {}\n",
        "for i in range(n_classes):\n",
        "    fpr[i], tpr[i], _ = roc_curve(y_test == i, y_pred_probabilities[:, i])\n",
        "    roc_auc[i] = auc(fpr[i], tpr[i])\n",
        "\n",
        "# Calculate precision-recall curve and AUC for each class\n",
        "precision = {}\n",
        "recall = {}\n",
        "pr_auc = {}\n",
        "for i in range(n_classes):\n",
        "    precision[i], recall[i], _ = precision_recall_curve(y_test == i, y_pred_probabilities[:, i])\n",
        "    pr_auc[i] = auc(recall[i], precision[i])\n",
        "\n",
        "# Plot ROC and PR curves for each class\n",
        "plt.figure(figsize=(12, 6))\n",
        "plt.subplot(1, 2, 1)\n",
        "for i in range(n_classes):\n",
        "    plt.plot(fpr[i], tpr[i], label=f'Class {i} (AUC = {roc_auc[i]:.2f})')\n",
        "plt.plot([0, 1], [0, 1], 'k--')\n",
        "plt.xlim([0.0, 1.0])\n",
        "plt.ylim([0.0, 1.05])\n",
        "plt.xlabel('False Positive Rate')\n",
        "plt.ylabel('True Positive Rate')\n",
        "plt.title('ROC Curve')\n",
        "plt.legend(loc=\"lower right\")\n",
        "\n",
        "plt.subplot(1, 2, 2)\n",
        "for i in range(n_classes):\n",
        "    plt.plot(recall[i], precision[i], label=f'Class {i} (AUC = {pr_auc[i]:.2f})')\n",
        "plt.xlim([0.0, 1.0])\n",
        "plt.ylim([0.0, 1.05])\n",
        "plt.xlabel('Recall')\n",
        "plt.ylabel('Precision')\n",
        "plt.title('Precision-Recall Curve')\n",
        "plt.legend(loc=\"lower left\")\n",
        "\n",
        "plt.tight_layout()\n",
        "plt.show()"
      ]
    },
    {
      "cell_type": "code",
      "source": [
        "import pandas as pd\n",
        "\n",
        "# Read data from the first CSV file (64 columns)\n",
        "df1 = pd.read_csv('test_features.csv')\n",
        "\n",
        "# Read data from the second CSV file (32 columns)\n",
        "df2 = pd.read_csv('Alexnet_test_features.csv')\n",
        "label_column = df2['label']\n",
        "df1 = df1.drop(columns=['label'])\n",
        "df2 = df2.drop(columns=['label'])\n",
        "\n",
        "# Combine the data from both dataframes\n",
        "combined_df = pd.concat([df1, df2], axis=1, ignore_index=True)\n",
        "\n",
        "\n",
        "# Insert the 'label' column as the last column\n",
        "combined_df.insert(len(combined_df.columns), 'label', label_column)\n",
        "\n",
        "combined_df.to_csv('Test_combined_file.csv')"
      ],
      "metadata": {
        "id": "5HPNfRHgipsV"
      },
      "execution_count": null,
      "outputs": []
    },
    {
      "cell_type": "code",
      "source": [
        "import pandas as pd\n",
        "\n",
        "# Read data from the first CSV file (64 columns)\n",
        "df1 = pd.read_csv('train_features.csv')\n",
        "\n",
        "# Read data from the second CSV file (32 columns)\n",
        "df2 = pd.read_csv('Alexnet_train_features.csv')\n",
        "label_column = df2['label']\n",
        "df1 = df1.drop(columns=['label'])\n",
        "df2 = df2.drop(columns=['label'])\n",
        "\n",
        "# Combine the data from both dataframes\n",
        "combined_df = pd.concat([df1, df2], axis=1, ignore_index=True)\n",
        "\n",
        "\n",
        "# Insert the 'label' column as the last column\n",
        "combined_df.insert(len(combined_df.columns), 'label', label_column)\n",
        "\n",
        "combined_df.to_csv('Train_combined_file.csv')"
      ],
      "metadata": {
        "id": "pWc-iSx6iraQ"
      },
      "execution_count": null,
      "outputs": []
    },
    {
      "cell_type": "code",
      "execution_count": null,
      "metadata": {
        "id": "vJLohRI6aK5b",
        "colab": {
          "base_uri": "https://localhost:8080/"
        },
        "outputId": "79230a08-63d9-4793-9a01-296c3300a707"
      },
      "outputs": [
        {
          "output_type": "stream",
          "name": "stdout",
          "text": [
            "[svm] Overall Evaluation Metrics:\n",
            "Accuracy: 0.46492659053833607\n",
            "Precision: [0.46492659 0.         0.        ]\n",
            "Recall: [1. 0. 0.]\n",
            "F1 Score: [0.63474388 0.         0.        ]\n",
            "Confusion Metrics: [[285   0   0]\n",
            " [142   0   0]\n",
            " [186   0   0]]\n"
          ]
        }
      ],
      "source": [
        "from sklearn.svm import SVC\n",
        "from sklearn.metrics import accuracy_score, precision_score, recall_score, f1_score, confusion_matrix\n",
        "import pandas as pd\n",
        "import numpy as np\n",
        "\n",
        "# Load the extracted features and labels from the CSV files\n",
        "train_data = pd.read_csv(\"Train_combined_file.csv\")\n",
        "test_data = pd.read_csv(\"Test_combined_file.csv\")\n",
        "\n",
        "# Separate features and labels\n",
        "train_features = train_data.drop(\"label\", axis=1).values\n",
        "train_labels = train_data[\"label\"].values\n",
        "test_features = test_data.drop(\"label\", axis=1).values\n",
        "test_labels = test_data[\"label\"].values\n",
        "\n",
        "# Initialize the SVM classifier\n",
        "#svm_classifier = SVC(kernel='linear',C=0.1)\n",
        "svm_classifier = SVC(kernel='rbf')\n",
        "\n",
        "# Train the SVM classifier\n",
        "svm_classifier.fit(train_features, train_labels)\n",
        "\n",
        "# Predict labels using the trained SVM classifier\n",
        "test_predictions = svm_classifier.predict(test_features)\n",
        "\n",
        "# Evaluate the  classifier\n",
        "accuracy = accuracy_score(test_labels, test_predictions)\n",
        "precision = precision_score(test_labels, test_predictions, average=None, zero_division=0)\n",
        "recall = recall_score(test_labels, test_predictions, average=None)\n",
        "f1 = f1_score(test_labels, test_predictions, average=None)\n",
        "confusion_metrics = confusion_matrix(test_labels, test_predictions)\n",
        "\n",
        "print(\"[svm] Overall Evaluation Metrics:\")\n",
        "print(f\"Accuracy: {accuracy}\")\n",
        "print(f\"Precision: {precision}\")\n",
        "print(f\"Recall: {recall}\")\n",
        "print(f\"F1 Score: {f1}\")\n",
        "print(f\"Confusion Metrics: {confusion_metrics}\")\n"
      ]
    },
    {
      "cell_type": "code",
      "execution_count": null,
      "metadata": {
        "id": "kRc-nCIRuKX7",
        "colab": {
          "base_uri": "https://localhost:8080/"
        },
        "outputId": "ef4e22ff-99c3-4bf6-fbaa-39c0ee682812"
      },
      "outputs": [
        {
          "output_type": "stream",
          "name": "stdout",
          "text": [
            "[KNN] Overall Evaluation Metrics:\n",
            "Accuracy: 0.8890701468189234\n",
            "Precision: [0.93984962 0.75816993 0.92268041]\n",
            "Recall: [0.87719298 0.81690141 0.96236559]\n",
            "F1 Score: [0.90744102 0.78644068 0.94210526]\n",
            "Confusion Metrics: [[250  32   3]\n",
            " [ 14 116  12]\n",
            " [  2   5 179]]\n"
          ]
        }
      ],
      "source": [
        "from sklearn.neighbors import KNeighborsClassifier\n",
        "from sklearn.metrics import accuracy_score, precision_score, recall_score, f1_score, confusion_matrix\n",
        "import pandas as pd\n",
        "import numpy as np\n",
        "\n",
        "# Load the extracted features and labels from the CSV files\n",
        "train_data = pd.read_csv(\"Train_combined_file.csv\")\n",
        "test_data = pd.read_csv(\"Test_combined_file.csv\")\n",
        "\n",
        "# Separate features and labels\n",
        "train_features = train_data.drop(\"label\", axis=1).values\n",
        "train_labels = train_data[\"label\"].values\n",
        "test_features = test_data.drop(\"label\", axis=1).values\n",
        "test_labels = test_data[\"label\"].values\n",
        "\n",
        "# Initialize and train the KNN classifier\n",
        "#knn_classifier = KNeighborsClassifier(n_neighbors=27)\n",
        "knn_classifier = KNeighborsClassifier(n_neighbors=5)  # You can adjust the number of neighbors as needed\n",
        "knn_classifier.fit(train_features, train_labels)\n",
        "\n",
        "# Make predictions on the test set\n",
        "test_predictions = knn_classifier.predict(test_features)\n",
        "\n",
        "# Evaluate the KNN classifier\n",
        "accuracy = accuracy_score(test_labels, test_predictions)\n",
        "precision = precision_score(test_labels, test_predictions, average=None, zero_division=0)\n",
        "recall = recall_score(test_labels, test_predictions, average=None)\n",
        "f1 = f1_score(test_labels, test_predictions, average=None)\n",
        "confusion_metrics = confusion_matrix(test_labels, test_predictions)\n",
        "\n",
        "print(\"[KNN] Overall Evaluation Metrics:\")\n",
        "print(f\"Accuracy: {accuracy}\")\n",
        "print(f\"Precision: {precision}\")\n",
        "print(f\"Recall: {recall}\")\n",
        "print(f\"F1 Score: {f1}\")\n",
        "print(f\"Confusion Metrics: {confusion_metrics}\")\n"
      ]
    }
  ],
  "metadata": {
    "accelerator": "GPU",
    "colab": {
      "gpuType": "T4",
      "provenance": []
    },
    "kernelspec": {
      "display_name": "Python 3",
      "language": "python",
      "name": "python3"
    },
    "language_info": {
      "name": "python",
      "version": "3.7.9"
    },
    "vscode": {
      "interpreter": {
        "hash": "f6c3fe0f35ac205adeee3d33d4d27f45ea8735944f6bcc7cc4d72c9672a115a8"
      }
    }
  },
  "nbformat": 4,
  "nbformat_minor": 0
}
